{
 "cells": [
  {
   "cell_type": "markdown",
   "metadata": {},
   "source": [
    "Sending an e-mail :"
   ]
  },
  {
   "cell_type": "code",
   "execution_count": null,
   "metadata": {},
   "outputs": [],
   "source": [
    "# Allow less secure apps first : https://myaccount.google.com/lesssecureapps?pli=1&rapt=AEjHL4Mm9e0_M6ijQ14K5o5KnPjQ6D9CTUHqnt-wZaigWyKVGOyxYPIqsGtRPL5Ye7frM6zE3dnWBxENudHWLqCskPLFnWCWwQ \n",
    "import smtplib\n",
    "password = \n",
    "server = smtplib.SMTP(\"smtp.gmail.com\", 587)\n",
    "server.starttls()\n",
    "\n",
    "server.login(\"selmankorall\", password)\n",
    "message = \"\\n This mail is sent via vscode. Hope you are doing fine. \\n Sincerely,\\nKoral\"\n",
    "mails = [\"selmankorall@gmail.com\"]\n",
    "server.sendmail(\"selmankorall@gmail.com\", mails, message)\n",
    "server.quit()"
   ]
  },
  {
   "cell_type": "code",
   "execution_count": null,
   "metadata": {},
   "outputs": [],
   "source": [
    "import smtplib\n",
    "server = smtplib.SMTP(\"smtp.gmail.com\", 587)\n",
    "server.starttls()\n",
    "\n",
    "server.login(\"necati.sakir.74\", password)\n",
    "message = \"\\n Bu benim son dersim. Herkese selam olsun. Gorusmek uzere \\n\"\n",
    "\n",
    "mails = [\"abdurrahmankucuk90@gmail.com\",\n",
    "         \"nurettinakinoral@gmail.com\",\n",
    "         \"hakanyusufbeyli@gmail.com\",\n",
    "         \"fthgnydn34@gmail.com\",\n",
    "         \"tarknsahin@gmail.com\",\n",
    "         \"sfrancisclarus@gmail.com\",\n",
    "         \"ozdemiraziz@gmail.com\"]\n",
    "\n",
    "server.sendmail(\"necati.sakir.74@gmail.com\", mails, message)\n",
    "server.quit()"
   ]
  },
  {
   "cell_type": "markdown",
   "metadata": {},
   "source": [
    "Bir listeden dict key'leri oluşturma:"
   ]
  },
  {
   "cell_type": "code",
   "execution_count": 2,
   "metadata": {},
   "outputs": [
    {
     "data": {
      "text/plain": [
       "{'apple': 0, 'pear': 0, 'orange': 0}"
      ]
     },
     "execution_count": 2,
     "metadata": {},
     "output_type": "execute_result"
    }
   ],
   "source": [
    "my_list = [\"apple\", \"pear\", \"orange\"]\n",
    "my_dict = {}.fromkeys(my_list, 0)\n",
    "my_dict"
   ]
  },
  {
   "cell_type": "code",
   "execution_count": 5,
   "metadata": {},
   "outputs": [
    {
     "data": {
      "text/plain": [
       "{'apple': 2, 'pear': 2, 'orange': 2}"
      ]
     },
     "execution_count": 5,
     "metadata": {},
     "output_type": "execute_result"
    }
   ],
   "source": [
    "for i in my_dict:\n",
    "\tmy_dict[i] += 2\n",
    "my_dict"
   ]
  },
  {
   "cell_type": "code",
   "execution_count": 9,
   "metadata": {},
   "outputs": [
    {
     "data": {
      "text/plain": [
       "[[1, [2, 3], 4]]"
      ]
     },
     "execution_count": 9,
     "metadata": {},
     "output_type": "execute_result"
    }
   ],
   "source": [
    "L1 = []\n",
    "L1.append([1, [2, 3], 4])\n",
    "L1.extend([7, 8, 9])\n",
    "print(L1[0][1][1] + L1[2])\n",
    "\n",
    "#L1 = [ 1, [2, 3], 4, 7, 8, 9 ]"
   ]
  },
  {
   "cell_type": "markdown",
   "metadata": {},
   "source": [
    "CSV reading"
   ]
  },
  {
   "cell_type": "code",
   "execution_count": 25,
   "metadata": {},
   "outputs": [
    {
     "name": "stdout",
     "output_type": "stream",
     "text": [
      "Series_reference,Period,Data_value,Suppressed,STATUS,UNITS,Magnitude,Subject,Group,Series_title_1,Series_title_2,Series_title_3,Series_title_4,Series_title_5\n",
      "ECTA.S19A1,2001.03,2462.5,,F,Dollars,6,EC trnsctns (ANZSIC06) - ECT,Total values - EC trnsctns A/S/T by division,Actual,RTS total industries,,,\n",
      "ECTA.S19A1,2002.03,17177.2,,F,Dollars,6,EC trnsctns (ANZSIC06) - ECT,Total values - EC trnsctns A/S/T by division,Actual,RTS total industries,,,\n",
      "ECTA.S19A1,2003.03,22530.5,,F,Dollars,6,EC trnsctns (ANZSIC06) - ECT,Total values - EC trnsctns A/S/T by division,Actual,RTS total industries,,,\n",
      "ECTA.S19A1,2004.03,28005.1,,F,Dollars,6,EC trnsctns (ANZSIC06) - ECT,Total values - EC trnsctns A/S/T by division,Actual,RTS total industries,,,\n",
      "ECTA.S19A1,2005.03,30629.6,,F,Dollars,6,EC trnsctns (ANZSIC06) - ECT,Total values - EC trnsctns A/S/T by division,Actual,RTS total industries,,,\n",
      "ECTA.S19A1,2006.03,33317.4,,F,Dollars,6,EC trnsctns (ANZSIC06) - ECT,Total values - EC trnsctns A/S/T by division,Actual,RTS total industries,,,\n",
      "ECTA.S19A1,2007.03,36422,,F,Dollars,6,EC trnsctns (ANZSIC06) - ECT,Total values - EC trnsctns A/S/T by division,Actual,RTS total industries,,,\n",
      "ECTA.S19A1,2008.03,39198,,F,Dollars,6,EC trnsctns (ANZSIC06) - ECT,Total values - EC trnsctns A/S/T by division,Actual,RTS total industries,,,\n",
      "ECTA.S19A1,2009.03,40629.4,,F,Dollars,6,EC trnsctns (ANZSIC06) - ECT,Total values - EC trnsctns A/S/T by division,Actual,RTS total industries,,,\n",
      "\n"
     ]
    }
   ],
   "source": [
    "import csv \n",
    "path = \"C:/Users/koral/Downloads/electronic-card-transactions-february-2022-csv-tables.csv\"\n",
    "with open(path, 'r', newline = '', encoding = 'utf-8') as file:\n",
    "    csv_rows = csv.reader(file, delimiter = ',')  # we specified a char \":\" that is not used. Default delimiter value is ','\n",
    "                                                  # in the csv file as a value of delimiter\n",
    "    print(file.read())"
   ]
  },
  {
   "cell_type": "code",
   "execution_count": 26,
   "metadata": {},
   "outputs": [
    {
     "name": "stdout",
     "output_type": "stream",
     "text": [
      "wordlist :  ['Hello', 'apple', 'pie']\n",
      "word :  Hello\n",
      "{'H': 1, 'e': 1, 'l': 2, 'o': 1}\n",
      "longest_rep :  2\n",
      "word :  apple\n",
      "{'a': 1, 'p': 2, 'l': 1, 'e': 1}\n",
      "longest_rep :  2\n",
      "word :  pie\n",
      "{'p': 1, 'i': 1, 'e': 1}\n",
      "longest_rep :  2\n"
     ]
    }
   ],
   "source": [
    "\"\"\"pseoudo code:\n",
    "-listeyi for loop'la\n",
    "-her kelimedeki her harfi o kelimede for loop'la\n",
    "-harfleri dict'e ekle, tekrar sayılarını value olarak ekle ve artır\n",
    "-harfin tekrar sayısı >1 ise tekrar sayısını longest_rep'e eşitle ve kelimeyi the_word'e eşitle\n",
    "-\n",
    "\"\"\"\n",
    "\n",
    "input1 = \"Hello apple pie\"\n",
    "input2 = \"No words\"\n",
    "def SearchingChallenge(str):\n",
    "\twordlist = str.split()\n",
    "\tprint(\"wordlist : \",wordlist)  # TEST PURPOSE\n",
    "\tlongest_rep = 0\n",
    "\tthe_word = {}\n",
    "\n",
    "\t# if len(word) > longest_rep:\n",
    "\tfor word in wordlist:\n",
    "\t\t#var_name = \"word_num\" + str(str.split().index(word))\n",
    "\t\t# print(str(str.split().index(word)))\n",
    "\t\tprint(\"word : \",word) # TEST PURPOSE\n",
    "\t\tfor char in word:\n",
    "\t\t\tif char in the_word:\n",
    "\t\t\t\tthe_word[char] += 1\n",
    "\t\t\telse:\n",
    "\t\t\t\tthe_word[char] = 1\n",
    "\t\t\t\n",
    "\t\t\tif max(the_word.values()) > longest_rep:\n",
    "\t\t\t\tlongest_rep = max(the_word.values())\n",
    "\t\t\t\t\n",
    "\t\tprint(the_word)  # TEST PURPOSE\n",
    "\t\tprint(\"longest_rep : \",longest_rep) # TEST PURPOSE\n",
    "\t\tthe_word= {}\n",
    "\t\t\n",
    "\n",
    "SearchingChallenge(input1)"
   ]
  },
  {
   "cell_type": "markdown",
   "metadata": {},
   "source": [
    "Creating a Random library :"
   ]
  },
  {
   "cell_type": "code",
   "execution_count": 24,
   "metadata": {},
   "outputs": [
    {
     "name": "stdout",
     "output_type": "stream",
     "text": [
      "16\n",
      "16\n",
      "81\n",
      "81\n",
      "49\n",
      "36\n",
      "36\n",
      "36\n",
      "36\n",
      "36\n"
     ]
    }
   ],
   "source": [
    "def serdar_Random(a,b):\n",
    "    import time\n",
    "    z = abs(a-b)\n",
    "    while True:\n",
    "      s =\"\"\n",
    "      while True:\n",
    "        s = str(int((time.time()*1000000)%10))\n",
    "        q = str(int((time.time()*1000000)%10))\n",
    "        w = int(s)*int(q)\n",
    "        if w > a and int(s)<b :\n",
    "          break\n",
    "      return w\n",
    "for i in range(10):\n",
    "  print(serdar_Random(1,20))"
   ]
  },
  {
   "cell_type": "markdown",
   "metadata": {},
   "source": [
    "Q1 : Define a function named my_min to find the min of the inputted numbers."
   ]
  },
  {
   "cell_type": "code",
   "execution_count": 25,
   "metadata": {},
   "outputs": [
    {
     "data": {
      "text/plain": [
       "-5"
      ]
     },
     "execution_count": 25,
     "metadata": {},
     "output_type": "execute_result"
    }
   ],
   "source": [
    "def my_min(*args):\n",
    "\tmin_value = 9**20\n",
    "\tmy_list=args\n",
    "\tfor i in args:\n",
    "\t\tif i < min_value:\n",
    "\t\t\tmin_value = i\n",
    "\treturn min_value\n",
    "my_min(5,-5,+1,-2)"
   ]
  },
  {
   "cell_type": "markdown",
   "metadata": {},
   "source": [
    "Q2 : Define a function named my_sum to return the sum of all int type inputted numbers."
   ]
  },
  {
   "cell_type": "code",
   "execution_count": 26,
   "metadata": {},
   "outputs": [
    {
     "data": {
      "text/plain": [
       "20"
      ]
     },
     "execution_count": 26,
     "metadata": {},
     "output_type": "execute_result"
    }
   ],
   "source": [
    "def my_sum(*args):\n",
    "\treturn sum(args)\n",
    "my_sum(5,6,9)"
   ]
  },
  {
   "cell_type": "markdown",
   "metadata": {},
   "source": [
    "Q3 : Define a function named my_fact to calculate factorial of the given number. Given a non-negative integer return the factorial of the integer.\n",
    "\n",
    "(Example: The factorial of 5 is: 5*4*3*2*1 = 120 and factorial of 0 is: 1)"
   ]
  },
  {
   "cell_type": "code",
   "execution_count": 31,
   "metadata": {},
   "outputs": [
    {
     "data": {
      "text/plain": [
       "120"
      ]
     },
     "execution_count": 31,
     "metadata": {},
     "output_type": "execute_result"
    }
   ],
   "source": [
    "def my_fact(arg):\n",
    "\tfacto=1\n",
    "\t#facto = lambda x: x*i for i in range(arg):\n",
    "\tfor i in range(1,arg+1):\n",
    "\t\tfacto *= i\n",
    "\treturn facto\n",
    "my_fact(5)"
   ]
  },
  {
   "cell_type": "markdown",
   "metadata": {},
   "source": [
    "Q4 : Given a list, return the most frequent (repeating) element.\n",
    "\n",
    "Note : If there are the same number of repeating elements, it returns the first element that repeats most from left to right in the list."
   ]
  },
  {
   "cell_type": "code",
   "execution_count": 50,
   "metadata": {},
   "outputs": [
    {
     "name": "stdout",
     "output_type": "stream",
     "text": [
      "3\n"
     ]
    }
   ],
   "source": [
    "\"\"\"\n",
    "listeyi for loopla\n",
    "item eğer dictte yoksa ekle, değerine 1 ata\n",
    "\titem eğer dictte var ise değerini 1 arttır\n",
    "value'su en fazla olanın key'ini yazdır\n",
    "\"\"\"\n",
    "# sample_list = [-2,-1,0,1,2,3,3,3,3,4,4,5,5]\n",
    "def most_freq(given_list):\n",
    "\tdct = {}\n",
    "\tfor i in given_list:\n",
    "\t\tif i not in dct:\n",
    "\t\t\tdct[i] = 1\n",
    "\t\telse:\n",
    "\t\t\tdct[i] += 1\n",
    "\tmax_rep_times = max(dct.values())  # most repetition times is <4>, as a value of a key\n",
    "\tindex_of_the_num = list(dct.values()).index(max_rep_times)  # 4 is the value of 3 and index of 3 is <5>\n",
    "\tmax_rep_num = list(dct.keys())[index_of_the_num]  # 5th index in key list equals to 3, which is the key for 4\n",
    "\treturn max_rep_num\n",
    "\n",
    "print(most_freq([-2,-1,0,1,2,3,3,3,3,4,4,5,5])) "
   ]
  },
  {
   "cell_type": "code",
   "execution_count": 2,
   "metadata": {},
   "outputs": [
    {
     "ename": "AttributeError",
     "evalue": "'NoneType' object has no attribute 'area'",
     "output_type": "error",
     "traceback": [
      "\u001b[1;31m---------------------------------------------------------------------------\u001b[0m",
      "\u001b[1;31mAttributeError\u001b[0m                            Traceback (most recent call last)",
      "\u001b[1;32m~\\AppData\\Local\\Temp/ipykernel_7148/1339787106.py\u001b[0m in \u001b[0;36m<module>\u001b[1;34m\u001b[0m\n\u001b[0;32m     48\u001b[0m \u001b[1;33m\u001b[0m\u001b[0m\n\u001b[0;32m     49\u001b[0m \u001b[0mc\u001b[0m \u001b[1;33m=\u001b[0m \u001b[0mCircle\u001b[0m\u001b[1;33m(\u001b[0m\u001b[1;36m5\u001b[0m\u001b[1;33m)\u001b[0m\u001b[1;33m\u001b[0m\u001b[1;33m\u001b[0m\u001b[0m\n\u001b[1;32m---> 50\u001b[1;33m \u001b[0mc\u001b[0m\u001b[1;33m.\u001b[0m\u001b[0marea\u001b[0m\u001b[1;33m(\u001b[0m\u001b[1;33m)\u001b[0m\u001b[1;33m\u001b[0m\u001b[1;33m\u001b[0m\u001b[0m\n\u001b[0m\u001b[0;32m     51\u001b[0m \u001b[0mc\u001b[0m\u001b[1;33m.\u001b[0m\u001b[0mperimeter\u001b[0m\u001b[1;33m(\u001b[0m\u001b[1;33m)\u001b[0m\u001b[1;33m\u001b[0m\u001b[1;33m\u001b[0m\u001b[0m\n\u001b[0;32m     52\u001b[0m \u001b[0mc\u001b[0m\u001b[1;33m.\u001b[0m\u001b[0mtoString\u001b[0m\u001b[1;33m(\u001b[0m\u001b[1;33m)\u001b[0m\u001b[1;33m\u001b[0m\u001b[1;33m\u001b[0m\u001b[0m\n",
      "\u001b[1;31mAttributeError\u001b[0m: 'NoneType' object has no attribute 'area'"
     ]
    }
   ],
   "source": [
    "#dataiteam's proje ödevi.   xxx Check Again. Bi hata vardı\n",
    "from abc import ABC, abstractmethod\n",
    "# genel olarak inheritance'a çalışmış olacağız\n",
    "class Shape:\n",
    "\t\"\"\"\n",
    "\t\tShape = super class / abstract class\n",
    "\t\"\"\"\n",
    "\t#abstract method konularını çalışacağız\n",
    "\t@abstractmethod\n",
    "\tdef area(self): pass\n",
    "\t@abstractmethod\n",
    "\tdef perimeter(self): pass\n",
    "\n",
    "\t#overriding ve polymorphizm konularını çalışacağız\n",
    "\tdef toString(self): pass\n",
    "\n",
    "#child\n",
    "class Square(Shape):\n",
    "\t\"sub class\"\n",
    "\tdef __init__(self, edge):\n",
    "\t\tself.__edge = edge  # dışarıdan erişimin olmaması için encapsulation uyguluyoruz\n",
    "\n",
    "\tdef area(self):\n",
    "\t\tresult = self.__edge**2\n",
    "\t\tprint(\"Square area\", result)\n",
    "\tdef perimeter(self):\n",
    "\t\tresult = self.__edge*4\n",
    "\t\tprint(\"Square perimeer: \", result)\n",
    "\t\n",
    "\tdef toString(self):\n",
    "\t# burada override ve polymorphizm kullanmış oluyoruz\n",
    "\t\tprint(\"Square edge: \", self.__edge)\n",
    "\n",
    "#child\n",
    "def Circle(Shape):\n",
    "\t\"circle class\"\n",
    "\tPI = 3.14  #constant variable tanımladık (büyük harflerle), bu değer hiç değişmeyecek\n",
    "\tdef __init__(self, radius):\n",
    "\t\tself.__radius = radius\n",
    "\n",
    "\tdef area(self):\n",
    "\t\tresult = self.PI*self.__radius**2\n",
    "\t\tprint(\"Circle area: \", result)\n",
    "\tdef perimeter(self):\n",
    "\t\tresult = 2 * self.PI * self.__radius  #2*PI*r\n",
    "\t\tprint(\"Circle perimeter: \",result)\n",
    "\tdef toString(self):\n",
    "\t\tprint(\"Circle radius: \",self.__radius)\n",
    "\n",
    "c = Circle(5)\n",
    "c.area()\n",
    "c.perimeter()\n",
    "c.toString()"
   ]
  },
  {
   "cell_type": "code",
   "execution_count": 19,
   "metadata": {},
   "outputs": [
    {
     "data": {
      "text/plain": [
       "<bound method HesapMakinesi.clarusway of <__main__.HesapMakinesi object at 0x000002A4FAA6D310>>"
      ]
     },
     "execution_count": 19,
     "metadata": {},
     "output_type": "execute_result"
    }
   ],
   "source": [
    "# xxx Check Again\n",
    "class HesapMakinesi(object):\n",
    "\t\"Hesap Makinesi\"\n",
    "\tdef __init__(self,a,b):\n",
    "\t\t\"value'leri initialize eder\"\n",
    "\t\tself.value1 = a\n",
    "\t\tself.value2 = b\n",
    "\n",
    "\t\tpass\n",
    "\tdef topla(self):\n",
    "\t\t\"toplar. a+b = result -> return result\"\n",
    "\t\tprint(self.value1 + self.value2)\n",
    "\t\t# return self.value1 + self.value2\n",
    "\t\t\n",
    "\n",
    "\tdef clarusway(self):\n",
    "\t\t\"çarpar. a*b = result -> return result\"\n",
    "\t\tprint(self.value1 * self.value2)\n",
    "\t\t# return self.value1 * self.value2\n",
    "\n",
    "\n",
    "q = 5\n",
    "w = 3\n",
    "cal1 = HesapMakinesi(q,w)\n",
    "cal1.clarusway\n",
    "\n"
   ]
  },
  {
   "cell_type": "code",
   "execution_count": 26,
   "metadata": {},
   "outputs": [
    {
     "name": "stdout",
     "output_type": "stream",
     "text": [
      "(1, 4)\n",
      "1\n"
     ]
    }
   ],
   "source": [
    "# Kullaniminda tuple geliyor kaç tane icerdigiyle ilgili de veri var o yüzden en çok bulunan icin su kullanilabilir.\n",
    "\n",
    "from collections import Counter\n",
    "list_of_num = [1,1,1,1, 2, 3,3, 4,4,4]\n",
    "b = Counter(list_of_num).most_common()\n",
    "print(b[0])\n",
    "print(b[0][0])"
   ]
  },
  {
   "cell_type": "code",
   "execution_count": 35,
   "metadata": {},
   "outputs": [
    {
     "data": {
      "text/plain": [
       "(1, 4)"
      ]
     },
     "execution_count": 35,
     "metadata": {},
     "output_type": "execute_result"
    }
   ],
   "source": [
    "liste = [1,1,1,1, 2, 3,3, 4,4,4]\n",
    "\n",
    "def fonk(liste):\n",
    "    dic = { i:liste.count(i) for i in set(liste) }\n",
    "    dic = sorted(dic.items(), key=lambda x: x[1])\n",
    "    return dic.pop()  # burada kalan dicti değil, pop edilen kısmı return eder !!!\n",
    "\n",
    "k, v = fonk(liste)\n",
    "k"
   ]
  }
 ],
 "metadata": {
  "interpreter": {
   "hash": "b3ba2566441a7c06988d0923437866b63cedc61552a5af99d1f4fb67d367b25f"
  },
  "kernelspec": {
   "display_name": "Python 3.9.7 ('base')",
   "language": "python",
   "name": "python3"
  },
  "language_info": {
   "codemirror_mode": {
    "name": "ipython",
    "version": 3
   },
   "file_extension": ".py",
   "mimetype": "text/x-python",
   "name": "python",
   "nbconvert_exporter": "python",
   "pygments_lexer": "ipython3",
   "version": "3.9.7"
  },
  "orig_nbformat": 4
 },
 "nbformat": 4,
 "nbformat_minor": 2
}
