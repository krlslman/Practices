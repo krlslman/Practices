##Given a string (clarusway) and an index number int n (n=3), return a new string where the character at index n has been removed.  ;=  CLAUSWAY
word = 'clarusway'
n=3
len_word=len(word)
print(word.strip(""))



#- **Mathematical Operations**

print(4**2)

print(46/23) # **division gives float**  [ =2.0 ]

print(7 // 2)  # it gives integer part of division  [ =3 ]

print(9 % 2)  # remainder of this division is 1, so it is an odd number

print(64**(1/2)) # square root


#- **String Operations**

print('smoking', 'is', 'slowly', 'killing me', sep='_')

#print fonksiyonunda sep ayarlamazsak default olarak expression’lar arasına boşluk koyar.

# - \n: means new line,
# - \t: means tab mark,
# - \b: means backspace. It moves the cursor one character to the left.
print("""benim adım ‘kamil’ onun adı “hasan” """) # : Bu şekilde kullanırsak hata vermez
# - 
# - Arithmetic syntax (+,  and =),
# - % operator formatting,
# - string.format() method,
# - f-string formatting.
    
phrase = 'I have %d %s and %.2f brothers' % (4, "children", 5)
    
    # = I have 4 children and 5.00 brothers
    
print('we', '\bare', '\bunited') #  remember, normally print() function separates expressions by spaces [ =weareunited ]
    
   # **⚠️Avoid ! :**
    
   # - Be careful, when using 👉🏻\ in the long string. It may cause error because of its functionality described above. Using 👉🏻\\ guarantees no error.

#💡Tips:

# - In the '%s' syntax : s stands for 'string'.
# - In the '%.2f' syntax : f stands for 'float'. In this example 2 digits after point.
# - In the '%d' syntax : d stands for 'numeric'.
sentence = "apologizing is a virtue"
        
print("%.11s" % sentence) #we get first 11 characters of the string
fruit='banana'
amount=3
print('The amount of {} we bought is {} pounds'.format(fruit, amount))
        

# The formula syntax is : string.method()

# - str.strip() : removes all spaces (or specified characters) from both sides.
# - str.rstrip() : removes spaces (or specified characters) from the right side.
# - str.lstrip() : removes spaces (or specified characters) from the left side.

# - Boolen Operations

# OR ve AND -Boolen Operations’daki detayı;
# OR’ da True  baskın (ör: False OR True  = True  )
# AND’ de False baskın (ör: False AND True  = False)


# - List
empty_list_1=[]
city = [1,2,3,'New York', 'Stockholm', 'Istanbul']  
my_list=empty_list_1.append('114')
city.insert(2, 'Stockholm')
#city.sort()
print(len(city))
city[1] = 'Melbourne' # we assign 'Melbourne' to index 2 (this is how we change index 1)
print(my_list,city)

 
print("pop : ",city.pop(1))   # pop works with index
city.remove('New York')       # remove works with value
print("removed : ", city)
del city[0]                  # del works with index
print("deleted : ", city)

numbers = [1, 3, 5, 7, 9, 11, 13, 15, 17]
print(numbers[4:7])  # we get the elements from index=4 to index=7(7 is not included)

count = list(range(11))
print(count)

print(count[0:11:2])

#my_list[:]: returns the full copy of the sequence

#my_list[start:] : returns elements from start to the end element

#my_list[:stop] : returns element from the 1st element to stop-1

#my_list[::step] : returns each element with a given step

animals = ['elephant', 'bear', 'fox', 'wolf', 'rabbit', 'deer', 'giraffe']
print(animals[:])  # all elements of the list
print(animals[2:])  # from fox to last
print(animals[:2])  # from beginning to fox
print(animals[::2])  # from beginning to end ; step=2
print("\treversed")
print(animals[::-1])  #reverse the list
print(animals[-4])  #from the last to beginning
print(animals[:-4:-1])  #last 3 items 
print(animals[-2:-5:-1])  #last 3 items  *when reversed, the last item starts from not 0 but -1
print(animals[-5:5])  # when step is not indicated, it equals to 1 and 
#direction is from left to right. Dont get confused by a negative start.

even_numbers = [2, 4, 6, 8, 10, 12, 14, 16, 18, 20]
print(even_numbers[4:9])
print(len([[12, 34, 56]]))
print(len([[12, 34, 56]][0]))

list_x = ['a', 'b', 'c']
list_y = list(list_x)  # list function takes every single inside-item, so nothing changed here
print(len(list_y))
list_z = [list_x]  # 
print(len(list_z))

list_a = [1,2,3,4]
list_a.insert(4, 5)  # output equals append function
print(list_a)

ord("@")  # ord fonksiyonu string'lerin ascii sırasını verir.
ord("z")
list=["z","a","@"]
list.sort()
print(list)

chr(100)

empty_tuple = ()
print(type(empty_tuple),"\n")

try_tuple = ('love')  # exception: one single element is count as a string
print(type(try_tuple))
try_tuple = ('love',)  # always use a comma when defining a singleton tuple.
print(type(try_tuple),"\n")

my_tuple=(1, 4, 3, 4, 5, 6, 7, 4)
my_list = list(my_tuple)
print(type(my_list), my_list)
characters=tuple("string example")
print(characters)
print(characters[0:4])
print(characters.count('a'))  # how many ITEMS have 'a' in it? =1 
print(characters.index('x'))  # what is the index of 'x'
my_tuple=('a','m','c','a')
print(my_tuple.index('a'))  # note that it returns the first a's index
#my_tuple[0]='U'    # this gives ERROR since tuples can't be assigned value
