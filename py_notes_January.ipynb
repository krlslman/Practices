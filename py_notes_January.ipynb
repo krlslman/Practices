{
  "nbformat": 4,
  "nbformat_minor": 0,
  "metadata": {
    "colab": {
      "name": "py_notes_January.ipynb",
      "provenance": [],
      "authorship_tag": "ABX9TyM/aCbk6GOeM++jGZI+V3rp",
      "include_colab_link": true
    },
    "kernelspec": {
      "name": "python3",
      "display_name": "Python 3"
    },
    "language_info": {
      "name": "python"
    }
  },
  "cells": [
    {
      "cell_type": "markdown",
      "metadata": {
        "id": "view-in-github",
        "colab_type": "text"
      },
      "source": [
        "<a href=\"https://colab.research.google.com/github/krlslman/Python_Practices/blob/main/py_notes_January.ipynb\" target=\"_parent\"><img src=\"https://colab.research.google.com/assets/colab-badge.svg\" alt=\"Open In Colab\"/></a>"
      ]
    },
    {
      "cell_type": "code",
      "execution_count": 1,
      "metadata": {
        "colab": {
          "base_uri": "https://localhost:8080/"
        },
        "id": "aHQRaY90w91N",
        "outputId": "35928f13-7d6d-4948-c735-2ff322d5621d"
      },
      "outputs": [
        {
          "output_type": "stream",
          "name": "stdout",
          "text": [
            "clarusway\n"
          ]
        }
      ],
      "source": [
        "#Given a string (clarusway) and an index number int n (n=3), return a new string where the character at index n has been removed.  ;=  CLAUSWAY\n",
        "word = 'clarusway'\n",
        "n=3\n",
        "len_word=len(word)\n",
        "print(word.strip(\"\"))"
      ]
    },
    {
      "cell_type": "code",
      "source": [
        "\n",
        "\n",
        "#- **Mathematical Operations**\n",
        "\n",
        "print(4**2)\n",
        "\n",
        "print(46/23) # **division gives float**  [ =2.0 ]\n",
        "\n",
        "print(7 // 2)  # it gives integer part of division  [ =3 ]\n",
        "\n",
        "print(9 % 2)  # remainder of this division is 1, so it is an odd number\n",
        "\n",
        "print(64**(1/2)) # square root\n",
        "\n",
        "\n",
        "#- **String Operations**\n",
        "\n",
        "print('smoking', 'is', 'slowly', 'killing me', sep='_')\n",
        "\n",
        "#print fonksiyonunda sep ayarlamazsak default olarak expression’lar arasına boşluk koyar.\n",
        "\n",
        "# - \\n: means new line,\n",
        "# - \\t: means tab mark,\n",
        "# - \\b: means backspace. It moves the cursor one character to the left.\n",
        "print(\"\"\"benim adım ‘kamil’ onun adı “hasan” \"\"\") # : Bu şekilde kullanırsak hata vermez\n",
        "# - \n",
        "# - Arithmetic syntax (+,  and =),\n",
        "# - % operator formatting,\n",
        "# - string.format() method,\n",
        "# - f-string formatting.\n",
        "    \n",
        "phrase = 'I have %d %s and %.2f brothers' % (4, \"children\", 5)\n",
        "    \n",
        "    # = I have 4 children and 5.00 brothers\n",
        "    \n",
        "print('we', '\\bare', '\\bunited') #  remember, normally print() function separates expressions by spaces [ =weareunited ]\n",
        "    \n",
        "   # **⚠️Avoid ! :**\n",
        "    \n",
        "   # - Be careful, when using 👉🏻\\ in the long string. It may cause error because of its functionality described above. Using 👉🏻\\\\ guarantees no error.\n",
        "\n",
        "#💡Tips:\n",
        "\n",
        "# - In the '%s' syntax : s stands for 'string'.\n",
        "# - In the '%.2f' syntax : f stands for 'float'. In this example 2 digits after point.\n",
        "# - In the '%d' syntax : d stands for 'numeric'.\n",
        "sentence = \"apologizing is a virtue\"\n",
        "        \n",
        "print(\"%.11s\" % sentence) #we get first 11 characters of the string\n",
        "fruit='banana'\n",
        "amount=3\n",
        "print('The amount of {} we bought is {} pounds'.format(fruit, amount))\n",
        "        \n",
        "\n",
        "# The formula syntax is : string.method()\n",
        "\n",
        "# - str.strip() : removes all spaces (or specified characters) from both sides.\n",
        "# - str.rstrip() : removes spaces (or specified characters) from the right side.\n",
        "# - str.lstrip() : removes spaces (or specified characters) from the left side.\n",
        "\n",
        "# - Boolen Operations\n",
        "\n",
        "# OR ve AND -Boolen Operations’daki detayı;\n",
        "# OR’ da True  baskın (ör: False OR True  = True  )\n",
        "# AND’ de False baskın (ör: False AND True  = False)\n",
        "\n",
        "\n",
        "# - List\n",
        "empty_list_1=[]\n",
        "city = [1,2,3,'New York', 'Stockholm', 'Istanbul']  \n",
        "my_list=empty_list_1.append('114')\n",
        "city.insert(2, 'Stockholm')\n",
        "#city.sort()\n",
        "print(len(city))\n",
        "city[1] = 'Melbourne' # we assign 'Melbourne' to index 2 (this is how we change index 1)\n",
        "print(my_list,city)\n",
        "\n",
        " \n",
        "print(\"pop : \",city.pop(1))   # pop works with index\n",
        "city.remove('New York')       # remove works with value\n",
        "print(\"removed : \", city)\n",
        "del city[0]                  # del works with index\n",
        "print(\"deleted : \", city)\n"
      ],
      "metadata": {
        "colab": {
          "base_uri": "https://localhost:8080/"
        },
        "id": "1fb5JS2NRdG_",
        "outputId": "06ff5f8e-f3d7-415f-80b0-f2db78ff35b4"
      },
      "execution_count": 3,
      "outputs": [
        {
          "output_type": "stream",
          "name": "stdout",
          "text": [
            "16\n",
            "2.0\n",
            "3\n",
            "1\n",
            "8.0\n",
            "smoking_is_slowly_killing me\n",
            "benim adım ‘kamil’ onun adı “hasan” \n",
            "we \bare \bunited\n",
            "apologizing\n",
            "The amount of banana we bought is 3 pounds\n",
            "7\n",
            "None [1, 'Melbourne', 'Stockholm', 3, 'New York', 'Stockholm', 'Istanbul']\n",
            "pop :  Melbourne\n",
            "removed :  [1, 'Stockholm', 3, 'Stockholm', 'Istanbul']\n",
            "deleted :  ['Stockholm', 3, 'Stockholm', 'Istanbul']\n"
          ]
        }
      ]
    }
  ]
}