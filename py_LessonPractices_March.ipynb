{
  "nbformat": 4,
  "nbformat_minor": 0,
  "metadata": {
    "colab": {
      "name": "py_LessonPractices_March.ipynb",
      "provenance": [],
      "collapsed_sections": []
    },
    "kernelspec": {
      "name": "python3",
      "display_name": "Python 3"
    },
    "language_info": {
      "name": "python"
    }
  },
  "cells": [
    {
      "cell_type": "markdown",
      "source": [
        "#List Comprehension"
      ],
      "metadata": {
        "id": "l4yc8Kaxhcz8"
      }
    },
    {
      "cell_type": "code",
      "execution_count": null,
      "metadata": {
        "colab": {
          "base_uri": "https://localhost:8080/"
        },
        "id": "rqNAiEkobrUA",
        "outputId": "f07f9465-60f5-468d-e351-45e136c03f1d"
      },
      "outputs": [
        {
          "output_type": "stream",
          "name": "stdout",
          "text": [
            "[1, 2, 3]\n",
            "[4, 5]\n",
            "[6, 7, 8, 9]\n"
          ]
        }
      ],
      "source": [
        "my_list = [[1, 2, 3], [4, 5], [6, 7, 8, 9]]\n",
        "for i in my_list:\n",
        "  print(i)"
      ]
    },
    {
      "cell_type": "code",
      "source": [
        "my_list = [[1, 2, 3], [4, 5], [6, 7, 8, 9]]\n",
        "list_copy = [i for i in my_list]\n",
        "print(list_copy)"
      ],
      "metadata": {
        "colab": {
          "base_uri": "https://localhost:8080/"
        },
        "id": "5g6_ol2FjurK",
        "outputId": "a6aee9c1-17d4-43b1-d2a0-928201cc32a2"
      },
      "execution_count": null,
      "outputs": [
        {
          "output_type": "stream",
          "name": "stdout",
          "text": [
            "[[1, 2, 3], [4, 5], [6, 7, 8, 9]]\n"
          ]
        }
      ]
    },
    {
      "cell_type": "code",
      "source": [
        "my_list = [[1, 2, 3], [4, 5], [6, 7, 8, 9]]\n",
        "list_copy = [ ]\n",
        "for i in my_list:\n",
        "  for x in i:\n",
        "    list_copy.append(x)\n",
        "print(list_copy)"
      ],
      "metadata": {
        "colab": {
          "base_uri": "https://localhost:8080/"
        },
        "id": "Om2oIQ9nkcr3",
        "outputId": "d56a0ce4-acc6-4484-f73b-145d56efbc2b"
      },
      "execution_count": null,
      "outputs": [
        {
          "output_type": "stream",
          "name": "stdout",
          "text": [
            "[1, 2, 3, 4, 5, 6, 7, 8, 9]\n"
          ]
        }
      ]
    },
    {
      "cell_type": "code",
      "source": [
        "my_list = [[1, 2, 3], [4, 5], [6, 7, 8, 9]]\n",
        "list_copy = [x for i in my_list for x in i]\n",
        "print(list_copy)\n",
        "#*************************************************************************useful**************************************************"
      ],
      "metadata": {
        "colab": {
          "base_uri": "https://localhost:8080/"
        },
        "id": "Cr_cgYL7logH",
        "outputId": "63d2f489-d27a-4d10-ccc2-2fdeab9dca2c"
      },
      "execution_count": null,
      "outputs": [
        {
          "output_type": "stream",
          "name": "stdout",
          "text": [
            "[1, 2, 3, 4, 5, 6, 7, 8, 9]\n"
          ]
        }
      ]
    },
    {
      "cell_type": "code",
      "source": [
        "#fibonacci blind code\n",
        "fiblist = [1,1]\n",
        "i=0\n",
        "new=0\n",
        "for i in range(8):\n",
        "  new = int(fiblist[-1]) + int(fiblist[-2])\n",
        "  fiblist.append(new)\n",
        "  i+=1\n",
        "print(fiblist)\n"
      ],
      "metadata": {
        "colab": {
          "base_uri": "https://localhost:8080/"
        },
        "id": "iKLF76FPmLBX",
        "outputId": "87940b4f-346b-465c-d813-adfc412206cf"
      },
      "execution_count": null,
      "outputs": [
        {
          "output_type": "stream",
          "name": "stdout",
          "text": [
            "[1, 1, 2, 3, 5, 8, 13, 21, 34, 55]\n"
          ]
        }
      ]
    },
    {
      "cell_type": "markdown",
      "source": [
        "Function practice - return & default values"
      ],
      "metadata": {
        "id": "Ln0CvJTuho04"
      }
    },
    {
      "cell_type": "code",
      "source": [
        "def function_sum_try(a,b,c):\n",
        "  print(\"This will be printed\")\n",
        "  return a+b+c\n",
        "  print(\"This will NOT be printed\")\n",
        "function_sum_try(5,6,7)"
      ],
      "metadata": {
        "colab": {
          "base_uri": "https://localhost:8080/"
        },
        "id": "G6-nzFIi81BG",
        "outputId": "32ed0ff2-4de4-4462-c22d-c42c75581a69"
      },
      "execution_count": null,
      "outputs": [
        {
          "output_type": "stream",
          "name": "stdout",
          "text": [
            "This will be printed\n"
          ]
        },
        {
          "output_type": "execute_result",
          "data": {
            "text/plain": [
              "18"
            ]
          },
          "metadata": {},
          "execution_count": 3
        }
      ]
    },
    {
      "cell_type": "code",
      "source": [
        "def say_hi(name=\"Unknown\"):  # To set default value\n",
        "  print(\"Hi \", name)\n",
        "\n",
        "say_hi()\n",
        "say_hi(\"Koral\")"
      ],
      "metadata": {
        "colab": {
          "base_uri": "https://localhost:8080/"
        },
        "id": "qLXvc8o99U20",
        "outputId": "14f9dbfb-a072-400a-ec14-145cd362f67c"
      },
      "execution_count": null,
      "outputs": [
        {
          "output_type": "stream",
          "name": "stdout",
          "text": [
            "Hi  Unknown\n",
            "Hi  Koral\n"
          ]
        }
      ]
    },
    {
      "cell_type": "markdown",
      "source": [
        "#Inheritance"
      ],
      "metadata": {
        "id": "bpiPHUFmh6fM"
      }
    },
    {
      "cell_type": "code",
      "source": [
        "class Person:\n",
        "  def __init__(self, fname, lname):\n",
        "    self.firstname = fname\n",
        "    self.lastname = lname\n",
        "\n",
        "  def printname(self):\n",
        "    print(self.firstname, self.lastname)\n",
        "\n",
        "#Use the Person class to create an object, and then execute the printname method:\n",
        "\n",
        "x = Person(\"John\", \"Doe\")\n",
        "x.printname()\n",
        "#--------------\n",
        "\n",
        "class Studenta(Person):\n",
        "  pass\n",
        "\n",
        "a = Studenta(\"se\", \"ko\")\n",
        "a.printname()\n",
        "#--------------\n",
        "\n",
        "class Studentb(Person):\n",
        "  def __init__(self, fname, lname):\n",
        "    super().__init__(fname, lname)\n",
        "\n",
        "class Studentc(Person):\n",
        "  def __init__(self, fname, lname, year, try_1):\n",
        "    super().__init__(fname, lname)\n",
        "    self.graduationyear = year\n",
        "    self.deneme = try_1\n",
        "    \n",
        "c = Studentc(\"Mike\", \"Olsen\", 2019, 55)\n",
        "print(c.deneme)\n"
      ],
      "metadata": {
        "colab": {
          "base_uri": "https://localhost:8080/"
        },
        "id": "leY6qJN9iBRi",
        "outputId": "52344e05-5b53-4b80-c71b-0d9e4ea70e2e"
      },
      "execution_count": null,
      "outputs": [
        {
          "output_type": "stream",
          "name": "stdout",
          "text": [
            "John Doe\n",
            "se ko\n",
            "55\n"
          ]
        }
      ]
    },
    {
      "cell_type": "code",
      "source": [
        "# ITARATOR\n",
        "\n",
        "class MyNumbers:\n",
        "  def __iter__(self):\n",
        "    self.a = 2\n",
        "    return self\n",
        "\n",
        "  def __next__(self):\n",
        "    x = self.a\n",
        "    self.a += 5\n",
        "    return x\n",
        "\n",
        "myclass = MyNumbers()\n",
        "myiter = iter(myclass)\n",
        "\n",
        "print(next(myiter))\n",
        "print(next(myiter))\n",
        "print(next(myiter))\n",
        "print(next(myiter))\n",
        "print(next(myiter))"
      ],
      "metadata": {
        "colab": {
          "base_uri": "https://localhost:8080/"
        },
        "id": "68sYW_xKuVy2",
        "outputId": "82e0b509-3bd6-409d-c79c-802bd6843166"
      },
      "execution_count": null,
      "outputs": [
        {
          "output_type": "stream",
          "name": "stdout",
          "text": [
            "2\n",
            "7\n",
            "12\n",
            "17\n",
            "22\n"
          ]
        }
      ]
    },
    {
      "cell_type": "code",
      "source": [
        "#STOP ITAROTOR\n",
        "class MyNumbers:\n",
        "  def __iter__(self):\n",
        "    self.a = 1\n",
        "    return self\n",
        "\n",
        "  def __next__(self):\n",
        "    if self.a <= 20:\n",
        "      x = self.a\n",
        "      self.a += 1\n",
        "      return x\n",
        "    else:\n",
        "      raise StopIteration\n",
        "\n",
        "myclass = MyNumbers()\n",
        "myiter = iter(myclass)\n",
        "\n",
        "for x in myiter:\n",
        "  print(x)"
      ],
      "metadata": {
        "id": "6utWuA8zuYdZ"
      },
      "execution_count": null,
      "outputs": []
    },
    {
      "cell_type": "markdown",
      "source": [
        "#Lesson  7 March 2022 - Instructor: Joseph"
      ],
      "metadata": {
        "id": "9j_101bTpsr6"
      }
    },
    {
      "cell_type": "markdown",
      "source": [
        "ARMSTRONG NUMBER"
      ],
      "metadata": {
        "id": "bmFGfZ50zf5d"
      }
    },
    {
      "cell_type": "code",
      "source": [
        "while True :   \n",
        "    number = input(\"Enter a positive integer number :\")\n",
        "    digits = len(number)\n",
        "    summ = 0   \n",
        "    if not number.isdigit() :       \n",
        "        print(number, \" is invalid entry. Please enter valid input.\")       \n",
        "    elif int(number) >= 0 :       \n",
        "        for i in range(digits) :           \n",
        "            summ = summ + int(number[i]) ** digits          \n",
        "        if summ == int(number) :\n",
        "            print(number, \" is an Armstrong Number.\")\n",
        "            break\n",
        "        else :\n",
        "            print(number, \" is not an Armstrong Number.\")\n",
        "            break"
      ],
      "metadata": {
        "colab": {
          "base_uri": "https://localhost:8080/"
        },
        "id": "eIs49zbspr44",
        "outputId": "1dad1827-a93a-4db5-a727-4ff4df65cc3f"
      },
      "execution_count": null,
      "outputs": [
        {
          "output_type": "stream",
          "name": "stdout",
          "text": [
            "Enter a positive integer number :55\n",
            "55  is not an Armstrong Number.\n"
          ]
        }
      ]
    },
    {
      "cell_type": "markdown",
      "source": [
        "PRIME NUMBER"
      ],
      "metadata": {
        "id": "fJ7Jb7SLzji6"
      }
    },
    {
      "cell_type": "code",
      "source": [
        "n = int(input(\"Enter a positive int number to check if it's a prime number: \"))\n",
        "\n",
        "counter = 0\n",
        "\n",
        "# if modulus operation in range returns more than 2 (dividion by 1 and division by self) it is not prime.\n",
        "# using counter as a parameter, calculate how many modulus exists.\n",
        "\n",
        "for i in range (1, n + 1):\n",
        "    if n % i == 0:\n",
        "        counter += 1\n",
        "\n",
        "if (n ==0) or (n == 1) or (counter >= 3):\n",
        "    print(n, \"is not a prime number.\")\n",
        "else:\n",
        "    print(n, \"is a prime number.\")"
      ],
      "metadata": {
        "id": "pcT7z8qKzecD"
      },
      "execution_count": null,
      "outputs": []
    },
    {
      "cell_type": "markdown",
      "source": [
        "LIST COMPREHENSION"
      ],
      "metadata": {
        "id": "xyTeKP-g0nZW"
      }
    },
    {
      "cell_type": "code",
      "source": [
        "sayılar = []\n",
        "for i in range(6):\n",
        "  sayılar.append(i)\n",
        "  print(sayılar)"
      ],
      "metadata": {
        "colab": {
          "base_uri": "https://localhost:8080/"
        },
        "id": "dBaGb45p0u36",
        "outputId": "47611806-ab8f-4dc8-c31e-7033eb13f289"
      },
      "execution_count": 5,
      "outputs": [
        {
          "output_type": "stream",
          "name": "stdout",
          "text": [
            "[0]\n",
            "[0, 1]\n",
            "[0, 1, 2]\n",
            "[0, 1, 2, 3]\n",
            "[0, 1, 2, 3, 4]\n",
            "[0, 1, 2, 3, 4, 5]\n"
          ]
        }
      ]
    },
    {
      "cell_type": "code",
      "source": [
        "[i for i in range(6)]   # Kendisinden append'li davranır, her seferinde değişen i değerini içinde bulunduğu listeye (köşeli parantez) ekler"
      ],
      "metadata": {
        "colab": {
          "base_uri": "https://localhost:8080/"
        },
        "id": "PWeisPvR1G6t",
        "outputId": "b0f97d67-1151-4452-c582-157563be4387"
      },
      "execution_count": 12,
      "outputs": [
        {
          "output_type": "execute_result",
          "data": {
            "text/plain": [
              "[0, 1, 2, 3, 4, 5]"
            ]
          },
          "metadata": {},
          "execution_count": 12
        }
      ]
    },
    {
      "cell_type": "code",
      "source": [
        "if 9 % 3:\n",
        "  print(\"this does not work since if 0 will not work\")\n",
        "elif 9%2:\n",
        "  print(\"this works since if 1 works\")"
      ],
      "metadata": {
        "colab": {
          "base_uri": "https://localhost:8080/"
        },
        "id": "Q6paREP237XT",
        "outputId": "33e5b9dc-cbf8-4ea0-f1c4-e90151da6a3b"
      },
      "execution_count": 15,
      "outputs": [
        {
          "output_type": "stream",
          "name": "stdout",
          "text": [
            "this works since if 1 works\n"
          ]
        }
      ]
    },
    {
      "cell_type": "code",
      "source": [
        "print(\"if_body\") if 1==1 else print(\"else_body\")\n",
        "print(\"if_body\") if 1==0 else print(\"else_body\")"
      ],
      "metadata": {
        "colab": {
          "base_uri": "https://localhost:8080/"
        },
        "id": "4h1tY44X46qI",
        "outputId": "33795e06-6a79-4533-8635-c9ff7e3fdb19"
      },
      "execution_count": 17,
      "outputs": [
        {
          "output_type": "stream",
          "name": "stdout",
          "text": [
            "if_body\n",
            "else_body\n"
          ]
        }
      ]
    }
  ]
}