{
  "nbformat": 4,
  "nbformat_minor": 0,
  "metadata": {
    "colab": {
      "name": "py_LessonPractices_March.ipynb",
      "provenance": [],
      "collapsed_sections": []
    },
    "kernelspec": {
      "name": "python3",
      "display_name": "Python 3"
    },
    "language_info": {
      "name": "python"
    }
  },
  "cells": [
    {
      "cell_type": "markdown",
      "source": [
        "#List Comprehension"
      ],
      "metadata": {
        "id": "l4yc8Kaxhcz8"
      }
    },
    {
      "cell_type": "code",
      "execution_count": null,
      "metadata": {
        "colab": {
          "base_uri": "https://localhost:8080/"
        },
        "id": "rqNAiEkobrUA",
        "outputId": "f07f9465-60f5-468d-e351-45e136c03f1d"
      },
      "outputs": [
        {
          "output_type": "stream",
          "name": "stdout",
          "text": [
            "[1, 2, 3]\n",
            "[4, 5]\n",
            "[6, 7, 8, 9]\n"
          ]
        }
      ],
      "source": [
        "my_list = [[1, 2, 3], [4, 5], [6, 7, 8, 9]]\n",
        "for i in my_list:\n",
        "  print(i)"
      ]
    },
    {
      "cell_type": "code",
      "source": [
        "my_list = [[1, 2, 3], [4, 5], [6, 7, 8, 9]]\n",
        "list_copy = [i for i in my_list]\n",
        "print(list_copy)"
      ],
      "metadata": {
        "colab": {
          "base_uri": "https://localhost:8080/"
        },
        "id": "5g6_ol2FjurK",
        "outputId": "a6aee9c1-17d4-43b1-d2a0-928201cc32a2"
      },
      "execution_count": null,
      "outputs": [
        {
          "output_type": "stream",
          "name": "stdout",
          "text": [
            "[[1, 2, 3], [4, 5], [6, 7, 8, 9]]\n"
          ]
        }
      ]
    },
    {
      "cell_type": "code",
      "source": [
        "my_list = [[1, 2, 3], [4, 5], [6, 7, 8, 9]]\n",
        "list_copy = [ ]\n",
        "for i in my_list:\n",
        "  for x in i:\n",
        "    list_copy.append(x)\n",
        "print(list_copy)"
      ],
      "metadata": {
        "colab": {
          "base_uri": "https://localhost:8080/"
        },
        "id": "Om2oIQ9nkcr3",
        "outputId": "d56a0ce4-acc6-4484-f73b-145d56efbc2b"
      },
      "execution_count": null,
      "outputs": [
        {
          "output_type": "stream",
          "name": "stdout",
          "text": [
            "[1, 2, 3, 4, 5, 6, 7, 8, 9]\n"
          ]
        }
      ]
    },
    {
      "cell_type": "code",
      "source": [
        "my_list = [[1, 2, 3], [4, 5], [6, 7, 8, 9]]\n",
        "list_copy = [x for i in my_list for x in i]\n",
        "print(list_copy)\n",
        "#*************************************************************************useful**************************************************"
      ],
      "metadata": {
        "colab": {
          "base_uri": "https://localhost:8080/"
        },
        "id": "Cr_cgYL7logH",
        "outputId": "63d2f489-d27a-4d10-ccc2-2fdeab9dca2c"
      },
      "execution_count": null,
      "outputs": [
        {
          "output_type": "stream",
          "name": "stdout",
          "text": [
            "[1, 2, 3, 4, 5, 6, 7, 8, 9]\n"
          ]
        }
      ]
    },
    {
      "cell_type": "code",
      "source": [
        "list_ = []\n",
        "for i in range(0,31):\n",
        "    if not i % 2 and i % 3:\n",
        "        list_.append(i)\n",
        "\n",
        "print(list_)"
      ],
      "metadata": {
        "colab": {
          "base_uri": "https://localhost:8080/"
        },
        "id": "GOfqz2Z1bIIU",
        "outputId": "d09fca16-1ce1-4302-b523-88a74066b703"
      },
      "execution_count": null,
      "outputs": [
        {
          "output_type": "stream",
          "name": "stdout",
          "text": [
            "[2, 4, 8, 10, 14, 16, 20, 22, 26, 28]\n"
          ]
        }
      ]
    },
    {
      "cell_type": "code",
      "source": [
        "#code example above can be shortened with list comprehension as follows:\n",
        "x=[i for i in range(0,31) if (not i % 2) and (i % 3)]\n",
        "print(x)"
      ],
      "metadata": {
        "colab": {
          "base_uri": "https://localhost:8080/"
        },
        "id": "iIH7tTJvbLsq",
        "outputId": "9f889906-796a-4499-f7c2-c83af3fe0fda"
      },
      "execution_count": null,
      "outputs": [
        {
          "output_type": "stream",
          "name": "stdout",
          "text": [
            "[2, 4, 8, 10, 14, 16, 20, 22, 26, 28]\n"
          ]
        }
      ]
    },
    {
      "cell_type": "code",
      "source": [
        "#fibonacci blind code\n",
        "fiblist = [1,1]\n",
        "i=0\n",
        "new=0\n",
        "for i in range(8):\n",
        "  new = int(fiblist[-1]) + int(fiblist[-2])\n",
        "  fiblist.append(new)\n",
        "  i+=1\n",
        "print(fiblist)\n"
      ],
      "metadata": {
        "colab": {
          "base_uri": "https://localhost:8080/"
        },
        "id": "iKLF76FPmLBX",
        "outputId": "87940b4f-346b-465c-d813-adfc412206cf"
      },
      "execution_count": null,
      "outputs": [
        {
          "output_type": "stream",
          "name": "stdout",
          "text": [
            "[1, 1, 2, 3, 5, 8, 13, 21, 34, 55]\n"
          ]
        }
      ]
    },
    {
      "cell_type": "markdown",
      "source": [
        "Function practice - return & default values"
      ],
      "metadata": {
        "id": "Ln0CvJTuho04"
      }
    },
    {
      "cell_type": "code",
      "source": [
        "def function_sum_try(a,b,c):\n",
        "  print(\"This will be printed\")\n",
        "  return a+b+c\n",
        "  print(\"This will NOT be printed\")\n",
        "function_sum_try(5,6,7)"
      ],
      "metadata": {
        "colab": {
          "base_uri": "https://localhost:8080/"
        },
        "id": "G6-nzFIi81BG",
        "outputId": "32ed0ff2-4de4-4462-c22d-c42c75581a69"
      },
      "execution_count": null,
      "outputs": [
        {
          "output_type": "stream",
          "name": "stdout",
          "text": [
            "This will be printed\n"
          ]
        },
        {
          "output_type": "execute_result",
          "data": {
            "text/plain": [
              "18"
            ]
          },
          "metadata": {},
          "execution_count": 3
        }
      ]
    },
    {
      "cell_type": "code",
      "source": [
        "def say_hi(name=\"Unknown\"):  # To set default value\n",
        "  print(\"Hi \", name)\n",
        "\n",
        "say_hi()\n",
        "say_hi(\"Koral\")"
      ],
      "metadata": {
        "colab": {
          "base_uri": "https://localhost:8080/"
        },
        "id": "qLXvc8o99U20",
        "outputId": "14f9dbfb-a072-400a-ec14-145cd362f67c"
      },
      "execution_count": null,
      "outputs": [
        {
          "output_type": "stream",
          "name": "stdout",
          "text": [
            "Hi  Unknown\n",
            "Hi  Koral\n"
          ]
        }
      ]
    },
    {
      "cell_type": "markdown",
      "source": [
        "#Inheritance"
      ],
      "metadata": {
        "id": "bpiPHUFmh6fM"
      }
    },
    {
      "cell_type": "code",
      "source": [
        "class Person:\n",
        "  def __init__(self, fname, lname):\n",
        "    self.firstname = fname\n",
        "    self.lastname = lname\n",
        "\n",
        "  def printname(self):\n",
        "    print(self.firstname, self.lastname)\n",
        "\n",
        "#Use the Person class to create an object, and then execute the printname method:\n",
        "\n",
        "x = Person(\"John\", \"Doe\")\n",
        "x.printname()\n",
        "#--------------\n",
        "\n",
        "class Studenta(Person):\n",
        "  pass\n",
        "\n",
        "a = Studenta(\"se\", \"ko\")\n",
        "a.printname()\n",
        "#--------------\n",
        "\n",
        "class Studentb(Person):\n",
        "  def __init__(self, fname, lname):\n",
        "    super().__init__(fname, lname)\n",
        "\n",
        "class Studentc(Person):\n",
        "  def __init__(self, fname, lname, year, try_1):\n",
        "    super().__init__(fname, lname)\n",
        "    self.graduationyear = year\n",
        "    self.deneme = try_1\n",
        "    \n",
        "c = Studentc(\"Mike\", \"Olsen\", 2019, 55)\n",
        "print(c.deneme)\n"
      ],
      "metadata": {
        "colab": {
          "base_uri": "https://localhost:8080/"
        },
        "id": "leY6qJN9iBRi",
        "outputId": "52344e05-5b53-4b80-c71b-0d9e4ea70e2e"
      },
      "execution_count": null,
      "outputs": [
        {
          "output_type": "stream",
          "name": "stdout",
          "text": [
            "John Doe\n",
            "se ko\n",
            "55\n"
          ]
        }
      ]
    },
    {
      "cell_type": "code",
      "source": [
        "# ITARATOR\n",
        "\n",
        "class MyNumbers:\n",
        "  def __iter__(self):\n",
        "    self.a = 2\n",
        "    return self\n",
        "\n",
        "  def __next__(self):\n",
        "    x = self.a\n",
        "    self.a += 5\n",
        "    return x\n",
        "\n",
        "myclass = MyNumbers()\n",
        "myiter = iter(myclass)\n",
        "\n",
        "print(next(myiter))\n",
        "print(next(myiter))\n",
        "print(next(myiter))\n",
        "print(next(myiter))\n",
        "print(next(myiter))"
      ],
      "metadata": {
        "colab": {
          "base_uri": "https://localhost:8080/"
        },
        "id": "68sYW_xKuVy2",
        "outputId": "82e0b509-3bd6-409d-c79c-802bd6843166"
      },
      "execution_count": null,
      "outputs": [
        {
          "output_type": "stream",
          "name": "stdout",
          "text": [
            "2\n",
            "7\n",
            "12\n",
            "17\n",
            "22\n"
          ]
        }
      ]
    },
    {
      "cell_type": "code",
      "source": [
        "#STOP ITAROTOR\n",
        "class MyNumbers:\n",
        "  def __iter__(self):\n",
        "    self.a = 1\n",
        "    return self\n",
        "\n",
        "  def __next__(self):\n",
        "    if self.a <= 20:\n",
        "      x = self.a\n",
        "      self.a += 1\n",
        "      return x\n",
        "    else:\n",
        "      raise StopIteration\n",
        "\n",
        "myclass = MyNumbers()\n",
        "myiter = iter(myclass)\n",
        "\n",
        "for x in myiter:\n",
        "  print(x)"
      ],
      "metadata": {
        "id": "6utWuA8zuYdZ"
      },
      "execution_count": null,
      "outputs": []
    },
    {
      "cell_type": "markdown",
      "source": [
        "#Lesson  7 March 2022 - Instructor: Joseph"
      ],
      "metadata": {
        "id": "9j_101bTpsr6"
      }
    },
    {
      "cell_type": "markdown",
      "source": [
        "ARMSTRONG NUMBER"
      ],
      "metadata": {
        "id": "bmFGfZ50zf5d"
      }
    },
    {
      "cell_type": "code",
      "source": [
        "while True :   \n",
        "    number = input(\"Enter a positive integer number :\")\n",
        "    digits = len(number)\n",
        "    summ = 0   \n",
        "    if not number.isdigit() :       \n",
        "        print(number, \" is invalid entry. Please enter valid input.\")       \n",
        "    elif int(number) >= 0 :       \n",
        "        for i in range(digits) :           \n",
        "            summ = summ + int(number[i]) ** digits          \n",
        "        if summ == int(number) :\n",
        "            print(number, \" is an Armstrong Number.\")\n",
        "            break\n",
        "        else :\n",
        "            print(number, \" is not an Armstrong Number.\")\n",
        "            break"
      ],
      "metadata": {
        "colab": {
          "base_uri": "https://localhost:8080/"
        },
        "id": "eIs49zbspr44",
        "outputId": "1dad1827-a93a-4db5-a727-4ff4df65cc3f"
      },
      "execution_count": null,
      "outputs": [
        {
          "output_type": "stream",
          "name": "stdout",
          "text": [
            "Enter a positive integer number :55\n",
            "55  is not an Armstrong Number.\n"
          ]
        }
      ]
    },
    {
      "cell_type": "markdown",
      "source": [
        "PRIME NUMBER"
      ],
      "metadata": {
        "id": "fJ7Jb7SLzji6"
      }
    },
    {
      "cell_type": "code",
      "source": [
        "n = int(input(\"Enter a positive int number to check if it's a prime number: \"))\n",
        "\n",
        "counter = 0\n",
        "\n",
        "# if modulus operation in range returns more than 2 (dividion by 1 and division by self) it is not prime.\n",
        "# using counter as a parameter, calculate how many modulus exists.\n",
        "\n",
        "for i in range (1, n + 1):\n",
        "    if n % i == 0:\n",
        "        counter += 1\n",
        "\n",
        "if (n ==0) or (n == 1) or (counter >= 3):\n",
        "    print(n, \"is not a prime number.\")\n",
        "else:\n",
        "    print(n, \"is a prime number.\")"
      ],
      "metadata": {
        "id": "pcT7z8qKzecD"
      },
      "execution_count": null,
      "outputs": []
    },
    {
      "cell_type": "markdown",
      "source": [
        "LIST COMPREHENSION"
      ],
      "metadata": {
        "id": "xyTeKP-g0nZW"
      }
    },
    {
      "cell_type": "code",
      "source": [
        "sayılar = []\n",
        "for i in range(6):\n",
        "  sayılar.append(i)\n",
        "  print(sayılar)"
      ],
      "metadata": {
        "colab": {
          "base_uri": "https://localhost:8080/"
        },
        "id": "dBaGb45p0u36",
        "outputId": "47611806-ab8f-4dc8-c31e-7033eb13f289"
      },
      "execution_count": null,
      "outputs": [
        {
          "output_type": "stream",
          "name": "stdout",
          "text": [
            "[0]\n",
            "[0, 1]\n",
            "[0, 1, 2]\n",
            "[0, 1, 2, 3]\n",
            "[0, 1, 2, 3, 4]\n",
            "[0, 1, 2, 3, 4, 5]\n"
          ]
        }
      ]
    },
    {
      "cell_type": "code",
      "source": [
        "[i for i in range(6)]   # Kendisinden append'li davranır, her seferinde değişen i değerini içinde bulunduğu listeye (köşeli parantez) ekler"
      ],
      "metadata": {
        "colab": {
          "base_uri": "https://localhost:8080/"
        },
        "id": "PWeisPvR1G6t",
        "outputId": "b0f97d67-1151-4452-c582-157563be4387"
      },
      "execution_count": null,
      "outputs": [
        {
          "output_type": "execute_result",
          "data": {
            "text/plain": [
              "[0, 1, 2, 3, 4, 5]"
            ]
          },
          "metadata": {},
          "execution_count": 12
        }
      ]
    },
    {
      "cell_type": "code",
      "source": [
        "if 9 % 3:\n",
        "  print(\"this does not work since if 0 will not work\")\n",
        "elif 9%2:\n",
        "  print(\"this works since if 1 works\")"
      ],
      "metadata": {
        "colab": {
          "base_uri": "https://localhost:8080/"
        },
        "id": "Q6paREP237XT",
        "outputId": "33e5b9dc-cbf8-4ea0-f1c4-e90151da6a3b"
      },
      "execution_count": null,
      "outputs": [
        {
          "output_type": "stream",
          "name": "stdout",
          "text": [
            "this works since if 1 works\n"
          ]
        }
      ]
    },
    {
      "cell_type": "code",
      "source": [
        "print(\"if_body\") if 1==1 else print(\"else_body\")\n",
        "print(\"if_body\") if 1==0 else print(\"else_body\")"
      ],
      "metadata": {
        "colab": {
          "base_uri": "https://localhost:8080/"
        },
        "id": "4h1tY44X46qI",
        "outputId": "33795e06-6a79-4533-8635-c9ff7e3fdb19"
      },
      "execution_count": null,
      "outputs": [
        {
          "output_type": "stream",
          "name": "stdout",
          "text": [
            "if_body\n",
            "else_body\n"
          ]
        }
      ]
    },
    {
      "cell_type": "code",
      "source": [
        "generator = (i for i in range(5))  # this time we used not square paranthesis but normal ones to make it tuple.\n",
        "print(generator)\n",
        "print(list(generator))\n",
        "\n",
        "#print(next(generator))"
      ],
      "metadata": {
        "colab": {
          "base_uri": "https://localhost:8080/"
        },
        "id": "rRfcU25IEAMX",
        "outputId": "237510b9-f2e2-4dd8-82c7-c3a9bbebff96"
      },
      "execution_count": null,
      "outputs": [
        {
          "output_type": "stream",
          "name": "stdout",
          "text": [
            "<generator object <genexpr> at 0x7f124e79ee50>\n",
            "[0, 1, 2, 3, 4]\n"
          ]
        }
      ]
    },
    {
      "cell_type": "markdown",
      "source": [
        "#Practice before lesson 08-02-2022"
      ],
      "metadata": {
        "id": "JrG74oJzb__r"
      }
    },
    {
      "cell_type": "code",
      "source": [
        "num = int(input(\"Enter a number you want to see its factor result : \"))\n",
        "fac_result = 1\n",
        "len_ = len(str(num))\n",
        "while len_ < 3:\n",
        "    for i in range(1,num+1):\n",
        "        fac_result *= i\n",
        "    break\n",
        "\n",
        "print(fac_result)"
      ],
      "metadata": {
        "colab": {
          "base_uri": "https://localhost:8080/"
        },
        "id": "iIfzmtJIb_hT",
        "outputId": "67caf6a4-71a3-4c61-c52b-3f4ee890d3d6"
      },
      "execution_count": null,
      "outputs": [
        {
          "output_type": "stream",
          "name": "stdout",
          "text": [
            "Enter a number you want to see its factor result : 11\n",
            "39916800\n"
          ]
        }
      ]
    },
    {
      "cell_type": "markdown",
      "source": [
        "#frozenset()"
      ],
      "metadata": {
        "id": "umqBy1nzjqHU"
      }
    },
    {
      "cell_type": "code",
      "source": [
        "# tuple of vowels\n",
        "vowels = ('a', 'e', 'i', 'o', 'u')\n",
        "\n",
        "fSet = frozenset(vowels)\n",
        "print('The frozen set is:', fSet)\n",
        "print('The empty frozen set is:', frozenset())\n",
        "\n",
        "# frozensets are immutable, so code below won't work;\n",
        "# fSet.add('v')"
      ],
      "metadata": {
        "colab": {
          "base_uri": "https://localhost:8080/"
        },
        "id": "ipgJl8Dejs1P",
        "outputId": "3c7d0a44-c9b7-4bb1-aa63-dd8ae9e3aba7"
      },
      "execution_count": null,
      "outputs": [
        {
          "output_type": "stream",
          "name": "stdout",
          "text": [
            "The frozen set is: frozenset({'u', 'e', 'o', 'i', 'a'})\n",
            "The empty frozen set is: frozenset()\n"
          ]
        }
      ]
    },
    {
      "cell_type": "code",
      "source": [
        "# random dictionary\n",
        "person = {\"name\": \"John\", \"age\": 23, \"sex\": \"male\"}\n",
        "\n",
        "fSet = frozenset(person)\n",
        "print('The frozen set is:', fSet)"
      ],
      "metadata": {
        "colab": {
          "base_uri": "https://localhost:8080/"
        },
        "id": "KgWZ9xMpj728",
        "outputId": "3866a939-137e-4ad5-ea74-d12642ac26cf"
      },
      "execution_count": null,
      "outputs": [
        {
          "output_type": "stream",
          "name": "stdout",
          "text": [
            "The frozen set is: frozenset({'age', 'name', 'sex'})\n"
          ]
        }
      ]
    },
    {
      "cell_type": "markdown",
      "source": [
        "#zip()   \n",
        "Farklı liste yada tuple'lardaki aynı index'e sahip elemanları gruplayarak tuple döndürür."
      ],
      "metadata": {
        "id": "36-CPQVrwQ5U"
      }
    },
    {
      "cell_type": "code",
      "source": [
        "a = (\"John\", \"Charles\", \"Mike\")\n",
        "b = [\"Jenny\", \"Christy\", \"Monica\", \"Vicky\"]\n",
        "c = (\"xenny\", \"xhristy\", \"xonica\", \"xicky\")\n",
        "\n",
        "x = zip(a, b, c)\n",
        "\n",
        "#use the tuple() function to display a readable version of the result:\n",
        "print(tuple(x))"
      ],
      "metadata": {
        "colab": {
          "base_uri": "https://localhost:8080/"
        },
        "id": "Xt7BZfZPxKum",
        "outputId": "b6775fe1-a58d-43cb-8956-10a7f73dc7a6"
      },
      "execution_count": null,
      "outputs": [
        {
          "output_type": "stream",
          "name": "stdout",
          "text": [
            "(('John', 'Jenny', 'xenny'), ('Charles', 'Christy', 'xhristy'), ('Mike', 'Monica', 'xonica'))\n"
          ]
        }
      ]
    },
    {
      "cell_type": "markdown",
      "source": [
        "#filter()\n",
        "The filter() function extracts elements from an iterable (list, tuple etc.) for which a function returns True."
      ],
      "metadata": {
        "id": "V_GzLq5CzW-p"
      }
    },
    {
      "cell_type": "code",
      "source": [
        "# We will print EVEN numbers in the list;\n",
        "my_list = [1,2,3,4,5,6,7,8,9]\n",
        "def is_even(number):\n",
        "  if not number % 2:\n",
        "    return True\n",
        "result = list(filter(is_even, my_list))\n",
        "print(result)"
      ],
      "metadata": {
        "colab": {
          "base_uri": "https://localhost:8080/"
        },
        "id": "1Uqy2M-5zcBf",
        "outputId": "1e20194b-767b-4244-c1cf-411f02ca1012"
      },
      "execution_count": null,
      "outputs": [
        {
          "output_type": "stream",
          "name": "stdout",
          "text": [
            "[2, 4, 6, 8]\n"
          ]
        }
      ]
    },
    {
      "cell_type": "markdown",
      "source": [
        "#enumerate()\n",
        "Iterable'a counter ekler, counter'ın kaçtan başlayacağını ayarlayabiliriz. Start'a girdi yapmazsak 0 olarak alır.\n",
        "\n",
        "*   Syntax :   enumerate(iterable, start=0)\n",
        "*   Liste öğesi\n",
        "\n"
      ],
      "metadata": {
        "id": "bFAMvh-h1OyA"
      }
    },
    {
      "cell_type": "code",
      "source": [
        "grocery = ['bread', 'milk', 'butter']\n",
        "enumerateGrocery = enumerate(grocery)\n",
        "# converting to list\n",
        "print(list(enumerateGrocery))\n",
        "# changing the default counter\n",
        "enumerateGrocery = enumerate(grocery, 10)\n",
        "print(list(enumerateGrocery))"
      ],
      "metadata": {
        "colab": {
          "base_uri": "https://localhost:8080/"
        },
        "id": "ZS5v9Hbt2Tyd",
        "outputId": "84008bce-0bbb-4435-eafe-885d4fc32e1a"
      },
      "execution_count": null,
      "outputs": [
        {
          "output_type": "stream",
          "name": "stdout",
          "text": [
            "[(0, 'bread'), (1, 'milk'), (2, 'butter')]\n",
            "[(10, 'bread'), (11, 'milk'), (12, 'butter')]\n"
          ]
        }
      ]
    },
    {
      "cell_type": "code",
      "source": [
        "for item in enumerate(grocery):\n",
        "  print(item)\n",
        "\n",
        "print('\\n')\n",
        "\n",
        "for count, item in enumerate(grocery):\n",
        "  print(count, item)\n",
        "\n",
        "print('\\n')\n",
        "# changing default start value\n",
        "for count, item in enumerate(grocery, 100):\n",
        "  print(count, item)"
      ],
      "metadata": {
        "colab": {
          "base_uri": "https://localhost:8080/"
        },
        "id": "TBT-KCB_2we-",
        "outputId": "d2d8ef46-3b7d-4326-9436-b941db0243d3"
      },
      "execution_count": null,
      "outputs": [
        {
          "output_type": "stream",
          "name": "stdout",
          "text": [
            "(0, 'bread')\n",
            "(1, 'milk')\n",
            "(2, 'butter')\n",
            "\n",
            "\n",
            "0 bread\n",
            "1 milk\n",
            "2 butter\n",
            "\n",
            "\n",
            "100 bread\n",
            "101 milk\n",
            "102 butter\n"
          ]
        }
      ]
    },
    {
      "cell_type": "markdown",
      "source": [
        "#map()\n",
        "returns a map object(which is an iterator) of the results after applying the given function to each item of a given iterable (list, tuple etc.)"
      ],
      "metadata": {
        "id": "dV2x94_W3Tmn"
      }
    },
    {
      "cell_type": "code",
      "source": [
        "def addition(n):\n",
        "    return n+n\n",
        "\n",
        "numbers = [1,2,3,4,5]\n",
        "result = map(addition,numbers)\n",
        "print(list(result))"
      ],
      "metadata": {
        "id": "7bbQcwLe1V7M"
      },
      "execution_count": null,
      "outputs": []
    },
    {
      "cell_type": "markdown",
      "source": [
        "#Functions  09-03-22"
      ],
      "metadata": {
        "id": "z-wSPK4Y0S1P"
      }
    },
    {
      "cell_type": "code",
      "source": [
        "parrot(1000)                                          # 1 positional argument\n",
        "parrot(voltage=1000)                                  # 1 keyword argument\n",
        "parrot(voltage=1000000, action='VOOOOOM')             # 2 keyword arguments\n",
        "parrot(action='VOOOOOM', voltage=1000000)             # 2 keyword arguments \n",
        "parrot('a million', 'bereft of life', 'jump')         # 3 positional arguments\n",
        "parrot('a thousand', state='pushing up the daisies')  # 1 positional, 1 keyword"
      ],
      "metadata": {
        "id": "kXReQldc0e9w"
      },
      "execution_count": null,
      "outputs": []
    },
    {
      "cell_type": "code",
      "source": [
        "# Useful way to take a user input with a function:\n",
        "\n",
        "def ask_ok(prompt, retries=4, reminder='Please try again!'):\n",
        "    while True:\n",
        "        ok = input(prompt)\n",
        "        if ok in ('y', 'ye', 'yes'):\n",
        "            return True\n",
        "        if ok in ('n', 'no', 'nop', 'nope'):\n",
        "            return False\n",
        "        retries = retries - 1\n",
        "        if retries < 0:\n",
        "            raise ValueError('invalid user response')\n",
        "        print(reminder)"
      ],
      "metadata": {
        "id": "HCi-c2eT00t8"
      },
      "execution_count": null,
      "outputs": []
    },
    {
      "cell_type": "code",
      "source": [
        "# Default value of a parameter:\n",
        "def city(capital, continent='Europe'):\n",
        "    print(capital, 'in', continent)\n",
        "\n",
        "city('Athens')  # we don't have to pass any arguments into 'continent'\n",
        "city('Ulaanbaatar', continent='Asia')  # we can change the default value by kwargs"
      ],
      "metadata": {
        "colab": {
          "base_uri": "https://localhost:8080/"
        },
        "id": "urGuUb5-KxcJ",
        "outputId": "585f1bf1-7b18-493b-ad59-480d98077caa"
      },
      "execution_count": null,
      "outputs": [
        {
          "output_type": "stream",
          "name": "stdout",
          "text": [
            "Athens in Europe\n",
            "Ulaanbaatar in Asia\n"
          ]
        }
      ]
    },
    {
      "cell_type": "code",
      "source": [
        "# Arbitrary numbers of arguments:\n",
        "def fruiterer(*fruit) :\n",
        "    print('I want to get :')\n",
        "    for i in fruit :\n",
        "        print('-', i)\n",
        "        \n",
        "fruiterer('orange', 'banana', 'melon', 'ananas')"
      ],
      "metadata": {
        "colab": {
          "base_uri": "https://localhost:8080/"
        },
        "id": "HByWwuJsLw3o",
        "outputId": "d08f5af3-6ad5-45d0-8369-85c1a8a37537"
      },
      "execution_count": null,
      "outputs": [
        {
          "output_type": "stream",
          "name": "stdout",
          "text": [
            "I want to get :\n",
            "- orange\n",
            "- banana\n",
            "- melon\n",
            "- ananas\n"
          ]
        }
      ]
    },
    {
      "cell_type": "code",
      "source": [
        "#If you need to prefer to use arbitrary keyword arguments (**kwargs), you can use it in the same way.\n",
        "def animals(**kwargs):\n",
        "    for key, value in kwargs.items():\n",
        "        print(value, \"are\", key)\n",
        " \n",
        "animals(Carnivores=\"Lions\", Omnivores=\"Bears\", Herbivores=\"Deers\", Nomnivores=\"Human\")"
      ],
      "metadata": {
        "colab": {
          "base_uri": "https://localhost:8080/"
        },
        "id": "6zpul5P0Mdom",
        "outputId": "4609e6da-52e6-4549-9ae2-1e2e72bef32f"
      },
      "execution_count": null,
      "outputs": [
        {
          "output_type": "stream",
          "name": "stdout",
          "text": [
            "Lions are Carnivores\n",
            "Bears are Omnivores\n",
            "Deers are Herbivores\n",
            "Human are Nomnivores\n"
          ]
        }
      ]
    },
    {
      "cell_type": "code",
      "source": [
        "# Parametre başındaki * işareti, birden fazla parametreyi tek değere atar\n",
        "# Print'teki * işareti, direkt tuple'ı yazdırmak yerine tüm elemanları teker teker yazdırmayı sağlar\n",
        "def deneme(*args):\n",
        "  print(*args)\n",
        "deneme(1,2,3,4,5,6)"
      ],
      "metadata": {
        "colab": {
          "base_uri": "https://localhost:8080/"
        },
        "id": "ygw1ohYuPOxA",
        "outputId": "5a3d9045-041c-4bf0-cea4-92dc87b3d0c5"
      },
      "execution_count": null,
      "outputs": [
        {
          "output_type": "stream",
          "name": "stdout",
          "text": [
            "1 2 3 4 5 6\n"
          ]
        }
      ]
    },
    {
      "cell_type": "code",
      "source": [
        "def deneme(name=\"Koral\", sport=\"gym\"):\n",
        "    print(f\"{name} likes sport, especially {sport}.\")\n",
        "var1 = {\"name\":\"Joseph\", \"sport\":\"boxing\"}\n",
        "# var2 = var1.items\n",
        "# print(**var2)\n",
        "deneme(**var1)"
      ],
      "metadata": {
        "colab": {
          "base_uri": "https://localhost:8080/"
        },
        "id": "_nJVMbRPPa_E",
        "outputId": "c609432b-b14e-487a-dd71-4d3bf4eb2f8c"
      },
      "execution_count": null,
      "outputs": [
        {
          "output_type": "stream",
          "name": "stdout",
          "text": [
            "Joseph likes sport, especially boxing.\n"
          ]
        }
      ]
    },
    {
      "cell_type": "markdown",
      "source": [
        "Define a function to take a word and return negative meaning.\n",
        "Given a word, return a new word where \"not \" has been added to the front. However, if the word already begins with \"not\", return the string unchanged.\n"
      ],
      "metadata": {
        "id": "HM_90sk_buY1"
      }
    },
    {
      "cell_type": "code",
      "source": [
        "def not_string(word):\n",
        "    list_ = list(word.split(\" \"))\n",
        "    # print(list_)\n",
        "    if list_[0] == \"not\":\n",
        "        return(word)\n",
        "        # return(str(word))\n",
        "    else:\n",
        "        return(\"not \"+str(word))\n",
        "      \n",
        "\t\n",
        "print(not_string('sugar'))\n",
        "print(not_string('x'))\n",
        "print(not_string('not bad'))"
      ],
      "metadata": {
        "colab": {
          "base_uri": "https://localhost:8080/"
        },
        "id": "mbTrLfYWXM_s",
        "outputId": "4769e22d-b51a-4a9a-fd5b-7c50e1e38d67"
      },
      "execution_count": null,
      "outputs": [
        {
          "output_type": "stream",
          "name": "stdout",
          "text": [
            "not sugar\n",
            "not x\n",
            "not bad\n"
          ]
        }
      ]
    },
    {
      "cell_type": "markdown",
      "source": [
        "##startswith() "
      ],
      "metadata": {
        "id": "cs7_5lSacNia"
      }
    },
    {
      "cell_type": "code",
      "source": [
        "text = \"Python is easy to learn.\"\n",
        "\n",
        "result = text.startswith('is easy')\n",
        "# returns False\n",
        "print(result)\n",
        "\n",
        "result = text.startswith('Python is ')\n",
        "# returns True\n",
        "print(result)\n",
        "\n",
        "result = text.startswith('Python is easy to learn.')\n",
        "# returns True\n",
        "print(result)"
      ],
      "metadata": {
        "id": "0C4SL6nHcMu7"
      },
      "execution_count": null,
      "outputs": []
    },
    {
      "cell_type": "markdown",
      "source": [
        "#all()"
      ],
      "metadata": {
        "id": "7FfUw5F6E5Iy"
      }
    },
    {
      "cell_type": "code",
      "source": [
        "#Check if all items in a list are True\n",
        "mylist = [True, True, True]\n",
        "x = all(mylist)"
      ],
      "metadata": {
        "id": "GrCyA6Ikc9Gs"
      },
      "execution_count": null,
      "outputs": []
    },
    {
      "cell_type": "markdown",
      "source": [
        "#some more practise"
      ],
      "metadata": {
        "id": "rCfLhil-dBm9"
      }
    },
    {
      "cell_type": "code",
      "source": [
        "def add (a,b):\n",
        "    print(a+b)\n",
        "add(3,4)"
      ],
      "metadata": {
        "colab": {
          "base_uri": "https://localhost:8080/"
        },
        "id": "qouKsZVKE39K",
        "outputId": "4ac55a25-5a2c-470d-a072-6d3d558b9449"
      },
      "execution_count": null,
      "outputs": [
        {
          "output_type": "stream",
          "name": "stdout",
          "text": [
            "7\n"
          ]
        }
      ]
    },
    {
      "cell_type": "code",
      "source": [
        "def calc(a,b,c):\n",
        "  # a, b = int(a), int(b)\n",
        "  # c = str(c)\n",
        "  if c == '+':\n",
        "    print(a+b)\n",
        "  elif c == '-':\n",
        "    print(a-b)\n",
        "  elif c == '*':\n",
        "    print(a*b)\n",
        "  elif c == '/':\n",
        "    print(a/b)\n",
        "  else:\n",
        "    print(\"please enter invalid input\")\n",
        "\n",
        "calc(88,22,'+')"
      ],
      "metadata": {
        "colab": {
          "base_uri": "https://localhost:8080/"
        },
        "id": "BZFTHP-5SY6K",
        "outputId": "d1bcd292-605d-4e09-d795-ab64922adc79"
      },
      "execution_count": null,
      "outputs": [
        {
          "output_type": "stream",
          "name": "stdout",
          "text": [
            "110\n"
          ]
        }
      ]
    },
    {
      "cell_type": "code",
      "source": [
        "primes = []\n",
        "def prime_finder(n):\n",
        "\tfor i in range(1,n+1):\n",
        "\t\tbolenler = []\n",
        "\t\tfor j in range(1,i+1):\n",
        "\t\t\tif i % j == 0: #tam bölünürse\n",
        "\t\t\t\tbolenler.append(j)\n",
        "\t\tif len(bolenler)==2:\n",
        "\t\t\tprimes.append(i)\n",
        "\tprint(f\"Prime numbers up to {n} : \\n {primes}\\n\")\t\t\t\n",
        "\n",
        "prime_finder(100)"
      ],
      "metadata": {
        "id": "nRW-vZyd_3XZ",
        "outputId": "d4acd328-8286-40bf-c887-9aa481509ef6",
        "colab": {
          "base_uri": "https://localhost:8080/"
        }
      },
      "execution_count": null,
      "outputs": [
        {
          "output_type": "stream",
          "name": "stdout",
          "text": [
            "Prime numbers up to 100 : \n",
            " [2, 3, 5, 7, 11, 13, 17, 19, 23, 29, 31, 37, 41, 43, 47, 53, 59, 61, 67, 71, 73, 79, 83, 89, 97]\n",
            "\n"
          ]
        }
      ]
    },
    {
      "cell_type": "code",
      "source": [
        "a = list(\"koral\")\n",
        "print(a[::-1])\n"
      ],
      "metadata": {
        "colab": {
          "base_uri": "https://localhost:8080/"
        },
        "id": "DPolAHY85A3l",
        "outputId": "6fbb0dce-3f5e-4893-817b-9effd256865f"
      },
      "execution_count": null,
      "outputs": [
        {
          "output_type": "stream",
          "name": "stdout",
          "text": [
            "['l', 'a', 'r', 'o', 'k']\n"
          ]
        }
      ]
    },
    {
      "cell_type": "code",
      "source": [
        "matrisx = 3\n",
        "matrisy = 3\n",
        "\n",
        "for i in range(matrisx):\n",
        "\tfor j in range(matrisy):\n",
        "\t\tprint(f\"[{i,j}]\", sep=\"\", end=\" \")\n",
        "\tprint()"
      ],
      "metadata": {
        "colab": {
          "base_uri": "https://localhost:8080/"
        },
        "id": "dqD2HdIwfq-U",
        "outputId": "a8cb05e7-9a1c-4a4c-a741-2eb4d077d081"
      },
      "execution_count": null,
      "outputs": [
        {
          "output_type": "stream",
          "name": "stdout",
          "text": [
            "[(0, 0)] [(0, 1)] [(0, 2)] \n",
            "[(1, 0)] [(1, 1)] [(1, 2)] \n",
            "[(2, 0)] [(2, 1)] [(2, 2)] \n"
          ]
        }
      ]
    },
    {
      "cell_type": "code",
      "source": [
        "num31 = input(\"enter a num : \")\n",
        "num32 = input(\"enter a num : \")\n",
        "a = int(min(num31,num32))\n",
        "b = int(max(num31,num32))\n",
        "sumlist = [i for i in range(a,b)]\n",
        "# sum(sumlist,0)\n",
        "print(\"sumlist : \", sumlist)\n",
        "x = sum(sumlist,0)\n",
        "print(\"sum : \", x)"
      ],
      "metadata": {
        "id": "eY8rMu9Z57bs",
        "outputId": "2cca26b2-5b4a-41af-dfb8-103f5e500840",
        "colab": {
          "base_uri": "https://localhost:8080/"
        }
      },
      "execution_count": null,
      "outputs": [
        {
          "output_type": "stream",
          "name": "stdout",
          "text": [
            "enter a num : 10\n",
            "enter a num : 12\n",
            "sumlist :  [10, 11]\n",
            "sum :  21\n"
          ]
        }
      ]
    },
    {
      "cell_type": "markdown",
      "source": [
        "Defining a function using Arbitrary numbers"
      ],
      "metadata": {
        "id": "KKFd8Zdc6AqM"
      }
    },
    {
      "cell_type": "code",
      "source": [
        "oddlist = []\n",
        "evenlist = []\n",
        "def slicer(*args):\n",
        "\tfor i in args:\n",
        "\t\tif i % 2 :\n",
        "\t\t\toddlist.append(i)\n",
        "\t\telse:\n",
        "\t\t\tevenlist.append(i)\n",
        "\tprint(\"odds: \", oddlist)\n",
        "\tprint(\"evens: \", evenlist)\n",
        "\n",
        "slicer(1,2,3,4,5,6,7,8,9)\n"
      ],
      "metadata": {
        "id": "37W7piF16B8-"
      },
      "execution_count": null,
      "outputs": []
    },
    {
      "cell_type": "code",
      "source": [
        "class A:\n",
        "\n",
        "    global age\n",
        "\n",
        "    age = 15\n",
        "\n",
        "    def __init__(self, age):\n",
        "\n",
        "        self.age = age\n",
        "\n",
        "\n",
        "\n",
        "a = A(20)\n",
        "\n",
        "a.age = ?"
      ],
      "metadata": {
        "id": "EDHy0oCFIRJN"
      },
      "execution_count": null,
      "outputs": []
    },
    {
      "cell_type": "code",
      "source": [
        "def repeater(n):\n",
        "    return lambda x: x * n\n",
        "    \n",
        "repeat_2_times = repeater(2)  # repeats 2 times\n",
        "repeat_3_times = repeater(3)  # repeats 3 times\n",
        "repeat_4_times = repeater(4)  # repeats 4 times\n",
        "\n",
        "print(repeat_2_times('I '))\n",
        "print(repeat_3_times('can '))\n",
        "print(repeat_4_times('DO '))"
      ],
      "metadata": {
        "colab": {
          "base_uri": "https://localhost:8080/"
        },
        "id": "hJALsSRG3t13",
        "outputId": "507751e0-4670-479b-87b9-43faca2f03b0"
      },
      "execution_count": null,
      "outputs": [
        {
          "output_type": "stream",
          "name": "stdout",
          "text": [
            "I I \n",
            "can can can \n",
            "DO DO DO DO \n"
          ]
        }
      ]
    },
    {
      "cell_type": "code",
      "source": [
        "def repeat_insideof_this(x,n):\n",
        "    return x*n\n",
        "def repeat_insideof_this_2(n):\n",
        "    return (lambda x : x*n)\n",
        "var1 = repeat_insideof_this_2(3)\n",
        "print(var1(\"Koral\"))\n",
        "print(repeat_insideof_this(\"Koral\",3))\n",
        "  "
      ],
      "metadata": {
        "colab": {
          "base_uri": "https://localhost:8080/"
        },
        "id": "3-J8VbDT5rlj",
        "outputId": "470affed-d88b-4d2b-ff47-72208b0326b3"
      },
      "execution_count": null,
      "outputs": [
        {
          "output_type": "stream",
          "name": "stdout",
          "text": [
            "KoralKoralKoral\n",
            "KoralKoralKoral\n"
          ]
        }
      ]
    },
    {
      "cell_type": "code",
      "source": [
        "list_ = [1,2,3,4,5]\n",
        "for i in list_:\n",
        "\tprint((lambda x : \"odd\" if x%2!=0 else \"even\")(i), end=\" \")"
      ],
      "metadata": {
        "colab": {
          "base_uri": "https://localhost:8080/"
        },
        "id": "5Q-UJPSDW42P",
        "outputId": "7bcfe134-8d2b-46c3-e99f-16ebfe254e25"
      },
      "execution_count": null,
      "outputs": [
        {
          "output_type": "stream",
          "name": "stdout",
          "text": [
            "odd even odd even odd "
          ]
        }
      ]
    },
    {
      "cell_type": "code",
      "source": [
        "list_ = [1,2,3,4,5]\n",
        "print(list(map((lambda x : \"even\" if x%2==0 else \"odd\"), list_)))"
      ],
      "metadata": {
        "colab": {
          "base_uri": "https://localhost:8080/"
        },
        "id": "bKzCP7f5W6kq",
        "outputId": "926d7dd5-7de7-47ec-8e22-dd16aedae3b0"
      },
      "execution_count": null,
      "outputs": [
        {
          "output_type": "stream",
          "name": "stdout",
          "text": [
            "['odd', 'even', 'odd', 'even', 'odd']\n"
          ]
        }
      ]
    },
    {
      "cell_type": "code",
      "source": [
        "list_ = [1,2,3,4,5]\n",
        "print(list(map((lambda x : x*x), list_)))"
      ],
      "metadata": {
        "colab": {
          "base_uri": "https://localhost:8080/"
        },
        "id": "14pe_S1lW8pu",
        "outputId": "c0c078e4-455c-4130-8d25-88bb95d08510"
      },
      "execution_count": null,
      "outputs": [
        {
          "output_type": "stream",
          "name": "stdout",
          "text": [
            "[1, 4, 9, 16, 25]\n"
          ]
        }
      ]
    },
    {
      "cell_type": "code",
      "source": [
        "sınav_notları_öğrenci1 = [53,81,69]\n",
        "sınav_notları_öğrenci2 = [10,52,90]\n",
        "sınav_notları_öğrenci3 = [45,70,33]\n",
        "sınıf_sınav_ortalamaları = list(map(lambda x,y,z : (x+y+z)/3, sınav_notları_öğrenci1, sınav_notları_öğrenci2, sınav_notları_öğrenci3))\n",
        "sınıf_sınav_ortalamaları"
      ],
      "metadata": {
        "colab": {
          "base_uri": "https://localhost:8080/"
        },
        "id": "VrX-vcwJZmtB",
        "outputId": "ac44b92d-07f0-43e1-f4b0-7be1ccdc9d02"
      },
      "execution_count": null,
      "outputs": [
        {
          "output_type": "execute_result",
          "data": {
            "text/plain": [
              "[36.0, 67.66666666666667, 64.0]"
            ]
          },
          "metadata": {},
          "execution_count": 6
        }
      ]
    },
    {
      "cell_type": "code",
      "source": [
        "list_ = [1,2,3,4,5,6,7,8,9]\n",
        "x = filter(lambda x : x%2, list_)\n",
        "print(*x)"
      ],
      "metadata": {
        "colab": {
          "base_uri": "https://localhost:8080/"
        },
        "id": "CKCZLxaWkQI4",
        "outputId": "9852ff08-f7f2-476f-feb2-362c988b0ee1"
      },
      "execution_count": null,
      "outputs": [
        {
          "output_type": "stream",
          "name": "stdout",
          "text": [
            "1 3 5 7 9\n"
          ]
        }
      ]
    },
    {
      "cell_type": "code",
      "source": [
        "words = [\"apple\", \"swim\", \"clock\", \"me\", \"kiwi\", \"banana\"]\n",
        "x = filter(lambda x : len(x)<5, words)\n",
        "print(*x, sep=\"\\n\")"
      ],
      "metadata": {
        "colab": {
          "base_uri": "https://localhost:8080/"
        },
        "id": "djiHUiail-PX",
        "outputId": "16692baa-7c77-4d44-f234-b356427e3934"
      },
      "execution_count": null,
      "outputs": [
        {
          "output_type": "stream",
          "name": "stdout",
          "text": [
            "swim\n",
            "me\n",
            "kiwi\n"
          ]
        }
      ]
    },
    {
      "cell_type": "markdown",
      "source": [
        "**Assignment - 011/07 (Fizz - Buzz Numbers)**\n",
        "\n",
        "Task : Print the Fizz Buzz numbers.\n",
        "\n",
        "Fizz Buzz is a famous code challenge. It's time to write your own implementation.\n",
        "Print numbers from 1 to 100 inclusively following these instructions:\n",
        "if a number is multiple of 3, print \"Fizz\" instead of this number,\n",
        "if a number is multiple of 5, print \"Buzz\" instead of this number,\n",
        "for numbers that are multiples of both 3 and 5, print \"FizzBuzz\",\n",
        "print the rest of the numbers unchanged.\n",
        "Output each value on a separate line.\n",
        "Note that : This question is famous on the web, so to get more benefit from this assignment, try to complete this task on your own."
      ],
      "metadata": {
        "id": "bHT9EZkG5C_S"
      }
    },
    {
      "cell_type": "code",
      "source": [
        "def fizzNumbers():\n",
        "  for i in range(1,101):\n",
        "    if i%3==0 and i%5==0:\n",
        "      print(i,\" : FizzBuzz\")\n",
        "    elif i%3==0 and i%5!=0:\n",
        "      print(i,\" : Fizz\")\n",
        "    elif i%5==0 and i%3!=0:\n",
        "      print(i,\" : Buzz\")\n",
        "    else:\n",
        "      print(i)\n",
        "fizzNumbers()"
      ],
      "metadata": {
        "id": "LqwTvXaZ5FU3"
      },
      "execution_count": null,
      "outputs": []
    },
    {
      "cell_type": "markdown",
      "source": [
        "Task:\n",
        "\n",
        "Count the number of each letter in a sentence.\n",
        "The department you work for undertook a project construction that makes word / text analysis. You are asked to calculate the number of letters in the sentences entered under this project.\n",
        "\n",
        "Write a Python program that;\n",
        "*   takes a sentence from the user,\n",
        "*   counts the number of each letter/chars of the sentence,\n",
        "*   collects the letters/chars as a key and the counted numbers as a value in a dictionary.\n",
        "\n",
        "\n"
      ],
      "metadata": {
        "id": "XaBTADJsv1lB"
      }
    },
    {
      "cell_type": "code",
      "source": [
        "import string\n",
        "\n",
        "letter_lib = {}\n",
        "user_input = \"\"\"If you want to succeed something, you can succeed it with these two rules: \n",
        "\t\t\t1) Want it so bad \n",
        "\t\t\t2) Have a good plan\"\"\"  #input(\"Enter the text you want to analyze : )\n",
        "alphabet = set(string.ascii_letters)\n",
        "# alphabet.\n",
        "for i in alphabet:\n",
        "\ta = user_input.count(i)\n",
        "\tif int(a) > 0:\n",
        "\t\tletter_lib[i] = a\n",
        "\n",
        "for keys,value in letter_lib.items():\n",
        "  print(\"-Letter\",keys,\"is repeated\",value, \"time(s)\")"
      ],
      "metadata": {
        "colab": {
          "base_uri": "https://localhost:8080/"
        },
        "id": "ElCxlDvmv0dG",
        "outputId": "13c5ed39-2c90-4b82-81fa-8390900b2a3e"
      },
      "execution_count": null,
      "outputs": [
        {
          "output_type": "stream",
          "name": "stdout",
          "text": [
            "-Letter g is repeated 2 time(s)\n",
            "-Letter w is repeated 3 time(s)\n",
            "-Letter y is repeated 2 time(s)\n",
            "-Letter p is repeated 1 time(s)\n",
            "-Letter b is repeated 1 time(s)\n",
            "-Letter h is repeated 3 time(s)\n",
            "-Letter H is repeated 1 time(s)\n",
            "-Letter W is repeated 1 time(s)\n",
            "-Letter l is repeated 2 time(s)\n",
            "-Letter a is repeated 7 time(s)\n",
            "-Letter n is repeated 5 time(s)\n",
            "-Letter m is repeated 1 time(s)\n",
            "-Letter I is repeated 1 time(s)\n",
            "-Letter u is repeated 5 time(s)\n",
            "-Letter r is repeated 1 time(s)\n",
            "-Letter i is repeated 4 time(s)\n",
            "-Letter s is repeated 6 time(s)\n",
            "-Letter e is repeated 9 time(s)\n",
            "-Letter f is repeated 1 time(s)\n",
            "-Letter o is repeated 8 time(s)\n",
            "-Letter c is repeated 5 time(s)\n",
            "-Letter d is repeated 4 time(s)\n",
            "-Letter t is repeated 9 time(s)\n",
            "-Letter v is repeated 1 time(s)\n"
          ]
        }
      ]
    },
    {
      "cell_type": "code",
      "source": [
        "def repeater(n):\n",
        "\t return lambda x: x*n\n",
        "var = repeater(3)\n",
        "var(\"koral\")"
      ],
      "metadata": {
        "colab": {
          "base_uri": "https://localhost:8080/",
          "height": 36
        },
        "id": "f9ykG-tiw4ot",
        "outputId": "6f2e87f4-4fac-4c38-89c2-6f102561b3bb"
      },
      "execution_count": null,
      "outputs": [
        {
          "output_type": "execute_result",
          "data": {
            "text/plain": [
              "'koralkoralkoral'"
            ],
            "application/vnd.google.colaboratory.intrinsic+json": {
              "type": "string"
            }
          },
          "metadata": {},
          "execution_count": 1
        }
      ]
    },
    {
      "cell_type": "code",
      "source": [
        "def emoji(n):\n",
        "  return lambda x : x + n\n",
        "\n",
        "smile = emoji(\" :)\")\n",
        "sad = emoji(\" :(\")\n",
        "neutral = emoji(\" :|\")\n",
        "\n",
        "smile(\"clarusway\")"
      ],
      "metadata": {
        "colab": {
          "base_uri": "https://localhost:8080/",
          "height": 36
        },
        "id": "upCWc1vtw9Vz",
        "outputId": "c3b05fb5-19b8-4588-859b-2f5158ea1666"
      },
      "execution_count": null,
      "outputs": [
        {
          "output_type": "execute_result",
          "data": {
            "text/plain": [
              "'clarusway :)'"
            ],
            "application/vnd.google.colaboratory.intrinsic+json": {
              "type": "string"
            }
          },
          "metadata": {},
          "execution_count": 6
        }
      ]
    },
    {
      "cell_type": "code",
      "source": [
        "def func(n):\n",
        "  return lambda x : n(x)\n",
        "\n",
        "var1 = func(print)\n",
        "var2 = func(max)\n",
        "var3 = func(bool)\n",
        "\n",
        "var1(\"hello\")\n",
        "var2([1,2,3,4])\n",
        "var3(bool)"
      ],
      "metadata": {
        "colab": {
          "base_uri": "https://localhost:8080/"
        },
        "id": "JT1r1rj04yeD",
        "outputId": "f454dd51-2589-4c58-8ab3-2efa9659e6b1"
      },
      "execution_count": null,
      "outputs": [
        {
          "output_type": "stream",
          "name": "stdout",
          "text": [
            "hello\n"
          ]
        },
        {
          "output_type": "execute_result",
          "data": {
            "text/plain": [
              "True"
            ]
          },
          "metadata": {},
          "execution_count": 20
        }
      ]
    },
    {
      "cell_type": "code",
      "source": [
        "def equal(a,b,c):\n",
        "\tnum = [a,b,c]\n",
        "\tif num.count(max(num, key = num.count)) == 1:\n",
        "\t\treturn 0\n",
        "\treturn num.count(max(num, key = num.count))\n",
        "equal(1,3,1)\n",
        "\t"
      ],
      "metadata": {
        "colab": {
          "base_uri": "https://localhost:8080/"
        },
        "id": "GYWo_iNY_JfI",
        "outputId": "2a39089a-8dd7-4121-cae1-e7d1d98949aa"
      },
      "execution_count": null,
      "outputs": [
        {
          "output_type": "execute_result",
          "data": {
            "text/plain": [
              "2"
            ]
          },
          "metadata": {},
          "execution_count": 21
        }
      ]
    },
    {
      "cell_type": "code",
      "source": [
        "equalambda = lambda x,y,z:[x,y,x].count(max([x,y,z],  key=[x,y,z].count))\n",
        "equalambda(1,2,3)"
      ],
      "metadata": {
        "id": "8iN4UZR-GFGM",
        "outputId": "610b7c13-d07a-4e70-e0dc-b2c48151bd3c",
        "colab": {
          "base_uri": "https://localhost:8080/"
        }
      },
      "execution_count": null,
      "outputs": [
        {
          "output_type": "execute_result",
          "data": {
            "text/plain": [
              "2"
            ]
          },
          "metadata": {},
          "execution_count": 22
        }
      ]
    },
    {
      "cell_type": "markdown",
      "source": [
        "A number is said to be Harshad if it's exactly divisible by the sum of its digits. Create a function that determines whether a number is a Harshad or not."
      ],
      "metadata": {
        "id": "TH26ySQrdJiY"
      }
    },
    {
      "cell_type": "code",
      "source": [
        "input_num = 171 # int(input(\"Enter a num to check whether its a HARSHAD num or not : \"))\n",
        "\n",
        "def is_harshad(x):\n",
        "  toplam = 0\n",
        "  for i in range(len(str(x))):\n",
        "    toplam += int(str(x)[i])\n",
        "  if not input_num % toplam :\n",
        "    print(x,\"is a HARSHAD number\")\n",
        "  else:\n",
        "    print(x,\"is NOT a HARSHAD number\")\n",
        "\n",
        "is_harshad(input_num)\n"
      ],
      "metadata": {
        "colab": {
          "base_uri": "https://localhost:8080/"
        },
        "id": "zXUvOI-FdOEB",
        "outputId": "c55cd027-2a0c-41c6-d19e-7901821268c5"
      },
      "execution_count": null,
      "outputs": [
        {
          "output_type": "stream",
          "name": "stdout",
          "text": [
            "171 is a HARSHAD number\n"
          ]
        }
      ]
    },
    {
      "cell_type": "markdown",
      "source": [
        "Elinizde bir teste ait cevap anahtarı ve öğrenci cevaplarının olduğu listeler var.\n",
        "Siz bu cevapları anahtar ile kontrol ederek sonuçları doğru veya yanlış olarak çıktı almak istiyorsunuz.\n",
        "\n",
        "\n",
        "Bunu yapacak kodları lambda ve map fonksiyonları ile nasıl yaparsınız.\n",
        "\n",
        "\n",
        "Örnek: \n",
        "\n",
        "cevap_anahtarı=[“a”,“c”,“e”,“b”,“a”]\n",
        "\n",
        "ogrenci_1=[“a”,“d”,“d”,“b”,“a”]\n",
        "\n",
        "\n",
        "İstenen çıktı Çıktı: [‘doğru’, ‘yanlıs’, ‘yanlıs’, ‘doğru’, ‘doğru’]"
      ],
      "metadata": {
        "id": "LPiUHB8yhOqP"
      }
    },
    {
      "cell_type": "code",
      "source": [
        "\n",
        "ans_keys = [\"a\",\"c\",\"e\",\"b\",\"a\"] \n",
        "stud_1 = [\"a\",\"d\",\"d\",\"b\",\"a\"]\n",
        "func = (lambda x,y : 'RIGHT' if x==y else 'WRONG')\n",
        "print(list(map(func, ans_keys,stud_1)))\n"
      ],
      "metadata": {
        "colab": {
          "base_uri": "https://localhost:8080/"
        },
        "id": "je0FkNd-hYhR",
        "outputId": "59bc6eec-651f-42ac-d533-d17482e83538"
      },
      "execution_count": null,
      "outputs": [
        {
          "output_type": "stream",
          "name": "stdout",
          "text": [
            "['RIGHT', 'WRONG', 'WRONG', 'RIGHT', 'RIGHT']\n"
          ]
        }
      ]
    },
    {
      "cell_type": "markdown",
      "source": [
        "Let's construct a function with lambda that returns the arithmetic mean of a sequence of integers between two given numbers, including themselves.  ?????"
      ],
      "metadata": {
        "id": "TLrd4G0OnHFz"
      }
    },
    {
      "cell_type": "code",
      "source": [
        "input_num1 = 10 # int(input(\"Enter a num : \"))\n",
        "input_num2 = 15 # int(input(\"Enter another num : \"))\n",
        "\n",
        "num_list = [*range(int(input_num1), int(input_num2)+1, 1)]\n",
        "print(*num_list,\"\\n\", \"Average is : \", sum(num_list)/len(num_list))\n",
        "\n",
        "# result_ = lambda input_num1, input_num2 : print(sum(range(input_num1,input_num2+1)  / (input_num1-input_num2+1)))\n",
        "# result_"
      ],
      "metadata": {
        "colab": {
          "base_uri": "https://localhost:8080/"
        },
        "id": "rcXbqirYnVuU",
        "outputId": "78756409-c30d-42c2-9dd7-21c107d14777"
      },
      "execution_count": null,
      "outputs": [
        {
          "output_type": "stream",
          "name": "stdout",
          "text": [
            "10 11 12 13 14 15 \n",
            " Average is :  12.5\n"
          ]
        }
      ]
    },
    {
      "cell_type": "code",
      "source": [
        "input_num1 = 10 # int(input(\"Enter a num : \"))\n",
        "mean = lambda x: print(sum(range(x+1) / (x+1)))\n",
        "mean\n",
        "toplam = 0\n",
        "counter = 0\n",
        "for i in range(1,10+1):\n",
        "  toplam += i\n",
        "  counter += 1\n",
        "print(counter, toplam)\n",
        "asdasd = lambda x: "
      ],
      "metadata": {
        "colab": {
          "base_uri": "https://localhost:8080/"
        },
        "id": "xVVDy2SJzKah",
        "outputId": "eaeafaec-cb56-4e16-9cdf-feb8cc594a5b"
      },
      "execution_count": null,
      "outputs": [
        {
          "output_type": "stream",
          "name": "stdout",
          "text": [
            "10 55\n"
          ]
        }
      ]
    },
    {
      "cell_type": "markdown",
      "source": [
        "Factorial Calculation"
      ],
      "metadata": {
        "id": "HggJBcSFMa-G"
      }
    },
    {
      "cell_type": "code",
      "source": [
        "def my_factor(n):\n",
        "  result = 1\n",
        "  for i in range(n):\n",
        "    result *= i + 1\n",
        "  return(result)\n",
        "print(my_factor(4))\n",
        "print(my_factor(5))\n",
        "print(my_factor(6))\n"
      ],
      "metadata": {
        "colab": {
          "base_uri": "https://localhost:8080/"
        },
        "id": "QyCLw2HbKo0R",
        "outputId": "7896372b-5532-4d7c-9f8d-ea21466d39b3"
      },
      "execution_count": null,
      "outputs": [
        {
          "output_type": "stream",
          "name": "stdout",
          "text": [
            "24\n",
            "120\n",
            "720\n"
          ]
        }
      ]
    },
    {
      "cell_type": "markdown",
      "source": [
        "FUNCTION RECURSION"
      ],
      "metadata": {
        "id": "lMpEXzHGMzUK"
      }
    },
    {
      "cell_type": "code",
      "source": [
        "def my_facto(n):\n",
        "\n",
        "  if n==1 or n==0 :\n",
        "    return 1\n",
        "  else:\n",
        "    return n * my_facto(n-1)   # Since 5! = 5 * 4!\n",
        "print(my_facto(5))"
      ],
      "metadata": {
        "colab": {
          "base_uri": "https://localhost:8080/"
        },
        "id": "MWVL_BeFMyIX",
        "outputId": "8eee66de-a262-4c27-bd1b-d1d88b9d88e0"
      },
      "execution_count": null,
      "outputs": [
        {
          "output_type": "stream",
          "name": "stdout",
          "text": [
            "120\n"
          ]
        }
      ]
    },
    {
      "cell_type": "markdown",
      "source": [
        "PUNCTIATION AND DIGITS"
      ],
      "metadata": {
        "id": "ygajI0JrQgMV"
      }
    },
    {
      "cell_type": "code",
      "source": [
        "import string\n",
        "print(string.punctuation)\n",
        "print(string.digits)"
      ],
      "metadata": {
        "colab": {
          "base_uri": "https://localhost:8080/"
        },
        "id": "c4IDu6FCQMV9",
        "outputId": "16ac9eec-57d8-4010-ef48-b9af0f3b3e9f"
      },
      "execution_count": null,
      "outputs": [
        {
          "output_type": "stream",
          "name": "stdout",
          "text": [
            "!\"#$%&'()*+,-./:;<=>?@[\\]^_`{|}~\n",
            "0123456789\n"
          ]
        }
      ]
    },
    {
      "cell_type": "markdown",
      "source": [
        "DATETIME MODULE"
      ],
      "metadata": {
        "id": "UVYvxHCcQfX1"
      }
    },
    {
      "cell_type": "code",
      "source": [
        "import datetime as dt\n",
        "print(dt.date.today())\n",
        "print(dt.datetime.now())"
      ],
      "metadata": {
        "colab": {
          "base_uri": "https://localhost:8080/"
        },
        "id": "YNheob2YQ4_Z",
        "outputId": "02938274-cc09-428a-e20d-ea4bc7e95ac3"
      },
      "execution_count": null,
      "outputs": [
        {
          "output_type": "stream",
          "name": "stdout",
          "text": [
            "2022-03-23\n",
            "2022-03-23 19:35:51.970486\n"
          ]
        }
      ]
    },
    {
      "cell_type": "code",
      "source": [
        "birth = dt.date(1996,1,1)\n",
        "life = dt.date.today() - birth\n",
        "life/360"
      ],
      "metadata": {
        "colab": {
          "base_uri": "https://localhost:8080/"
        },
        "id": "lnjLgNFfR2Hi",
        "outputId": "2ba33d15-5739-4bbd-c9c8-ad1f6da2cfbb"
      },
      "execution_count": null,
      "outputs": [
        {
          "output_type": "execute_result",
          "data": {
            "text/plain": [
              "datetime.timedelta(days=26, seconds=52320)"
            ]
          },
          "metadata": {},
          "execution_count": 33
        }
      ]
    },
    {
      "cell_type": "code",
      "source": [
        "import datetime\n",
        "dateToday = datetime.date.today()\n",
        "toOrdinal = dateToday.toordinal()\n",
        "print(f\"Ordinal of date {dateToday} is {toOrdinal}\")\n",
        "\n",
        "birth = dt.date(1996,1,1).toordinal()\n",
        "print(\"year : \", (toOrdinal-birth)/365)"
      ],
      "metadata": {
        "colab": {
          "base_uri": "https://localhost:8080/"
        },
        "id": "Vj9Xi08FSmYW",
        "outputId": "530cc39a-37a7-44ce-dabe-c16406b0a20e"
      },
      "execution_count": null,
      "outputs": [
        {
          "output_type": "stream",
          "name": "stdout",
          "text": [
            "Ordinal of date 2022-03-23 is 738237\n",
            "year :  26.24109589041096\n"
          ]
        }
      ]
    },
    {
      "cell_type": "markdown",
      "source": [
        "RANDOM CHOICE"
      ],
      "metadata": {
        "id": "2juvWgsQXrDB"
      }
    },
    {
      "cell_type": "code",
      "source": [
        "from random import choice as ch\n",
        "city = [\"Stocholm\", \"Istanbul\", \"Seul\", \"Cape Town\"]\n",
        "print(ch(city))"
      ],
      "metadata": {
        "colab": {
          "base_uri": "https://localhost:8080/"
        },
        "id": "qx0E9qzAXtE6",
        "outputId": "6ca58e59-cda8-44d3-be41-d5ac5891a17a"
      },
      "execution_count": null,
      "outputs": [
        {
          "output_type": "stream",
          "name": "stdout",
          "text": [
            "Seul\n"
          ]
        }
      ]
    },
    {
      "cell_type": "markdown",
      "source": [
        "Given a non-empty string and an int n, return a new string where the character at index n has been removed. The value of n will be a valid index of a character in the original string (i.e. n will be in the range 0....len(str)-1 inclusive)."
      ],
      "metadata": {
        "id": "KE84H0zQXY51"
      }
    },
    {
      "cell_type": "code",
      "source": [
        "def missing_char(word, n):\n",
        "\tlist_ = list(word)\n",
        "\tlist_.pop(n)\n",
        "\tword = \"\".join([str(i) for i in list_])\n",
        "\treturn(word)\n",
        "print(missing_char(\"koral\",1))\n",
        "print(missing_char(\"clarusway\",0))"
      ],
      "metadata": {
        "colab": {
          "base_uri": "https://localhost:8080/"
        },
        "id": "DROBEGhoXRTI",
        "outputId": "260a0f3a-d943-4d84-fa18-8cea0225da11"
      },
      "execution_count": null,
      "outputs": [
        {
          "output_type": "stream",
          "name": "stdout",
          "text": [
            "kral\n",
            "larusway\n"
          ]
        }
      ]
    },
    {
      "cell_type": "code",
      "source": [
        "from itertools import combinations\n",
        "# set the number of closest combinations to show, the targeted number and the list\n",
        "show = 5\n",
        "target = 8276\n",
        "lis = [497.96, 10, 5084, 156.43, 381.3, 3298.85, 625.68]\n",
        "\n",
        "diffs = []\n",
        "for n in range(1, len(lis)+1):\n",
        "    numbers = combinations(lis, n)\n",
        "    # list the combinations and their absolute difference to target\n",
        "    for combi in numbers:\n",
        "        diffs.append([combi, abs(target - sum(combi))])\n",
        "\n",
        "diffs.sort(key=lambda x: x[1])\n",
        "\n",
        "for item in diffs[:show]:\n",
        "    print(item[0], round(item[1],10))"
      ],
      "metadata": {
        "colab": {
          "base_uri": "https://localhost:8080/"
        },
        "id": "5s8bogdWBp1M",
        "outputId": "820000fc-aaf9-455a-a0e1-3453bcbff938"
      },
      "execution_count": null,
      "outputs": [
        {
          "output_type": "stream",
          "name": "stdout",
          "text": [
            "(5084, 3298.85) 106.85\n",
            "(10, 5084, 3298.85) 116.85\n",
            "(5084, 156.43, 3298.85) 263.28\n",
            "(10, 5084, 156.43, 3298.85) 273.28\n",
            "(5084, 381.3, 3298.85) 488.15\n"
          ]
        }
      ]
    },
    {
      "cell_type": "markdown",
      "source": [
        "Find the smallest number which can be divided all numbers from 1 to 20 (inclusive)"
      ],
      "metadata": {
        "id": "2QwtOPp450GI"
      }
    },
    {
      "cell_type": "code",
      "source": [
        "i=2520\n",
        "while True:\n",
        "  i += 1\n",
        "  for j in range(2,21):\n",
        "    counter = 0\n",
        "    if i%j : #tambölünmezse\n",
        "      counter += 1\n",
        "      if counter > 0 :\n",
        "        break\n",
        "  if not counter:\n",
        "    print(i)\n",
        "    break"
      ],
      "metadata": {
        "colab": {
          "base_uri": "https://localhost:8080/"
        },
        "id": "gply7ohM5itT",
        "outputId": "c3187c40-742b-45c8-b083-f293328cdef5"
      },
      "execution_count": null,
      "outputs": [
        {
          "output_type": "stream",
          "name": "stdout",
          "text": [
            "232792560\n"
          ]
        }
      ]
    },
    {
      "cell_type": "markdown",
      "source": [
        "In this kata you have to correctly return who is the \"survivor\", ie: the last element of a Josephus permutation.\n",
        "\n",
        "Basically you have to assume that n people are put into a circle and that\n",
        " they are eliminated in steps of k elements, like this:\n",
        "josephus_survivor(7,3) => means 7 people in a circle;\n",
        "one every 3 is eliminated until one remains\n",
        "\n",
        "\n",
        "*   [1,2,3,4,5,6,7] - initial sequence\n",
        "*   [1,2,4,5,6,7] => 3 is counted out\n",
        "*   [1,2,4,5,7] => 6 is counted out\n",
        "*   [1,4,5,7] => 2 is counted out\n",
        "*   [1,4,5] => 7 is counted out\n",
        "*   [1,4] => 5 is counted out\n",
        "*   [4] => 1 counted out, 4 is the last element - the survivor! "
      ],
      "metadata": {
        "id": "MWPcNJD758nU"
      }
    },
    {
      "cell_type": "code",
      "source": [
        "def koralius_survivor(a,b):\n",
        "  list_init = list(range(1,a+1))\n",
        "  delete_index = b-1\n",
        "  next_start = 0\n",
        "  print(\"Initial list : {:>39}\".format(str(list_init)))\n",
        "  for i in range(a): \n",
        "    temp_list = list_init[next_start:]\n",
        "    temp_list.extend(list_init)\n",
        "    if i< len(list_init)-1: # to prevent range error at the last step\n",
        "      next_start = list_init.index(temp_list[delete_index]) # starting index of next temporary list\n",
        "    list_init.remove(temp_list[delete_index]) # drop it from main list\n",
        "    print(temp_list[delete_index],\" is counted out. New list is :\",list_init,\"\\n\")\n",
        "    if len(list_init)==1: \n",
        "      print(\"---->>>>  \",list_init[0], \" is the survivor!   <<<<----\")\n",
        "      break\n",
        "\n",
        "koralius_survivor(7,3)"
      ],
      "metadata": {
        "colab": {
          "base_uri": "https://localhost:8080/"
        },
        "id": "X-vvb-fGevny",
        "outputId": "04366c33-1968-44ad-c78f-ba79700a92c0"
      },
      "execution_count": null,
      "outputs": [
        {
          "output_type": "stream",
          "name": "stdout",
          "text": [
            "Initial list :                   [1, 2, 3, 4, 5, 6, 7]\n",
            "3  is counted out. New list is : [1, 2, 4, 5, 6, 7] \n",
            "\n",
            "6  is counted out. New list is : [1, 2, 4, 5, 7] \n",
            "\n",
            "2  is counted out. New list is : [1, 4, 5, 7] \n",
            "\n",
            "7  is counted out. New list is : [1, 4, 5] \n",
            "\n",
            "1  is counted out. New list is : [4, 5] \n",
            "\n",
            "5  is counted out. New list is : [4] \n",
            "\n",
            "---->>>>   4  is the survivor!   <<<<----\n"
          ]
        }
      ]
    },
    {
      "cell_type": "markdown",
      "source": [
        "```\n",
        "Given a string containing just the characters '(', ')', '{', '}', '[' and ']',\n",
        "determine if the input string is valid.\n",
        "An input string is valid if:\n",
        "Open brackets must be closed by the same type of brackets.\n",
        "Open brackets must be closed in the correct order.\n",
        "Note that an empty string is also considered valid.\n",
        "Example 1:\n",
        "Input: \"()\"\n",
        "Output: True\n",
        "Example 2:\n",
        "Input: \"()[]{}\"\n",
        "Output: True\n",
        "Example 3:\n",
        "Input: \"(]\"\n",
        "Output: False\n",
        "Example 4:\n",
        "Input: \"([)]\"\n",
        "Output: False\n",
        "Example 5:\n",
        "Input: \"{[]}\"\n",
        "Output: True\n",
        "```\n",
        "\n"
      ],
      "metadata": {
        "id": "G36qS7jsennY"
      }
    },
    {
      "cell_type": "code",
      "source": [
        "text_input  = \"(den(eme1[deneme2]{deneme3})\"\n",
        "print(len(text_input))"
      ],
      "metadata": {
        "colab": {
          "base_uri": "https://localhost:8080/"
        },
        "id": "gv4tks7P8C2J",
        "outputId": "1c629311-cad2-4816-eb9e-a09fb99a0e0b"
      },
      "execution_count": null,
      "outputs": [
        {
          "output_type": "stream",
          "name": "stdout",
          "text": [
            "28\n"
          ]
        }
      ]
    },
    {
      "cell_type": "code",
      "source": [
        "text_input  = \"(deneme1[deneme2]{deneme3})\"\n",
        "text_list = list(text_input)\n",
        "start_str = None\n",
        "# # start_str = map(lambda x: index(x) if x==\"(\" , text_list )\n",
        "# q =( lambda x : x.index() for x in text_list if x==\"(\" )\n",
        "# for i in q:\n",
        "#   for j in i:\n",
        "#     print(j(\"(\"))\n",
        "temp_list = text_list\n",
        "reversed_list = text_list[::-1]\n",
        "flag = True\n",
        "sum_a1 = text_list.count(\"(\")\n",
        "sum_a2 = text_list.count(\")\")\n",
        "sum_b1 = text_list.count(\"[\")\n",
        "sum_b2 = text_list.count(\"]\")\n",
        "sum_c1 = text_list.count(\"{\")\n",
        "sum_c2 = text_list.count(\"}\")\n",
        "if sum_a1!=sum_a1 or sum_b1!=sum_b2 or sum_c1!=sum_c2 :\n",
        "  flag = False\n",
        "else:  # parantez sayıları doğru ise sıraya bakarız;\n",
        "  for each in range(24): #range(len(temp_list)):\n",
        "    print(each)\n",
        "  # while True:\n",
        "    if temp_list[each] == \"(\" :\n",
        "      temp_list.pop(each)\n",
        "      reversed_list = temp_list[::-1]\n",
        "      order_a2 = reversed_list.index(\")\")\n",
        "      order_b2 = reversed_list.index(\"]\")\n",
        "      order_c2 = reversed_list.index(\"}\")\n",
        "      if (order_a2 >= order_b2) or (order_a2 >= order_c2):\n",
        "        flag = False\n",
        "      else:\n",
        "        reversed_list.pop(each)\n",
        "    elif temp_list[each] == \"[\" :\n",
        "      temp_list.pop(each)\n",
        "      reversed_list = temp_list[::-1]\n",
        "      order_a2 = reversed_list.index(\")\")\n",
        "      order_b2 = reversed_list.index(\"]\")\n",
        "      order_c2 = reversed_list.index(\"}\")\n",
        "      if (order_b2 >= order_a2) or (order_b2 >= order_c2):\n",
        "        flag = False\n",
        "      else:\n",
        "        reversed_list.pop(each)\n",
        "    elif temp_list[each] == \"{\" :\n",
        "      temp_list.pop(each)\n",
        "      reversed_list = temp_list[::-1]\n",
        "      order_a2 = reversed_list.index(\")\")\n",
        "      order_b2 = reversed_list.index(\"]\")\n",
        "      order_c2 = reversed_list.index(\"}\")\n",
        "      if (order_c2 >= order_a2) or (order_c2 >= order_b2):\n",
        "        flag = False\n",
        "      else:\n",
        "        reversed_list.pop(each)\n",
        "    else:\n",
        "      print(\"else girdi, np\")\n",
        "\n",
        "\n",
        "\n",
        "\n",
        "print(flag)\n"
      ],
      "metadata": {
        "id": "YLa9W9RGei6S"
      },
      "execution_count": null,
      "outputs": []
    },
    {
      "cell_type": "code",
      "source": [
        "# text_input  = \"(deneme1[deneme2]{deneme3})\"   {(({}[]{})[])}\n",
        "text_str = \"{(({}[]{})[])}([)]\"\n",
        "text = list(text_str)  # iterasyon işlemlerini daha rahat yapmak için list'e çevirelim\n",
        "temp = text  # kopyasını oluşturalım\n",
        "flag = True\n",
        "\n",
        "if text.count(\"(\")!=text.count(\")\") or text.count(\"[\")!=text.count(\"]\") or text.count(\"{\")!=text.count(\"}\") :  # parantez sayıları valid değilse;\n",
        "  flag = False\n",
        "\n",
        "else:  # parantez adetleri doğru ise sıraya bakarız;\n",
        "  while i < len(text_str):\n",
        "    before_len_temp = len(temp)\n",
        "    if text[i] == \"]\":\n",
        "      if temp[temp.index(\"]\")-1]== \"[\" :\n",
        "        temp.pop(i)\n",
        "        temp.pop(i-1)\n",
        "        i=0\n",
        "    elif text[i] == \"}\":\n",
        "      if temp[temp.index(\"}\")-1]== \"{\" :\n",
        "        temp.pop(i)\n",
        "        temp.pop(i-1)\n",
        "        i=0\n",
        "    elif text[i] == \")\":\n",
        "      if temp[temp.index(\")\")-1] == \"(\" :\n",
        "        temp.pop(i)\n",
        "        temp.pop(i-1)\n",
        "        i=0\n",
        "    i += 1 \n",
        "    after_len_temp = len(temp)\n",
        "    if len(temp)==0 : # çıkış koşulu     ([)]\n",
        "      print(temp)\n",
        "      break\n",
        "    print(temp)\n",
        "print(i)  \n",
        "print(flag)"
      ],
      "metadata": {
        "id": "zfMKcgZYB0qa"
      },
      "execution_count": null,
      "outputs": []
    },
    {
      "cell_type": "code",
      "source": [
        "text_str = \"{(({}[]{})[])}\"\n",
        "text = list(text_str)\n",
        "temp = text\n",
        "while i < len(text_str):\n",
        "  if text[i] == \"]\":\n",
        "    if text[i-1] == \"[\":\n",
        "      temp.pop(i)\n",
        "      temp.pop(i-1)\n",
        "      i=0\n",
        "  elif text[i] == \"}\":\n",
        "    if temp[temp.index(\"}\")-1]:\n",
        "      temp.pop(i)\n",
        "      temp.pop(i-1)\n",
        "      i=0\n",
        "  elif text[i] == \")\":\n",
        "    if text[i-1] == \"(\":\n",
        "      temp.pop(i)\n",
        "      temp.pop(i-1)\n",
        "      i=0\n",
        "  else:\n",
        "    print(\"aman allahım noluyor\")\n",
        "  i += 1\n",
        "  if len(temp)==0 : # çıkış koşulu\n",
        "    print(len(temp))\n",
        "    break\n"
      ],
      "metadata": {
        "colab": {
          "base_uri": "https://localhost:8080/"
        },
        "id": "llfwZpg1U1IF",
        "outputId": "12f2c4ae-4a5a-4f2c-f279-189482cd422c"
      },
      "execution_count": null,
      "outputs": [
        {
          "output_type": "stream",
          "name": "stdout",
          "text": [
            "aman allahım noluyor\n",
            "aman allahım noluyor\n",
            "aman allahım noluyor\n",
            "aman allahım noluyor\n",
            "aman allahım noluyor\n",
            "aman allahım noluyor\n",
            "aman allahım noluyor\n",
            "aman allahım noluyor\n",
            "aman allahım noluyor\n",
            "aman allahım noluyor\n",
            "aman allahım noluyor\n",
            "aman allahım noluyor\n",
            "aman allahım noluyor\n",
            "aman allahım noluyor\n",
            "0\n"
          ]
        }
      ]
    },
    {
      "cell_type": "code",
      "source": [
        "def path_choice():\n",
        "  import random\n",
        "  path = [\"Full Stack\", \"Data\", \"DevOps\"]\n",
        "  n = int(input(\"How many iterations do you want? : \"))\n",
        "  my_choice = [random.choice(path) for i in range(1,n + 1)]\n",
        "  print(my_choice)\n",
        "  return max(my_choice, key=my_choice.count)\n",
        "path_choice()"
      ],
      "metadata": {
        "colab": {
          "base_uri": "https://localhost:8080/",
          "height": 70
        },
        "id": "FAL4ikNgpj_I",
        "outputId": "d8f74283-b163-4e46-f46f-366cc18bbc27"
      },
      "execution_count": null,
      "outputs": [
        {
          "output_type": "stream",
          "name": "stdout",
          "text": [
            "How many iterations do you want? : 1\n",
            "['DevOps']\n"
          ]
        },
        {
          "output_type": "execute_result",
          "data": {
            "text/plain": [
              "'DevOps'"
            ],
            "application/vnd.google.colaboratory.intrinsic+json": {
              "type": "string"
            }
          },
          "metadata": {},
          "execution_count": 5
        }
      ]
    },
    {
      "cell_type": "code",
      "source": [
        "def front_back(word):\n",
        "    if len(word) == 1:\n",
        "        return word\n",
        "    else:\n",
        "        templist = list(word)\n",
        "        lastchar = templist[len(templist)-1]\n",
        "        templist[len(templist)-1] = templist[0]\n",
        "        templist[0] = lastchar\n",
        "        str = \"\".join(templist)\n",
        "        return str\n",
        "#TESTS:        \n",
        "print(front_back('clarusway'))\n",
        "print(front_back('a'))\n",
        "print(front_back('ab'))"
      ],
      "metadata": {
        "id": "uYL2x2kjq5Ms",
        "colab": {
          "base_uri": "https://localhost:8080/"
        },
        "outputId": "a8a79401-a589-4cf6-870f-7e7544786b84"
      },
      "execution_count": null,
      "outputs": [
        {
          "output_type": "stream",
          "name": "stdout",
          "text": [
            "ylaruswac\n",
            "a\n",
            "ba\n"
          ]
        }
      ]
    },
    {
      "cell_type": "markdown",
      "source": [
        "#Palindrom word finder"
      ],
      "metadata": {
        "id": "ZsqSFAyCeNxe"
      }
    },
    {
      "cell_type": "code",
      "source": [
        "import sys\n",
        "\n",
        "class Solution:\n",
        "    # Write your code here\n",
        "    def pushCharacter(self,word):\n",
        "      word = word[1:]\n",
        "    def enqueueCharacter(self,word):\n",
        "      word = word[1::-1]\n",
        "    def popCharacter():\n",
        "      pass\n",
        "    def dequeueCharacter():\n",
        "      pass\n",
        "      word = word[::-1]\n",
        "# read the string s\n",
        "s=input()\n",
        "#Create the Solution class object\n",
        "obj=Solution()   \n",
        "\n",
        "l=len(s)\n",
        "# push/enqueue all the characters of string s to stack\n",
        "for i in range(l):\n",
        "    obj.pushCharacter(s[i])\n",
        "    obj.enqueueCharacter(s[i])\n",
        "    \n",
        "isPalindrome=True\n",
        "'''\n",
        "pop the top character from stack\n",
        "dequeue the first character from queue\n",
        "compare both the characters\n",
        "''' \n",
        "for i in range(l // 2):\n",
        "    if obj.popCharacter()!=obj.dequeueCharacter():\n",
        "        isPalindrome=False\n",
        "        break\n",
        "#finally print whether string s is palindrome or not.\n",
        "if isPalindrome:\n",
        "    print(\"The word, \"+s+\", is a palindrome.\")\n",
        "else:\n",
        "    print(\"The word, \"+s+\", is not a palindrome.\") "
      ],
      "metadata": {
        "id": "urTHd56ZNFjh",
        "colab": {
          "base_uri": "https://localhost:8080/",
          "height": 252
        },
        "outputId": "c3d859a9-58c5-4d70-d2d1-184aed087094"
      },
      "execution_count": null,
      "outputs": [
        {
          "name": "stdout",
          "output_type": "stream",
          "text": [
            "racer\n"
          ]
        },
        {
          "output_type": "error",
          "ename": "TypeError",
          "evalue": "ignored",
          "traceback": [
            "\u001b[0;31m---------------------------------------------------------------------------\u001b[0m",
            "\u001b[0;31mTypeError\u001b[0m                                 Traceback (most recent call last)",
            "\u001b[0;32m<ipython-input-19-cb4b83cafc20>\u001b[0m in \u001b[0;36m<module>\u001b[0;34m()\u001b[0m\n\u001b[1;32m     30\u001b[0m ''' \n\u001b[1;32m     31\u001b[0m \u001b[0;32mfor\u001b[0m \u001b[0mi\u001b[0m \u001b[0;32min\u001b[0m \u001b[0mrange\u001b[0m\u001b[0;34m(\u001b[0m\u001b[0ml\u001b[0m \u001b[0;34m//\u001b[0m \u001b[0;36m2\u001b[0m\u001b[0;34m)\u001b[0m\u001b[0;34m:\u001b[0m\u001b[0;34m\u001b[0m\u001b[0;34m\u001b[0m\u001b[0m\n\u001b[0;32m---> 32\u001b[0;31m     \u001b[0;32mif\u001b[0m \u001b[0mobj\u001b[0m\u001b[0;34m.\u001b[0m\u001b[0mpopCharacter\u001b[0m\u001b[0;34m(\u001b[0m\u001b[0;34m)\u001b[0m\u001b[0;34m!=\u001b[0m\u001b[0mobj\u001b[0m\u001b[0;34m.\u001b[0m\u001b[0mdequeueCharacter\u001b[0m\u001b[0;34m(\u001b[0m\u001b[0;34m)\u001b[0m\u001b[0;34m:\u001b[0m\u001b[0;34m\u001b[0m\u001b[0;34m\u001b[0m\u001b[0m\n\u001b[0m\u001b[1;32m     33\u001b[0m         \u001b[0misPalindrome\u001b[0m\u001b[0;34m=\u001b[0m\u001b[0;32mFalse\u001b[0m\u001b[0;34m\u001b[0m\u001b[0;34m\u001b[0m\u001b[0m\n\u001b[1;32m     34\u001b[0m         \u001b[0;32mbreak\u001b[0m\u001b[0;34m\u001b[0m\u001b[0;34m\u001b[0m\u001b[0m\n",
            "\u001b[0;31mTypeError\u001b[0m: popCharacter() takes 0 positional arguments but 1 was given"
          ]
        }
      ]
    },
    {
      "cell_type": "code",
      "source": [
        "input = list(\"tenet\")\n",
        "rev_inp = input[::-1]\n",
        "for i in range(len(input)):\n",
        "  input.pop(0)\n",
        "  rev_inp.pop(0)\n",
        "  if input != rev_inp:\n",
        "    print(\"Not Palindrom\")\n",
        "    break\n",
        "  if len(input)==0:\n",
        "    print(\"Palindrom\")"
      ],
      "metadata": {
        "colab": {
          "base_uri": "https://localhost:8080/"
        },
        "id": "-3S73VIbeYDI",
        "outputId": "45797562-8433-4ef0-f1bb-da4fe1ecc72e"
      },
      "execution_count": null,
      "outputs": [
        {
          "output_type": "stream",
          "name": "stdout",
          "text": [
            "Palindrom\n"
          ]
        }
      ]
    }
  ]
}