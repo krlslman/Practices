{
  "nbformat": 4,
  "nbformat_minor": 0,
  "metadata": {
    "colab": {
      "name": "py_LessonPractices_March.ipynb",
      "provenance": [],
      "collapsed_sections": []
    },
    "kernelspec": {
      "name": "python3",
      "display_name": "Python 3"
    },
    "language_info": {
      "name": "python"
    }
  },
  "cells": [
    {
      "cell_type": "markdown",
      "source": [
        "#List Comprehension"
      ],
      "metadata": {
        "id": "l4yc8Kaxhcz8"
      }
    },
    {
      "cell_type": "code",
      "execution_count": null,
      "metadata": {
        "colab": {
          "base_uri": "https://localhost:8080/"
        },
        "id": "rqNAiEkobrUA",
        "outputId": "f07f9465-60f5-468d-e351-45e136c03f1d"
      },
      "outputs": [
        {
          "output_type": "stream",
          "name": "stdout",
          "text": [
            "[1, 2, 3]\n",
            "[4, 5]\n",
            "[6, 7, 8, 9]\n"
          ]
        }
      ],
      "source": [
        "my_list = [[1, 2, 3], [4, 5], [6, 7, 8, 9]]\n",
        "for i in my_list:\n",
        "  print(i)"
      ]
    },
    {
      "cell_type": "code",
      "source": [
        "my_list = [[1, 2, 3], [4, 5], [6, 7, 8, 9]]\n",
        "list_copy = [i for i in my_list]\n",
        "print(list_copy)"
      ],
      "metadata": {
        "colab": {
          "base_uri": "https://localhost:8080/"
        },
        "id": "5g6_ol2FjurK",
        "outputId": "a6aee9c1-17d4-43b1-d2a0-928201cc32a2"
      },
      "execution_count": null,
      "outputs": [
        {
          "output_type": "stream",
          "name": "stdout",
          "text": [
            "[[1, 2, 3], [4, 5], [6, 7, 8, 9]]\n"
          ]
        }
      ]
    },
    {
      "cell_type": "code",
      "source": [
        "my_list = [[1, 2, 3], [4, 5], [6, 7, 8, 9]]\n",
        "list_copy = [ ]\n",
        "for i in my_list:\n",
        "  for x in i:\n",
        "    list_copy.append(x)\n",
        "print(list_copy)"
      ],
      "metadata": {
        "colab": {
          "base_uri": "https://localhost:8080/"
        },
        "id": "Om2oIQ9nkcr3",
        "outputId": "d56a0ce4-acc6-4484-f73b-145d56efbc2b"
      },
      "execution_count": null,
      "outputs": [
        {
          "output_type": "stream",
          "name": "stdout",
          "text": [
            "[1, 2, 3, 4, 5, 6, 7, 8, 9]\n"
          ]
        }
      ]
    },
    {
      "cell_type": "code",
      "source": [
        "my_list = [[1, 2, 3], [4, 5], [6, 7, 8, 9]]\n",
        "list_copy = [x for i in my_list for x in i]\n",
        "print(list_copy)\n",
        "#*************************************************************************useful**************************************************"
      ],
      "metadata": {
        "colab": {
          "base_uri": "https://localhost:8080/"
        },
        "id": "Cr_cgYL7logH",
        "outputId": "63d2f489-d27a-4d10-ccc2-2fdeab9dca2c"
      },
      "execution_count": null,
      "outputs": [
        {
          "output_type": "stream",
          "name": "stdout",
          "text": [
            "[1, 2, 3, 4, 5, 6, 7, 8, 9]\n"
          ]
        }
      ]
    },
    {
      "cell_type": "code",
      "source": [
        "list_ = []\n",
        "for i in range(0,31):\n",
        "    if not i % 2 and i % 3:\n",
        "        list_.append(i)\n",
        "\n",
        "print(list_)"
      ],
      "metadata": {
        "colab": {
          "base_uri": "https://localhost:8080/"
        },
        "id": "GOfqz2Z1bIIU",
        "outputId": "d09fca16-1ce1-4302-b523-88a74066b703"
      },
      "execution_count": null,
      "outputs": [
        {
          "output_type": "stream",
          "name": "stdout",
          "text": [
            "[2, 4, 8, 10, 14, 16, 20, 22, 26, 28]\n"
          ]
        }
      ]
    },
    {
      "cell_type": "code",
      "source": [
        "#code example above can be shortened with list comprehension as follows:\n",
        "x=[i for i in range(0,31) if (not i % 2) and (i % 3)]\n",
        "print(x)"
      ],
      "metadata": {
        "colab": {
          "base_uri": "https://localhost:8080/"
        },
        "id": "iIH7tTJvbLsq",
        "outputId": "9f889906-796a-4499-f7c2-c83af3fe0fda"
      },
      "execution_count": null,
      "outputs": [
        {
          "output_type": "stream",
          "name": "stdout",
          "text": [
            "[2, 4, 8, 10, 14, 16, 20, 22, 26, 28]\n"
          ]
        }
      ]
    },
    {
      "cell_type": "code",
      "source": [
        "#fibonacci blind code\n",
        "fiblist = [1,1]\n",
        "i=0\n",
        "new=0\n",
        "for i in range(8):\n",
        "  new = int(fiblist[-1]) + int(fiblist[-2])\n",
        "  fiblist.append(new)\n",
        "  i+=1\n",
        "print(fiblist)\n"
      ],
      "metadata": {
        "colab": {
          "base_uri": "https://localhost:8080/"
        },
        "id": "iKLF76FPmLBX",
        "outputId": "87940b4f-346b-465c-d813-adfc412206cf"
      },
      "execution_count": null,
      "outputs": [
        {
          "output_type": "stream",
          "name": "stdout",
          "text": [
            "[1, 1, 2, 3, 5, 8, 13, 21, 34, 55]\n"
          ]
        }
      ]
    },
    {
      "cell_type": "markdown",
      "source": [
        "Function practice - return & default values"
      ],
      "metadata": {
        "id": "Ln0CvJTuho04"
      }
    },
    {
      "cell_type": "code",
      "source": [
        "def function_sum_try(a,b,c):\n",
        "  print(\"This will be printed\")\n",
        "  return a+b+c\n",
        "  print(\"This will NOT be printed\")\n",
        "function_sum_try(5,6,7)"
      ],
      "metadata": {
        "colab": {
          "base_uri": "https://localhost:8080/"
        },
        "id": "G6-nzFIi81BG",
        "outputId": "32ed0ff2-4de4-4462-c22d-c42c75581a69"
      },
      "execution_count": null,
      "outputs": [
        {
          "output_type": "stream",
          "name": "stdout",
          "text": [
            "This will be printed\n"
          ]
        },
        {
          "output_type": "execute_result",
          "data": {
            "text/plain": [
              "18"
            ]
          },
          "metadata": {},
          "execution_count": 3
        }
      ]
    },
    {
      "cell_type": "code",
      "source": [
        "def say_hi(name=\"Unknown\"):  # To set default value\n",
        "  print(\"Hi \", name)\n",
        "\n",
        "say_hi()\n",
        "say_hi(\"Koral\")"
      ],
      "metadata": {
        "colab": {
          "base_uri": "https://localhost:8080/"
        },
        "id": "qLXvc8o99U20",
        "outputId": "14f9dbfb-a072-400a-ec14-145cd362f67c"
      },
      "execution_count": null,
      "outputs": [
        {
          "output_type": "stream",
          "name": "stdout",
          "text": [
            "Hi  Unknown\n",
            "Hi  Koral\n"
          ]
        }
      ]
    },
    {
      "cell_type": "markdown",
      "source": [
        "#Inheritance"
      ],
      "metadata": {
        "id": "bpiPHUFmh6fM"
      }
    },
    {
      "cell_type": "code",
      "source": [
        "class Person:\n",
        "  def __init__(self, fname, lname):\n",
        "    self.firstname = fname\n",
        "    self.lastname = lname\n",
        "\n",
        "  def printname(self):\n",
        "    print(self.firstname, self.lastname)\n",
        "\n",
        "#Use the Person class to create an object, and then execute the printname method:\n",
        "\n",
        "x = Person(\"John\", \"Doe\")\n",
        "x.printname()\n",
        "#--------------\n",
        "\n",
        "class Studenta(Person):\n",
        "  pass\n",
        "\n",
        "a = Studenta(\"se\", \"ko\")\n",
        "a.printname()\n",
        "#--------------\n",
        "\n",
        "class Studentb(Person):\n",
        "  def __init__(self, fname, lname):\n",
        "    super().__init__(fname, lname)\n",
        "\n",
        "class Studentc(Person):\n",
        "  def __init__(self, fname, lname, year, try_1):\n",
        "    super().__init__(fname, lname)\n",
        "    self.graduationyear = year\n",
        "    self.deneme = try_1\n",
        "    \n",
        "c = Studentc(\"Mike\", \"Olsen\", 2019, 55)\n",
        "print(c.deneme)\n"
      ],
      "metadata": {
        "colab": {
          "base_uri": "https://localhost:8080/"
        },
        "id": "leY6qJN9iBRi",
        "outputId": "52344e05-5b53-4b80-c71b-0d9e4ea70e2e"
      },
      "execution_count": null,
      "outputs": [
        {
          "output_type": "stream",
          "name": "stdout",
          "text": [
            "John Doe\n",
            "se ko\n",
            "55\n"
          ]
        }
      ]
    },
    {
      "cell_type": "code",
      "source": [
        "# ITARATOR\n",
        "\n",
        "class MyNumbers:\n",
        "  def __iter__(self):\n",
        "    self.a = 2\n",
        "    return self\n",
        "\n",
        "  def __next__(self):\n",
        "    x = self.a\n",
        "    self.a += 5\n",
        "    return x\n",
        "\n",
        "myclass = MyNumbers()\n",
        "myiter = iter(myclass)\n",
        "\n",
        "print(next(myiter))\n",
        "print(next(myiter))\n",
        "print(next(myiter))\n",
        "print(next(myiter))\n",
        "print(next(myiter))"
      ],
      "metadata": {
        "colab": {
          "base_uri": "https://localhost:8080/"
        },
        "id": "68sYW_xKuVy2",
        "outputId": "82e0b509-3bd6-409d-c79c-802bd6843166"
      },
      "execution_count": null,
      "outputs": [
        {
          "output_type": "stream",
          "name": "stdout",
          "text": [
            "2\n",
            "7\n",
            "12\n",
            "17\n",
            "22\n"
          ]
        }
      ]
    },
    {
      "cell_type": "code",
      "source": [
        "#STOP ITAROTOR\n",
        "class MyNumbers:\n",
        "  def __iter__(self):\n",
        "    self.a = 1\n",
        "    return self\n",
        "\n",
        "  def __next__(self):\n",
        "    if self.a <= 20:\n",
        "      x = self.a\n",
        "      self.a += 1\n",
        "      return x\n",
        "    else:\n",
        "      raise StopIteration\n",
        "\n",
        "myclass = MyNumbers()\n",
        "myiter = iter(myclass)\n",
        "\n",
        "for x in myiter:\n",
        "  print(x)"
      ],
      "metadata": {
        "id": "6utWuA8zuYdZ"
      },
      "execution_count": null,
      "outputs": []
    },
    {
      "cell_type": "markdown",
      "source": [
        "#Lesson  7 March 2022 - Instructor: Joseph"
      ],
      "metadata": {
        "id": "9j_101bTpsr6"
      }
    },
    {
      "cell_type": "markdown",
      "source": [
        "ARMSTRONG NUMBER"
      ],
      "metadata": {
        "id": "bmFGfZ50zf5d"
      }
    },
    {
      "cell_type": "code",
      "source": [
        "while True :   \n",
        "    number = input(\"Enter a positive integer number :\")\n",
        "    digits = len(number)\n",
        "    summ = 0   \n",
        "    if not number.isdigit() :       \n",
        "        print(number, \" is invalid entry. Please enter valid input.\")       \n",
        "    elif int(number) >= 0 :       \n",
        "        for i in range(digits) :           \n",
        "            summ = summ + int(number[i]) ** digits          \n",
        "        if summ == int(number) :\n",
        "            print(number, \" is an Armstrong Number.\")\n",
        "            break\n",
        "        else :\n",
        "            print(number, \" is not an Armstrong Number.\")\n",
        "            break"
      ],
      "metadata": {
        "colab": {
          "base_uri": "https://localhost:8080/"
        },
        "id": "eIs49zbspr44",
        "outputId": "1dad1827-a93a-4db5-a727-4ff4df65cc3f"
      },
      "execution_count": null,
      "outputs": [
        {
          "output_type": "stream",
          "name": "stdout",
          "text": [
            "Enter a positive integer number :55\n",
            "55  is not an Armstrong Number.\n"
          ]
        }
      ]
    },
    {
      "cell_type": "markdown",
      "source": [
        "PRIME NUMBER"
      ],
      "metadata": {
        "id": "fJ7Jb7SLzji6"
      }
    },
    {
      "cell_type": "code",
      "source": [
        "n = int(input(\"Enter a positive int number to check if it's a prime number: \"))\n",
        "\n",
        "counter = 0\n",
        "\n",
        "# if modulus operation in range returns more than 2 (dividion by 1 and division by self) it is not prime.\n",
        "# using counter as a parameter, calculate how many modulus exists.\n",
        "\n",
        "for i in range (1, n + 1):\n",
        "    if n % i == 0:\n",
        "        counter += 1\n",
        "\n",
        "if (n ==0) or (n == 1) or (counter >= 3):\n",
        "    print(n, \"is not a prime number.\")\n",
        "else:\n",
        "    print(n, \"is a prime number.\")"
      ],
      "metadata": {
        "id": "pcT7z8qKzecD"
      },
      "execution_count": null,
      "outputs": []
    },
    {
      "cell_type": "markdown",
      "source": [
        "LIST COMPREHENSION"
      ],
      "metadata": {
        "id": "xyTeKP-g0nZW"
      }
    },
    {
      "cell_type": "code",
      "source": [
        "sayılar = []\n",
        "for i in range(6):\n",
        "  sayılar.append(i)\n",
        "  print(sayılar)"
      ],
      "metadata": {
        "colab": {
          "base_uri": "https://localhost:8080/"
        },
        "id": "dBaGb45p0u36",
        "outputId": "47611806-ab8f-4dc8-c31e-7033eb13f289"
      },
      "execution_count": null,
      "outputs": [
        {
          "output_type": "stream",
          "name": "stdout",
          "text": [
            "[0]\n",
            "[0, 1]\n",
            "[0, 1, 2]\n",
            "[0, 1, 2, 3]\n",
            "[0, 1, 2, 3, 4]\n",
            "[0, 1, 2, 3, 4, 5]\n"
          ]
        }
      ]
    },
    {
      "cell_type": "code",
      "source": [
        "[i for i in range(6)]   # Kendisinden append'li davranır, her seferinde değişen i değerini içinde bulunduğu listeye (köşeli parantez) ekler"
      ],
      "metadata": {
        "colab": {
          "base_uri": "https://localhost:8080/"
        },
        "id": "PWeisPvR1G6t",
        "outputId": "b0f97d67-1151-4452-c582-157563be4387"
      },
      "execution_count": null,
      "outputs": [
        {
          "output_type": "execute_result",
          "data": {
            "text/plain": [
              "[0, 1, 2, 3, 4, 5]"
            ]
          },
          "metadata": {},
          "execution_count": 12
        }
      ]
    },
    {
      "cell_type": "code",
      "source": [
        "if 9 % 3:\n",
        "  print(\"this does not work since if 0 will not work\")\n",
        "elif 9%2:\n",
        "  print(\"this works since if 1 works\")"
      ],
      "metadata": {
        "colab": {
          "base_uri": "https://localhost:8080/"
        },
        "id": "Q6paREP237XT",
        "outputId": "33e5b9dc-cbf8-4ea0-f1c4-e90151da6a3b"
      },
      "execution_count": null,
      "outputs": [
        {
          "output_type": "stream",
          "name": "stdout",
          "text": [
            "this works since if 1 works\n"
          ]
        }
      ]
    },
    {
      "cell_type": "code",
      "source": [
        "print(\"if_body\") if 1==1 else print(\"else_body\")\n",
        "print(\"if_body\") if 1==0 else print(\"else_body\")"
      ],
      "metadata": {
        "colab": {
          "base_uri": "https://localhost:8080/"
        },
        "id": "4h1tY44X46qI",
        "outputId": "33795e06-6a79-4533-8635-c9ff7e3fdb19"
      },
      "execution_count": null,
      "outputs": [
        {
          "output_type": "stream",
          "name": "stdout",
          "text": [
            "if_body\n",
            "else_body\n"
          ]
        }
      ]
    },
    {
      "cell_type": "code",
      "source": [
        "generator = (i for i in range(5))  # this time we used not square paranthesis but normal ones to make it tuple.\n",
        "print(generator)\n",
        "print(list(generator))\n",
        "\n",
        "#print(next(generator))"
      ],
      "metadata": {
        "colab": {
          "base_uri": "https://localhost:8080/"
        },
        "id": "rRfcU25IEAMX",
        "outputId": "237510b9-f2e2-4dd8-82c7-c3a9bbebff96"
      },
      "execution_count": null,
      "outputs": [
        {
          "output_type": "stream",
          "name": "stdout",
          "text": [
            "<generator object <genexpr> at 0x7f124e79ee50>\n",
            "[0, 1, 2, 3, 4]\n"
          ]
        }
      ]
    },
    {
      "cell_type": "markdown",
      "source": [
        "#Practice before lesson 08-02-2022"
      ],
      "metadata": {
        "id": "JrG74oJzb__r"
      }
    },
    {
      "cell_type": "code",
      "source": [
        "num = int(input(\"Enter a number you want to see its factor result : \"))\n",
        "fac_result = 1\n",
        "len_ = len(str(num))\n",
        "while len_ < 3:\n",
        "    for i in range(1,num+1):\n",
        "        fac_result *= i\n",
        "    break\n",
        "\n",
        "print(fac_result)"
      ],
      "metadata": {
        "colab": {
          "base_uri": "https://localhost:8080/"
        },
        "id": "iIfzmtJIb_hT",
        "outputId": "67caf6a4-71a3-4c61-c52b-3f4ee890d3d6"
      },
      "execution_count": null,
      "outputs": [
        {
          "output_type": "stream",
          "name": "stdout",
          "text": [
            "Enter a number you want to see its factor result : 11\n",
            "39916800\n"
          ]
        }
      ]
    },
    {
      "cell_type": "markdown",
      "source": [
        "#frozenset()"
      ],
      "metadata": {
        "id": "umqBy1nzjqHU"
      }
    },
    {
      "cell_type": "code",
      "source": [
        "# tuple of vowels\n",
        "vowels = ('a', 'e', 'i', 'o', 'u')\n",
        "\n",
        "fSet = frozenset(vowels)\n",
        "print('The frozen set is:', fSet)\n",
        "print('The empty frozen set is:', frozenset())\n",
        "\n",
        "# frozensets are immutable, so code below won't work;\n",
        "# fSet.add('v')"
      ],
      "metadata": {
        "colab": {
          "base_uri": "https://localhost:8080/"
        },
        "id": "ipgJl8Dejs1P",
        "outputId": "3c7d0a44-c9b7-4bb1-aa63-dd8ae9e3aba7"
      },
      "execution_count": null,
      "outputs": [
        {
          "output_type": "stream",
          "name": "stdout",
          "text": [
            "The frozen set is: frozenset({'u', 'e', 'o', 'i', 'a'})\n",
            "The empty frozen set is: frozenset()\n"
          ]
        }
      ]
    },
    {
      "cell_type": "code",
      "source": [
        "# random dictionary\n",
        "person = {\"name\": \"John\", \"age\": 23, \"sex\": \"male\"}\n",
        "\n",
        "fSet = frozenset(person)\n",
        "print('The frozen set is:', fSet)"
      ],
      "metadata": {
        "colab": {
          "base_uri": "https://localhost:8080/"
        },
        "id": "KgWZ9xMpj728",
        "outputId": "3866a939-137e-4ad5-ea74-d12642ac26cf"
      },
      "execution_count": null,
      "outputs": [
        {
          "output_type": "stream",
          "name": "stdout",
          "text": [
            "The frozen set is: frozenset({'age', 'name', 'sex'})\n"
          ]
        }
      ]
    },
    {
      "cell_type": "markdown",
      "source": [
        "#zip()   \n",
        "Farklı liste yada tuple'lardaki aynı index'e sahip elemanları gruplayarak tuple döndürür."
      ],
      "metadata": {
        "id": "36-CPQVrwQ5U"
      }
    },
    {
      "cell_type": "code",
      "source": [
        "a = (\"John\", \"Charles\", \"Mike\")\n",
        "b = [\"Jenny\", \"Christy\", \"Monica\", \"Vicky\"]\n",
        "c = (\"xenny\", \"xhristy\", \"xonica\", \"xicky\")\n",
        "\n",
        "x = zip(a, b, c)\n",
        "\n",
        "#use the tuple() function to display a readable version of the result:\n",
        "print(tuple(x))"
      ],
      "metadata": {
        "colab": {
          "base_uri": "https://localhost:8080/"
        },
        "id": "Xt7BZfZPxKum",
        "outputId": "b6775fe1-a58d-43cb-8956-10a7f73dc7a6"
      },
      "execution_count": null,
      "outputs": [
        {
          "output_type": "stream",
          "name": "stdout",
          "text": [
            "(('John', 'Jenny', 'xenny'), ('Charles', 'Christy', 'xhristy'), ('Mike', 'Monica', 'xonica'))\n"
          ]
        }
      ]
    },
    {
      "cell_type": "markdown",
      "source": [
        "#filter()\n",
        "The filter() function extracts elements from an iterable (list, tuple etc.) for which a function returns True."
      ],
      "metadata": {
        "id": "V_GzLq5CzW-p"
      }
    },
    {
      "cell_type": "code",
      "source": [
        "# We will print EVEN numbers in the list;\n",
        "my_list = [1,2,3,4,5,6,7,8,9]\n",
        "def is_even(number):\n",
        "  if not number % 2:\n",
        "    return True\n",
        "result = list(filter(is_even, my_list))\n",
        "print(result)"
      ],
      "metadata": {
        "colab": {
          "base_uri": "https://localhost:8080/"
        },
        "id": "1Uqy2M-5zcBf",
        "outputId": "1e20194b-767b-4244-c1cf-411f02ca1012"
      },
      "execution_count": null,
      "outputs": [
        {
          "output_type": "stream",
          "name": "stdout",
          "text": [
            "[2, 4, 6, 8]\n"
          ]
        }
      ]
    },
    {
      "cell_type": "markdown",
      "source": [
        "#enumerate()\n",
        "Iterable'a counter ekler, counter'ın kaçtan başlayacağını ayarlayabiliriz. Start'a girdi yapmazsak 0 olarak alır.\n",
        "\n",
        "*   Syntax :   enumerate(iterable, start=0)\n",
        "*   Liste öğesi\n",
        "\n"
      ],
      "metadata": {
        "id": "bFAMvh-h1OyA"
      }
    },
    {
      "cell_type": "code",
      "source": [
        "grocery = ['bread', 'milk', 'butter']\n",
        "enumerateGrocery = enumerate(grocery)\n",
        "# converting to list\n",
        "print(list(enumerateGrocery))\n",
        "# changing the default counter\n",
        "enumerateGrocery = enumerate(grocery, 10)\n",
        "print(list(enumerateGrocery))"
      ],
      "metadata": {
        "colab": {
          "base_uri": "https://localhost:8080/"
        },
        "id": "ZS5v9Hbt2Tyd",
        "outputId": "84008bce-0bbb-4435-eafe-885d4fc32e1a"
      },
      "execution_count": null,
      "outputs": [
        {
          "output_type": "stream",
          "name": "stdout",
          "text": [
            "[(0, 'bread'), (1, 'milk'), (2, 'butter')]\n",
            "[(10, 'bread'), (11, 'milk'), (12, 'butter')]\n"
          ]
        }
      ]
    },
    {
      "cell_type": "code",
      "source": [
        "for item in enumerate(grocery):\n",
        "  print(item)\n",
        "\n",
        "print('\\n')\n",
        "\n",
        "for count, item in enumerate(grocery):\n",
        "  print(count, item)\n",
        "\n",
        "print('\\n')\n",
        "# changing default start value\n",
        "for count, item in enumerate(grocery, 100):\n",
        "  print(count, item)"
      ],
      "metadata": {
        "colab": {
          "base_uri": "https://localhost:8080/"
        },
        "id": "TBT-KCB_2we-",
        "outputId": "d2d8ef46-3b7d-4326-9436-b941db0243d3"
      },
      "execution_count": null,
      "outputs": [
        {
          "output_type": "stream",
          "name": "stdout",
          "text": [
            "(0, 'bread')\n",
            "(1, 'milk')\n",
            "(2, 'butter')\n",
            "\n",
            "\n",
            "0 bread\n",
            "1 milk\n",
            "2 butter\n",
            "\n",
            "\n",
            "100 bread\n",
            "101 milk\n",
            "102 butter\n"
          ]
        }
      ]
    },
    {
      "cell_type": "markdown",
      "source": [
        "#map()\n",
        "returns a map object(which is an iterator) of the results after applying the given function to each item of a given iterable (list, tuple etc.)"
      ],
      "metadata": {
        "id": "dV2x94_W3Tmn"
      }
    },
    {
      "cell_type": "code",
      "source": [
        "def addition(n):\n",
        "    return n+n\n",
        "\n",
        "numbers = [1,2,3,4,5]\n",
        "result = map(addition,numbers)\n",
        "print(list(result))"
      ],
      "metadata": {
        "id": "7bbQcwLe1V7M"
      },
      "execution_count": null,
      "outputs": []
    },
    {
      "cell_type": "markdown",
      "source": [
        "#Functions  09-03-22"
      ],
      "metadata": {
        "id": "z-wSPK4Y0S1P"
      }
    },
    {
      "cell_type": "code",
      "source": [
        "parrot(1000)                                          # 1 positional argument\n",
        "parrot(voltage=1000)                                  # 1 keyword argument\n",
        "parrot(voltage=1000000, action='VOOOOOM')             # 2 keyword arguments\n",
        "parrot(action='VOOOOOM', voltage=1000000)             # 2 keyword arguments \n",
        "parrot('a million', 'bereft of life', 'jump')         # 3 positional arguments\n",
        "parrot('a thousand', state='pushing up the daisies')  # 1 positional, 1 keyword"
      ],
      "metadata": {
        "id": "kXReQldc0e9w"
      },
      "execution_count": null,
      "outputs": []
    },
    {
      "cell_type": "code",
      "source": [
        "# Useful way to take a user input with a function:\n",
        "\n",
        "def ask_ok(prompt, retries=4, reminder='Please try again!'):\n",
        "    while True:\n",
        "        ok = input(prompt)\n",
        "        if ok in ('y', 'ye', 'yes'):\n",
        "            return True\n",
        "        if ok in ('n', 'no', 'nop', 'nope'):\n",
        "            return False\n",
        "        retries = retries - 1\n",
        "        if retries < 0:\n",
        "            raise ValueError('invalid user response')\n",
        "        print(reminder)"
      ],
      "metadata": {
        "id": "HCi-c2eT00t8"
      },
      "execution_count": null,
      "outputs": []
    },
    {
      "cell_type": "code",
      "source": [
        "# Default value of a parameter:\n",
        "def city(capital, continent='Europe'):\n",
        "    print(capital, 'in', continent)\n",
        "\n",
        "city('Athens')  # we don't have to pass any arguments into 'continent'\n",
        "city('Ulaanbaatar', continent='Asia')  # we can change the default value by kwargs"
      ],
      "metadata": {
        "colab": {
          "base_uri": "https://localhost:8080/"
        },
        "id": "urGuUb5-KxcJ",
        "outputId": "585f1bf1-7b18-493b-ad59-480d98077caa"
      },
      "execution_count": null,
      "outputs": [
        {
          "output_type": "stream",
          "name": "stdout",
          "text": [
            "Athens in Europe\n",
            "Ulaanbaatar in Asia\n"
          ]
        }
      ]
    },
    {
      "cell_type": "code",
      "source": [
        "# Arbitrary numbers of arguments:\n",
        "def fruiterer(*fruit) :\n",
        "    print('I want to get :')\n",
        "    for i in fruit :\n",
        "        print('-', i)\n",
        "        \n",
        "fruiterer('orange', 'banana', 'melon', 'ananas')"
      ],
      "metadata": {
        "colab": {
          "base_uri": "https://localhost:8080/"
        },
        "id": "HByWwuJsLw3o",
        "outputId": "d08f5af3-6ad5-45d0-8369-85c1a8a37537"
      },
      "execution_count": null,
      "outputs": [
        {
          "output_type": "stream",
          "name": "stdout",
          "text": [
            "I want to get :\n",
            "- orange\n",
            "- banana\n",
            "- melon\n",
            "- ananas\n"
          ]
        }
      ]
    },
    {
      "cell_type": "code",
      "source": [
        "#If you need to prefer to use arbitrary keyword arguments (**kwargs), you can use it in the same way.\n",
        "def animals(**kwargs):\n",
        "    for key, value in kwargs.items():\n",
        "        print(value, \"are\", key)\n",
        " \n",
        "animals(Carnivores=\"Lions\", Omnivores=\"Bears\", Herbivores=\"Deers\", Nomnivores=\"Human\")"
      ],
      "metadata": {
        "colab": {
          "base_uri": "https://localhost:8080/"
        },
        "id": "6zpul5P0Mdom",
        "outputId": "4609e6da-52e6-4549-9ae2-1e2e72bef32f"
      },
      "execution_count": null,
      "outputs": [
        {
          "output_type": "stream",
          "name": "stdout",
          "text": [
            "Lions are Carnivores\n",
            "Bears are Omnivores\n",
            "Deers are Herbivores\n",
            "Human are Nomnivores\n"
          ]
        }
      ]
    },
    {
      "cell_type": "code",
      "source": [
        "# Parametre başındaki * işareti, birden fazla parametreyi tek değere atar\n",
        "# Print'teki * işareti, direkt tuple'ı yazdırmak yerine tüm elemanları teker teker yazdırmayı sağlar\n",
        "def deneme(*args):\n",
        "  print(*args)\n",
        "deneme(1,2,3,4,5,6)"
      ],
      "metadata": {
        "colab": {
          "base_uri": "https://localhost:8080/"
        },
        "id": "ygw1ohYuPOxA",
        "outputId": "5a3d9045-041c-4bf0-cea4-92dc87b3d0c5"
      },
      "execution_count": null,
      "outputs": [
        {
          "output_type": "stream",
          "name": "stdout",
          "text": [
            "1 2 3 4 5 6\n"
          ]
        }
      ]
    },
    {
      "cell_type": "code",
      "source": [
        "def deneme(name=\"Koral\", sport=\"gym\"):\n",
        "    print(f\"{name} likes sport, especially {sport}.\")\n",
        "var1 = {\"name\":\"Joseph\", \"sport\":\"boxing\"}\n",
        "# var2 = var1.items\n",
        "# print(**var2)\n",
        "deneme(**var1)"
      ],
      "metadata": {
        "colab": {
          "base_uri": "https://localhost:8080/"
        },
        "id": "_nJVMbRPPa_E",
        "outputId": "c609432b-b14e-487a-dd71-4d3bf4eb2f8c"
      },
      "execution_count": null,
      "outputs": [
        {
          "output_type": "stream",
          "name": "stdout",
          "text": [
            "Joseph likes sport, especially boxing.\n"
          ]
        }
      ]
    },
    {
      "cell_type": "markdown",
      "source": [
        "#all()"
      ],
      "metadata": {
        "id": "7FfUw5F6E5Iy"
      }
    },
    {
      "cell_type": "code",
      "source": [
        "def add (a,b):\n",
        "    print(a+b)\n",
        "add(3,4)"
      ],
      "metadata": {
        "colab": {
          "base_uri": "https://localhost:8080/"
        },
        "id": "qouKsZVKE39K",
        "outputId": "4ac55a25-5a2c-470d-a072-6d3d558b9449"
      },
      "execution_count": null,
      "outputs": [
        {
          "output_type": "stream",
          "name": "stdout",
          "text": [
            "7\n"
          ]
        }
      ]
    },
    {
      "cell_type": "code",
      "source": [
        "def calc(a,b,c):\n",
        "  # a, b = int(a), int(b)\n",
        "  # c = str(c)\n",
        "  if c == '+':\n",
        "    print(a+b)\n",
        "  elif c == '-':\n",
        "    print(a-b)\n",
        "  elif c == '*':\n",
        "    print(a*b)\n",
        "  elif c == '/':\n",
        "    print(a/b)\n",
        "  else:\n",
        "    print(\"please enter invalid input\")\n",
        "\n",
        "calc(88,22,'+')"
      ],
      "metadata": {
        "colab": {
          "base_uri": "https://localhost:8080/"
        },
        "id": "BZFTHP-5SY6K",
        "outputId": "d1bcd292-605d-4e09-d795-ab64922adc79"
      },
      "execution_count": null,
      "outputs": [
        {
          "output_type": "stream",
          "name": "stdout",
          "text": [
            "110\n"
          ]
        }
      ]
    },
    {
      "cell_type": "code",
      "source": [
        "primes = []\n",
        "def prime_finder(n):\n",
        "\tfor i in range(1,n+1):\n",
        "\t\tbolenler = []\n",
        "\t\tfor j in range(1,i+1):\n",
        "\t\t\tif i % j == 0: #tam bölünürse\n",
        "\t\t\t\tbolenler.append(j)\n",
        "\t\tif len(bolenler)==2:\n",
        "\t\t\tprimes.append(i)\n",
        "\tprint(f\"Prime numbers up to {n} : \\n {primes}\\n\")\t\t\t\n",
        "\n",
        "prime_finder(100)"
      ],
      "metadata": {
        "id": "nRW-vZyd_3XZ",
        "outputId": "d4acd328-8286-40bf-c887-9aa481509ef6",
        "colab": {
          "base_uri": "https://localhost:8080/"
        }
      },
      "execution_count": null,
      "outputs": [
        {
          "output_type": "stream",
          "name": "stdout",
          "text": [
            "Prime numbers up to 100 : \n",
            " [2, 3, 5, 7, 11, 13, 17, 19, 23, 29, 31, 37, 41, 43, 47, 53, 59, 61, 67, 71, 73, 79, 83, 89, 97]\n",
            "\n"
          ]
        }
      ]
    },
    {
      "cell_type": "code",
      "source": [
        "a = list(\"koral\")\n",
        "print(a[::-1])\n"
      ],
      "metadata": {
        "colab": {
          "base_uri": "https://localhost:8080/"
        },
        "id": "DPolAHY85A3l",
        "outputId": "6fbb0dce-3f5e-4893-817b-9effd256865f"
      },
      "execution_count": null,
      "outputs": [
        {
          "output_type": "stream",
          "name": "stdout",
          "text": [
            "['l', 'a', 'r', 'o', 'k']\n"
          ]
        }
      ]
    },
    {
      "cell_type": "code",
      "source": [
        "matrisx = 3\n",
        "matrisy = 3\n",
        "\n",
        "for i in range(matrisx):\n",
        "\tfor j in range(matrisy):\n",
        "\t\tprint(f\"[{i,j}]\", sep=\"\", end=\" \")\n",
        "\tprint()"
      ],
      "metadata": {
        "colab": {
          "base_uri": "https://localhost:8080/"
        },
        "id": "dqD2HdIwfq-U",
        "outputId": "a8cb05e7-9a1c-4a4c-a741-2eb4d077d081"
      },
      "execution_count": null,
      "outputs": [
        {
          "output_type": "stream",
          "name": "stdout",
          "text": [
            "[(0, 0)] [(0, 1)] [(0, 2)] \n",
            "[(1, 0)] [(1, 1)] [(1, 2)] \n",
            "[(2, 0)] [(2, 1)] [(2, 2)] \n"
          ]
        }
      ]
    },
    {
      "cell_type": "code",
      "source": [
        "num31 = input(\"enter a num : \")\n",
        "num32 = input(\"enter a num : \")\n",
        "a = int(min(num31,num32))\n",
        "b = int(max(num31,num32))\n",
        "sumlist = [i for i in range(a,b)]\n",
        "# sum(sumlist,0)\n",
        "print(\"sumlist : \", sumlist)\n",
        "x = sum(sumlist,0)\n",
        "print(\"sum : \", x)"
      ],
      "metadata": {
        "id": "eY8rMu9Z57bs",
        "outputId": "2cca26b2-5b4a-41af-dfb8-103f5e500840",
        "colab": {
          "base_uri": "https://localhost:8080/"
        }
      },
      "execution_count": null,
      "outputs": [
        {
          "output_type": "stream",
          "name": "stdout",
          "text": [
            "enter a num : 10\n",
            "enter a num : 12\n",
            "sumlist :  [10, 11]\n",
            "sum :  21\n"
          ]
        }
      ]
    },
    {
      "cell_type": "markdown",
      "source": [
        "# Defining a function using Arbitrary numbers"
      ],
      "metadata": {
        "id": "KKFd8Zdc6AqM"
      }
    },
    {
      "cell_type": "code",
      "source": [
        "oddlist = []\n",
        "evenlist = []\n",
        "def slicer(*args):\n",
        "\tfor i in args:\n",
        "\t\tif i % 2 :\n",
        "\t\t\toddlist.append(i)\n",
        "\t\telse:\n",
        "\t\t\tevenlist.append(i)\n",
        "\tprint(\"odds: \", oddlist)\n",
        "\tprint(\"evens: \", evenlist)\n",
        "\n",
        "slicer(1,2,3,4,5,6,7,8,9)\n"
      ],
      "metadata": {
        "id": "37W7piF16B8-"
      },
      "execution_count": null,
      "outputs": []
    }
  ]
}