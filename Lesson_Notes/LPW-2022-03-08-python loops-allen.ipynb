{
 "cells": [
  {
   "cell_type": "markdown",
   "id": "ab3cd892",
   "metadata": {},
   "source": [
    "* LPW 2022 03 08 PYTHON LOOPS"
   ]
  },
  {
   "cell_type": "markdown",
   "id": "4787745e",
   "metadata": {},
   "source": [
    "## Q1 : To be successful in an interview, the participant must know either English or French and must be under 40 years old. Ask the participant the above information, name and surname and show the result of the interview with \"Successful\" or \"Failed\" printouts.\n",
    "```\n",
    "solution 1: with If Statement\n",
    "solution 2: with Ternary `if` statements\n",
    "```"
   ]
  },
  {
   "cell_type": "code",
   "execution_count": 2,
   "id": "363cc7e9",
   "metadata": {},
   "outputs": [
    {
     "name": "stdout",
     "output_type": "stream",
     "text": [
      "Successful\n"
     ]
    }
   ],
   "source": [
    "name = input(\"Name: \")\n",
    "lang = input(\"Language: \").lower()\n",
    "age = int(input(\"Age: \"))\n",
    "\n",
    "if age<40 and lang == \"english\" or lang == \"french\" :\n",
    "\tprint(\"Successful\")\n",
    "else:\n",
    "\tprint(\"Not successful\")"
   ]
  },
  {
   "cell_type": "code",
   "execution_count": null,
   "id": "26c22e4e",
   "metadata": {},
   "outputs": [],
   "source": []
  },
  {
   "cell_type": "markdown",
   "id": "4698a760",
   "metadata": {},
   "source": [
    "## 2 soru: Write the python code that prints the element indices of a 3×3 matrix with a for loop.\n",
    "\n",
    "-```A FOR loop is used for ITERATING over a sequence.```\n",
    "```\n",
    "solution 1: with Nested For Loop - only print('String') \n",
    "solution 2: with Nested For Loop - with Python Collections (Arrays)\n",
    "```"
   ]
  },
  {
   "cell_type": "code",
   "execution_count": 19,
   "id": "4a8b442f",
   "metadata": {},
   "outputs": [
    {
     "name": "stdout",
     "output_type": "stream",
     "text": [
      "[(0, 0)] [(0, 1)] [(0, 2)] \n",
      "[(1, 0)] [(1, 1)] [(1, 2)] \n",
      "[(2, 0)] [(2, 1)] [(2, 2)] \n"
     ]
    }
   ],
   "source": [
    "matrisx = 3\n",
    "matrisy = 3\n",
    "\n",
    "for i in range(matrisx):\n",
    "\t\n",
    "\tfor j in range(matrisy):\n",
    "\t\tprint(f\"[{i,j}]\", end=\" \")\n",
    "\tprint()\n",
    "\t"
   ]
  },
  {
   "cell_type": "code",
   "execution_count": 23,
   "id": "f54dc4e8",
   "metadata": {},
   "outputs": [
    {
     "data": {
      "text/plain": [
       "[['[(0, 0)]', '[(0, 1)]', '[(0, 2)]'],\n",
       " ['[(1, 0)]', '[(1, 1)]', '[(1, 2)]'],\n",
       " ['[(2, 0)]', '[(2, 1)]', '[(2, 2)]']]"
      ]
     },
     "execution_count": 23,
     "metadata": {},
     "output_type": "execute_result"
    }
   ],
   "source": [
    "matrisx = 3\n",
    "matrisy = 3\n",
    "[[f\"[{i,j}]\" for j in range(matrisy)] for i in range(matrisx) ]\n"
   ]
  },
  {
   "cell_type": "markdown",
   "id": "3cfbb23e",
   "metadata": {},
   "source": [
    "## Q3 : Write the python code to find the sum of the numbers between two numbers taken from user\n",
    "```\n",
    "solution 1: with For Loop\n",
    "solution 2: with List Comprehension - with generator\n",
    "```"
   ]
  },
  {
   "cell_type": "code",
   "execution_count": 8,
   "id": "8f912514",
   "metadata": {},
   "outputs": [
    {
     "name": "stdout",
     "output_type": "stream",
     "text": [
      "items :  [10, 11, 12, 13, 14]\n",
      "sum :  60\n"
     ]
    }
   ],
   "source": [
    "num31 = 10  # input(\"enter a num : \")\n",
    "num32 = 15  # input(\"enter a num : \")\n",
    "sum_ = 0\n",
    "list_ = []\n",
    "a = int(min(num31,num32))\n",
    "b = int(max(num31,num32))\n",
    "for i in range(a,b):\n",
    "\tsum_ += i\n",
    "\tlist_.append(i)\n",
    "\n",
    "print(\"items : \", list_)\n",
    "print(\"sum : \",sum_)\n",
    "\n",
    "_denemee = 100\n"
   ]
  },
  {
   "cell_type": "code",
   "execution_count": 10,
   "id": "e329f089",
   "metadata": {},
   "outputs": [
    {
     "name": "stdout",
     "output_type": "stream",
     "text": [
      "sumlist :  [10, 11, 12]\n",
      "sum :  33\n"
     ]
    }
   ],
   "source": [
    "a,b,i,x = 0,0,0,0\n",
    "num33 = 10  # input(\"enter a num : \")\n",
    "num34 = 13  # input(\"enter a num : \")\n",
    "a = int(min(num33,num34))\n",
    "b = int(max(num33,num34))\n",
    "sumlist = [i for i in range(a,b)]\n",
    "# sum(sumlist,0)\n",
    "print(\"sumlist : \", sumlist)\n",
    "x = sum(sumlist)\n",
    "print(\"sum : \", x)  "
   ]
  },
  {
   "cell_type": "markdown",
   "id": "1add710c",
   "metadata": {},
   "source": [
    "## Q4 : Write a python program that adds all the numbers taken from user until the number entered is 0 (zero) and displays them on the screen with a while loop.\n",
    "\n",
    "https://www.geeksforgeeks.org/python-while-loop/?ref=lbp\n",
    "\n",
    "-```With the WHILE loop we can execute a set of STATEMENTS as long as a CONDITION is true.```\n",
    "```\n",
    "solution 1: with While Loop\n",
    "```"
   ]
  },
  {
   "cell_type": "code",
   "execution_count": 7,
   "id": "9bb4d576",
   "metadata": {},
   "outputs": [
    {
     "name": "stdout",
     "output_type": "stream",
     "text": [
      "You entered :  1\n",
      "You entered :  2\n",
      "You entered :  3\n",
      "You entered :  0\n",
      "Sum of all :  6\n"
     ]
    }
   ],
   "source": [
    "num4 = int(input(\"enter num : \"))\n",
    "sum_ = 0\n",
    "sum_ += num4\n",
    "print(\"You entered : \", num4)\n",
    "while num4: #if its 0, not gonna enter here as its demanded\t\n",
    "\tnum4 = int(input())\n",
    "\tprint(\"You entered : \", num4)\n",
    "\tsum_ += num4\n",
    "print(\"Sum of all : \",sum_)"
   ]
  },
  {
   "cell_type": "code",
   "execution_count": null,
   "id": "849d4734",
   "metadata": {},
   "outputs": [],
   "source": []
  },
  {
   "cell_type": "markdown",
   "id": "782e7437",
   "metadata": {},
   "source": [
    "## Q5 : Write a python code that calculates the factorial of a number from user-input using a while loop. If the length of the factorial exceeds 5, it gives the error \"exceeded limit\".\n",
    "```\n",
    "solution 1: with While Loop\n",
    "solution 2: with For Loop\n",
    "```"
   ]
  },
  {
   "cell_type": "code",
   "execution_count": 41,
   "id": "fad393b1",
   "metadata": {},
   "outputs": [
    {
     "name": "stdout",
     "output_type": "stream",
     "text": [
      "i: 1 result: 1\n",
      "i: 2 result: 2\n",
      "i: 3 result: 6\n",
      "i: 4 result: 24\n",
      "i: 5 result: 120\n",
      "i: 6 result: 720\n",
      "i: 7 result: 5040\n",
      "i: 8 result: 40320\n",
      "Your input is 10. After this point, result exceeds limit of 5 char lenght)\n"
     ]
    }
   ],
   "source": [
    "num5 = 10 #int(input())\n",
    "result = 1\n",
    "lenght = len(str(result))\n",
    "i=1\n",
    "while i<=num5:\n",
    "\tresult *= i\t\n",
    "\tlenght = len(str(result))\n",
    "\tif lenght > 5:\n",
    "\t\tprint(f\"Your input is {num5}. After this point, result exceeds limit of 5 char lenght)\")\n",
    "\t\tbreak\n",
    "\telse:\n",
    "\t\tprint(\"i:\",i,\"result:\",result)\n",
    "\t\ti+=1\n",
    "\t\tcontinue\n",
    "\t"
   ]
  },
  {
   "cell_type": "code",
   "execution_count": 37,
   "id": "d2b396b9",
   "metadata": {},
   "outputs": [
    {
     "name": "stdout",
     "output_type": "stream",
     "text": [
      "i :  1   result :  1\n",
      "i :  2   result :  2\n",
      "i :  3   result :  6\n",
      "i :  4   result :  24\n",
      "i :  5   result :  120\n",
      "i :  6   result :  720\n",
      "i :  7   result :  5040\n",
      "i :  8   result :  40320\n",
      "Your input is 10. After this point, result exceeds limit of 5 char lenght)\n"
     ]
    }
   ],
   "source": [
    "num5 = int(input())\n",
    "result = 1\n",
    "for i in range(1,num5+1):\n",
    "\tresult *= i\n",
    "\tif len(str(result))>5:\n",
    "\t\tprint(f\"Your input is {num5}. After this point, result exceeds limit of 5 char lenght)\")\n",
    "\t\tbreak\n",
    "\telse:\n",
    "\t\tprint(\"i : \",i, \"  result : \", result)\n",
    "\n"
   ]
  },
  {
   "cell_type": "markdown",
   "id": "b95d90c5",
   "metadata": {},
   "source": [
    "## Q6 : By checking the characters of a password entered from user-input, write code that asks for a new password until the password is 4 characters, and displays the correct password on the screen when entered.\n",
    "```\n",
    "solution 1: with While Loop - with Continue and Break\n",
    "```"
   ]
  },
  {
   "cell_type": "code",
   "execution_count": 11,
   "id": "e18992d8",
   "metadata": {},
   "outputs": [
    {
     "name": "stdout",
     "output_type": "stream",
     "text": [
      "Your entry:  9876  Password :  Q1E2\n",
      "Your entry:  3214  Password :  Q1E2\n",
      "Valid password. Directing...\n"
     ]
    }
   ],
   "source": [
    "password = \"Q1E2\"\n",
    "while True:\n",
    "\n",
    "\tnum6 = input()\n",
    "\tif len(str(num6)) == len(str(password)):\n",
    "\t\tif str(num6)==password:\n",
    "\t\t\tprint(\"Valid password. Directing...\")\n",
    "\t\t\tbreak\n",
    "\t\telse:\n",
    "\t\t\tprint(\"Your entry: \",num6,\" Password : \",password)\n",
    "\n"
   ]
  },
  {
   "cell_type": "markdown",
   "id": "3a882dba",
   "metadata": {},
   "source": [
    " ## Q7 : Create a list of all numbers starting from 1 and exceeding 7 by checking the int n value from user. [1…81=n]\n",
    "```\n",
    "solution 1: with For Loop\n",
    "solution 2: with List Comprehension\n",
    "```"
   ]
  },
  {
   "cell_type": "code",
   "execution_count": 13,
   "id": "204df7f5",
   "metadata": {},
   "outputs": [
    {
     "name": "stdout",
     "output_type": "stream",
     "text": [
      "[7, 17, 27, 37, 47, 57, 67, 70, 71, 72, 73, 74, 75, 76, 77, 78, 79]\n"
     ]
    }
   ],
   "source": [
    "def func(n):\n",
    "\tlist_ = []\n",
    "\tfor i in range(1,n+1):\n",
    "\t\tif \"7\" in str(i):\n",
    "\t\t\tlist_.append(i)\n",
    "\tprint(list_)\n",
    "\t\n",
    "func(81)"
   ]
  },
  {
   "cell_type": "code",
   "execution_count": 45,
   "id": "09ed2e03",
   "metadata": {},
   "outputs": [
    {
     "data": {
      "text/plain": [
       "[7, 17, 27, 37, 47, 57, 67, 70, 71, 72, 73, 74, 75, 76, 77, 78, 79]"
      ]
     },
     "execution_count": 45,
     "metadata": {},
     "output_type": "execute_result"
    }
   ],
   "source": [
    "num7 = 81 #input()\n",
    "list_ = [i for i in range(1,81+1) if \"7\" in str(i)]\n",
    "list_"
   ]
  },
  {
   "cell_type": "markdown",
   "id": "b6066962",
   "metadata": {},
   "source": [
    "## Q8 : Write the python code that finds the average of odd numbers between two numbers taken from the user.\n",
    "```\n",
    "solution 1: with For Loop\n",
    "solution 2: with List Comprehension - with generator\n",
    "```"
   ]
  },
  {
   "cell_type": "code",
   "execution_count": 48,
   "id": "a8ef720f",
   "metadata": {},
   "outputs": [
    {
     "name": "stdout",
     "output_type": "stream",
     "text": [
      "[21, 23, 25, 27, 29]\n",
      "Sum:  125\n",
      "Average :  25.0\n"
     ]
    }
   ],
   "source": [
    "num81 = 20 # input()\n",
    "num82 = 30 # input()\n",
    "list_1 = []\n",
    "counter = 0\n",
    "for i in range(num81,num82):\n",
    "\tif i%2: #tek ise\n",
    "\t\tlist_1.append(i)\n",
    "\t\tcounter += 1\n",
    "print(list_1)\t\n",
    "print(\"Sum: \", sum(list_1))\n",
    "print(\"Average : \",sum(list_1)/counter)"
   ]
  },
  {
   "cell_type": "code",
   "execution_count": null,
   "id": "350a4779",
   "metadata": {},
   "outputs": [],
   "source": []
  },
  {
   "cell_type": "markdown",
   "id": "e01e8d75",
   "metadata": {},
   "source": [
    "## Q9 : Write the python codes of the program that sorts the numbers from 0 to 30 (including 30) that are divisible by 2 and 3 on the screen.\n",
    "```\n",
    "solution 1: with For Loop\n",
    "```"
   ]
  },
  {
   "cell_type": "code",
   "execution_count": 56,
   "id": "0276bf24",
   "metadata": {},
   "outputs": [
    {
     "data": {
      "text/plain": [
       "[6, 12, 18, 24]"
      ]
     },
     "execution_count": 56,
     "metadata": {},
     "output_type": "execute_result"
    }
   ],
   "source": [
    "num9 = 30\n",
    "list_=[]\n",
    "for i in range(1,num9):\n",
    "\tif not (i % 2 or i % 3): \n",
    "\t\tlist_.append(i)\n",
    "list_"
   ]
  },
  {
   "cell_type": "markdown",
   "id": "3dfd4594",
   "metadata": {},
   "source": [
    "## Q10: Write the python code that finds the sum of the digits of a user-input number and displays it on the screen.\n",
    "```\n",
    "solution 1: with For Loop \n",
    "solution 2: with While Loop\n",
    "```"
   ]
  },
  {
   "cell_type": "code",
   "execution_count": 60,
   "id": "70489850",
   "metadata": {},
   "outputs": [
    {
     "name": "stdout",
     "output_type": "stream",
     "text": [
      "22\n"
     ]
    }
   ],
   "source": [
    "var = \"4567\"  #int(input())\n",
    "str_list = list(str(var))\n",
    "sum_ = 0\n",
    "for i in str_list:\n",
    "\tsum_ += int(i)\n",
    "print(sum_)\n"
   ]
  },
  {
   "cell_type": "code",
   "execution_count": null,
   "id": "6026ec2e",
   "metadata": {},
   "outputs": [],
   "source": []
  },
  {
   "cell_type": "markdown",
   "id": "6f59a24d",
   "metadata": {},
   "source": [
    "# Bonus"
   ]
  },
  {
   "cell_type": "markdown",
   "id": "842f91cc",
   "metadata": {},
   "source": [
    "## Mini-Bonus:  Algorithm that prints the number of digits between 0 and 99,999 entered from the keyboard?\n",
    "```\n",
    "solution 1: with If Statement\n",
    "solution 2: with Ternary `if` statements\n",
    "```"
   ]
  },
  {
   "cell_type": "code",
   "execution_count": 71,
   "id": "d676b8fc",
   "metadata": {},
   "outputs": [
    {
     "name": "stdout",
     "output_type": "stream",
     "text": [
      "Input :  4561 Lenght of input :  4\n"
     ]
    }
   ],
   "source": [
    "while True:\n",
    "\ttry:\n",
    "\t\tinp_ = int(input(\"Enter a num between 0 and 99.999 : \"))\n",
    "\t\tif inp_ in range(0,100000):\n",
    "\t\t\t# print(\"value : \",inp_)\n",
    "\t\t\tbreak\n",
    "\t\telse:\n",
    "\t\t\tprint(\"Out of range. Try again...\")\n",
    "\texcept ValueError:\n",
    "\t\tprint(\"That's not a number. Try again...\")\n",
    "\t\t\n",
    "print(\"Input : \", inp_, \"Lenght of input : \",len(str(inp_)))\n"
   ]
  }
 ],
 "metadata": {
  "hide_input": false,
  "kernelspec": {
   "display_name": "Python 3 (ipykernel)",
   "language": "python",
   "name": "python3"
  },
  "language_info": {
   "codemirror_mode": {
    "name": "ipython",
    "version": 3
   },
   "file_extension": ".py",
   "mimetype": "text/x-python",
   "name": "python",
   "nbconvert_exporter": "python",
   "pygments_lexer": "ipython3",
   "version": "3.9.7"
  },
  "nbTranslate": {
   "displayLangs": [
    "tr",
    "en"
   ],
   "hotkey": "alt-t",
   "langInMainMenu": true,
   "sourceLang": "en",
   "targetLang": "tr",
   "useGoogleTranslate": true
  },
  "toc": {
   "base_numbering": 1,
   "nav_menu": {},
   "number_sections": true,
   "sideBar": true,
   "skip_h1_title": false,
   "title_cell": "Table of Contents",
   "title_sidebar": "Contents",
   "toc_cell": false,
   "toc_position": {
    "height": "calc(100% - 180px)",
    "left": "10px",
    "top": "150px",
    "width": "165px"
   },
   "toc_section_display": true,
   "toc_window_display": true
  },
  "varInspector": {
   "cols": {
    "lenName": 16,
    "lenType": 16,
    "lenVar": 40
   },
   "kernels_config": {
    "python": {
     "delete_cmd_postfix": "",
     "delete_cmd_prefix": "del ",
     "library": "var_list.py",
     "varRefreshCmd": "print(var_dic_list())"
    },
    "r": {
     "delete_cmd_postfix": ") ",
     "delete_cmd_prefix": "rm(",
     "library": "var_list.r",
     "varRefreshCmd": "cat(var_dic_list()) "
    }
   },
   "types_to_exclude": [
    "module",
    "function",
    "builtin_function_or_method",
    "instance",
    "_Feature"
   ],
   "window_display": false
  }
 },
 "nbformat": 4,
 "nbformat_minor": 5
}
