{
  "nbformat": 4,
  "nbformat_minor": 0,
  "metadata": {
    "colab": {
      "name": "HackerRank_PY-Preparation.ipynb",
      "provenance": [],
      "authorship_tag": "ABX9TyNotizBrJdqfGdPxCVbhpFQ"
    },
    "kernelspec": {
      "name": "python3",
      "display_name": "Python 3"
    },
    "language_info": {
      "name": "python"
    }
  },
  "cells": [
    {
      "cell_type": "markdown",
      "source": [
        "#IF-ELSE"
      ],
      "metadata": {
        "id": "E5KPN0pSq6Yj"
      }
    },
    {
      "cell_type": "code",
      "execution_count": null,
      "metadata": {
        "colab": {
          "base_uri": "https://localhost:8080/"
        },
        "id": "P_f2wMOrqg5m",
        "outputId": "83e671ac-34b7-4b2d-b4f3-53369e4e5268"
      },
      "outputs": [
        {
          "output_type": "stream",
          "name": "stdout",
          "text": [
            "-10\n",
            "15\n",
            "Weird\n"
          ]
        }
      ],
      "source": [
        "\n",
        "import math\n",
        "import os\n",
        "import random\n",
        "import re\n",
        "import sys\n",
        "\n",
        "n = int(input().strip())\n",
        "#n = int(input(\"Enter num: \"))\n",
        "while n<1:\n",
        "    n = int(input().strip())\n",
        "    if n>0:\n",
        "        break\n",
        "    \n",
        "if n%2==1:\n",
        "    print(\"Weird\")\n",
        "elif n%2==0 and n in range(2,6):\n",
        "    print(\"Not Weird\")\n",
        "elif n%2==0 and n in range(6,21):\n",
        "    print(\"Weird\")\n",
        "elif n%2==0 and n>20:\n",
        "    print(\"Not Weird\")\n",
        "else:\n",
        "    print(\"Error 001\")\n"
      ]
    }
  ]
}