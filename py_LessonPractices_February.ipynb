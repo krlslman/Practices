{
  "nbformat": 4,
  "nbformat_minor": 0,
  "metadata": {
    "colab": {
      "name": "py_LessonPractices_February.ipynb",
      "provenance": [],
      "authorship_tag": "ABX9TyMf1xrJW1wkircnpZotBuvI",
      "include_colab_link": true
    },
    "kernelspec": {
      "name": "python3",
      "display_name": "Python 3"
    },
    "language_info": {
      "name": "python"
    }
  },
  "cells": [
    {
      "cell_type": "markdown",
      "metadata": {
        "id": "view-in-github",
        "colab_type": "text"
      },
      "source": [
        "<a href=\"https://colab.research.google.com/github/krlslman/Python_Practices/blob/main/py_LessonPractices_February.ipynb\" target=\"_parent\"><img src=\"https://colab.research.google.com/assets/colab-badge.svg\" alt=\"Open In Colab\"/></a>"
      ]
    },
    {
      "cell_type": "code",
      "execution_count": 1,
      "metadata": {
        "id": "9BqMYLKAZaVS",
        "outputId": "aa84c8e4-81a8-49c0-d2f4-9bb5e3eeb473",
        "colab": {
          "base_uri": "https://localhost:8080/",
          "height": 811
        }
      },
      "outputs": [
        {
          "output_type": "stream",
          "name": "stdout",
          "text": [
            "[10, 9, 8, 7, 6, 5, 4, 3, 2, 1]\n",
            "['eggplant', 'spinach', 'leek']\n",
            "My two favorite flowers are tulip and rose, two favorite colors are blue and green.\n",
            "My two favorite flowers are tulip and rose, two favorite colors are blue and green.\n",
            "My two favorite flowers are tulip and rose, two favorite colors are blue and green.\n",
            "My two favorite flowers are tulip and rose, two favorite colors are blue and green.\n",
            "I am 40 years old.\n",
            "\tI have two children.\n",
            "\t\tData Science is my IT domain.\n",
            "Denver\n",
            "{'animal': 'dog', 'planet': 'neptun', 'number': 40, 'pi': 3.14, 'is_good': True}\n",
            "dict_items([('animal', 'dog'), ('planet', 'neptun'), ('number', 40), ('pi', 3.14), ('is_good', True)]) \n",
            "\n",
            "dict_keys(['animal', 'planet', 'number', 'pi', 'is_good']) \n",
            "\n",
            "dict_values(['dog', 'neptun', 40, 3.14, True])\n",
            "True\n",
            "True\n",
            "0 tic\n",
            "1 tac\n",
            "2 toe\n",
            "{1, 2, 3, 4}\n",
            "{'d', 'b', 'r'}\n",
            "{'d', 'b', 'r'}\n",
            "{'d', 'b', 'r', 'a', 'm', 'z', 'l', 'c'}\n",
            "{'d', 'b', 'r', 'a', 'm', 'z', 'l', 'c'}\n",
            "{'a', 'c'}\n",
            "{'a', 'c'}\n",
            "removed a:  None\n",
            "added a:  None\n",
            "10\n"
          ]
        },
        {
          "output_type": "error",
          "ename": "TypeError",
          "evalue": "ignored",
          "traceback": [
            "\u001b[0;31m---------------------------------------------------------------------------\u001b[0m",
            "\u001b[0;31mTypeError\u001b[0m                                 Traceback (most recent call last)",
            "\u001b[0;32m<ipython-input-1-6e1fa29c8b8c>\u001b[0m in \u001b[0;36m<module>\u001b[0;34m()\u001b[0m\n\u001b[1;32m     89\u001b[0m \u001b[0;31m#------------------------------------------------------------\u001b[0m\u001b[0;34m\u001b[0m\u001b[0;34m\u001b[0m\u001b[0;34m\u001b[0m\u001b[0m\n\u001b[1;32m     90\u001b[0m \u001b[0mnumbers_10\u001b[0m \u001b[0;34m=\u001b[0m \u001b[0;34m[\u001b[0m\u001b[0;36m10\u001b[0m\u001b[0;34m,\u001b[0m \u001b[0;36m30\u001b[0m\u001b[0;34m,\u001b[0m \u001b[0;36m40\u001b[0m\u001b[0;34m,\u001b[0m \u001b[0;36m50\u001b[0m\u001b[0;34m,\u001b[0m \u001b[0;36m60\u001b[0m\u001b[0;34m,\u001b[0m \u001b[0;36m70\u001b[0m\u001b[0;34m,\u001b[0m \u001b[0;36m80\u001b[0m\u001b[0;34m,\u001b[0m \u001b[0;36m90\u001b[0m\u001b[0;34m,\u001b[0m \u001b[0;36m100\u001b[0m\u001b[0;34m]\u001b[0m\u001b[0;34m\u001b[0m\u001b[0;34m\u001b[0m\u001b[0m\n\u001b[0;32m---> 91\u001b[0;31m \u001b[0mnumbers_10\u001b[0m\u001b[0;34m.\u001b[0m\u001b[0minsert\u001b[0m\u001b[0;34m[\u001b[0m\u001b[0;36m1\u001b[0m\u001b[0;34m,\u001b[0m\u001b[0;36m20\u001b[0m\u001b[0;34m]\u001b[0m\u001b[0;34m\u001b[0m\u001b[0;34m\u001b[0m\u001b[0m\n\u001b[0m\u001b[1;32m     92\u001b[0m \u001b[0mprint\u001b[0m\u001b[0;34m(\u001b[0m\u001b[0mnumbers_10\u001b[0m\u001b[0;34m)\u001b[0m\u001b[0;34m\u001b[0m\u001b[0;34m\u001b[0m\u001b[0m\n\u001b[1;32m     93\u001b[0m \u001b[0;34m\u001b[0m\u001b[0m\n",
            "\u001b[0;31mTypeError\u001b[0m: 'builtin_function_or_method' object is not subscriptable"
          ]
        }
      ],
      "source": [
        "#OUTPUT must be :  [10, 9, 8, 7, 6, 5, 4, 3, 2, 1]\n",
        "my_list= list((range(1,11)))\n",
        "my_list.sort(reverse=True)\n",
        "print(my_list)\n",
        "\n",
        "#-------------------------------------------------------------\n",
        "grocer = [\"banana\", [\"orange\", [\"apple\", \"eggplant\", \"melon\", \"spinach\", \"cheese\", \"leek\" ], \"water\"], \"mandarin\"]\n",
        "#OUTPUT must be :  ['eggplant', 'spinach', 'leek']\n",
        "print(grocer[1][1][1::2])\n",
        "\n",
        "\n",
        "#-------------------------------------------------------------\n",
        "flowers = [[\"jasmine\", [\"lavender\", \"rose\"], \"tulip\"]]\n",
        "colors = [\"red\", (\"blue\", [\"yellow\", \"green\"]), \"pink\"]\n",
        "#OUTPUT must be :  \"My two favorite flowers are tulip and rose, two favorite colors are blue and green.\"\n",
        "tulip = flowers[0][2]\n",
        "rose  = flowers[0][1][1]\n",
        "blue = colors[1][0]\n",
        "green = colors[1][1][1]\n",
        "text = f\"My two favorite flowers are {tulip} and {rose}, two favorite colors are {blue} and {green}.\"\n",
        "print(f\"My two favorite flowers are {tulip} and {rose}, two favorite colors are {blue} and {green}.\")\n",
        "print(text)\n",
        "print(\"My two favorite flowers are {} and {}, two favorite colors are {} and {}.\".format(flowers[0][2], flowers[0][1][1], colors[1][0], colors[1][1][1] ))\n",
        "print(\"My two favorite flowers are {} and {}, two favorite colors are {} and {}.\".format(tulip,rose,blue,green))\n",
        "\n",
        "\n",
        "#-------------------------------------------------------------\n",
        "escapes = [\"\\n\\t\", (\"\\t\", \"\\t\\t\"), [\"\\n\", \"\\n\\t\\t\"]]\n",
        "sentence = \"I am 40 years old.{}I have two children.{}Data Science is my IT domain.\"\n",
        "#OUTPUT must be : \n",
        "\"\"\"\n",
        "I am 40 years old.\n",
        "    I have two children.\n",
        "        Data Science is my IT domain.\n",
        "\"\"\"\n",
        "print(sentence.format(escapes[0],escapes[2][1] ))\n",
        "\n",
        "\n",
        "#-------------------------------------------------------------\n",
        "state_capitals = {'Arkansas': 'Little Rock',\n",
        "                  'Colorado': 'Denver',\n",
        "                  'California': 'Sacramento',\n",
        "                  'Georgia': 'Atlanta' \n",
        "                 }\n",
        "#OUTPUT must be =>>\n",
        "print(state_capitals['Colorado']) # accessing method\n",
        "\n",
        "\n",
        "#-------------------------------------------------------------\n",
        "dict_by_dict = {'animal': 'dog',\n",
        "                'planet': 'neptun',\n",
        "                'number': 40,\n",
        "                'pi': 3.14,\n",
        "                'is_good': True}\n",
        "print(dict_by_dict)\n",
        "print(dict_by_dict.items(), '\\n')\n",
        "print(dict_by_dict.keys(), '\\n')\n",
        "print(dict_by_dict.values())\n",
        "dict_by_dict.update({'is_bad': False})\n",
        "del dict_by_dict['animal']\n",
        "print('pi' in dict_by_dict) \n",
        "print('animal' not in dict_by_dict)  # remember, we have deleted 'animal' so this returns True\n",
        "\n",
        "\n",
        "#-------------------------------------------------------------\n",
        "for i, v in enumerate(['tic', 'tac', 'toe']):\n",
        "    print(i, v)\n",
        "#-------------------------------------------------------------\n",
        "my_set= set((1,2,3,4))\n",
        "print(my_set)\n",
        "\n",
        "#-------------------------------------------------------------\n",
        "a = set('abracadabra')\n",
        "b = set('alacazam')\n",
        "\n",
        "print(a - b)  # same as '.difference()' method\n",
        "print(a.difference(b)) # a difference from b\n",
        "\n",
        "print(a | b)  # same as '.union()' method\n",
        "print(a.union(b)) # unification of a with b\n",
        "\n",
        "print(a & b)  # same as '.intersection()' method\n",
        "print(a.intersection(b)) # intersection of a and b\n",
        "print(\"removed a: \",a.remove('c')) # we delete 'c' from the set\n",
        "print(\"added a: \",a.add('c')) # we add 'c' into the set\n",
        "\n",
        "print(len(set('listen to  me now')))\n",
        "\n",
        "#------------------------------------------------------------\n",
        "numbers_10 = [10, 30, 40, 50, 60, 70, 80, 90, 100]\n",
        "numbers_10.insert[1,20]\n",
        "print(numbers_10)\n",
        "\n",
        "letters = ['a', 'b', 'c', 'd', 'f']\n",
        "letters.insert(4, 'e')\n",
        "print(letters)\n",
        "#------------------------------------------------------------\n",
        "\n",
        "\n"
      ]
    },
    {
      "cell_type": "code",
      "source": [
        ""
      ],
      "metadata": {
        "id": "28v2zPQtlROF"
      },
      "execution_count": null,
      "outputs": []
    }
  ]
}