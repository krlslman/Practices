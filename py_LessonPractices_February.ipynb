{
  "nbformat": 4,
  "nbformat_minor": 0,
  "metadata": {
    "colab": {
      "name": "py_LessonPractices_February.ipynb",
      "provenance": []
    },
    "kernelspec": {
      "name": "python3",
      "display_name": "Python 3"
    },
    "language_info": {
      "name": "python"
    }
  },
  "cells": [
    {
      "cell_type": "code",
      "execution_count": null,
      "metadata": {
        "id": "9BqMYLKAZaVS",
        "outputId": "58800765-38cd-4aa1-c4c1-f0360446277a",
        "colab": {
          "base_uri": "https://localhost:8080/"
        }
      },
      "outputs": [
        {
          "output_type": "stream",
          "name": "stdout",
          "text": [
            "[10, 9, 8, 7, 6, 5, 4, 3, 2, 1]\n",
            "['eggplant', 'spinach', 'leek']\n",
            "My two favorite flowers are tulip and rose, two favorite colors are blue and green.\n",
            "My two favorite flowers are tulip and rose, two favorite colors are blue and green.\n",
            "My two favorite flowers are tulip and rose, two favorite colors are blue and green.\n",
            "My two favorite flowers are tulip and rose, two favorite colors are blue and green.\n",
            "I am 40 years old.\n",
            "\tI have two children.\n",
            "\t\tData Science is my IT domain.\n",
            "Denver\n",
            "{'animal': 'dog', 'planet': 'neptun', 'number': 40, 'pi': 3.14, 'is_good': True}\n",
            "dict_items([('animal', 'dog'), ('planet', 'neptun'), ('number', 40), ('pi', 3.14), ('is_good', True)]) \n",
            "\n",
            "dict_keys(['animal', 'planet', 'number', 'pi', 'is_good']) \n",
            "\n",
            "dict_values(['dog', 'neptun', 40, 3.14, True])\n",
            "True\n",
            "True\n",
            "0 tic\n",
            "1 tac\n",
            "2 toe\n",
            "{1, 2, 3, 4}\n",
            "{'b', 'd', 'r'}\n",
            "{'b', 'd', 'r'}\n",
            "{'d', 'c', 'z', 'm', 'l', 'a', 'b', 'r'}\n",
            "{'d', 'c', 'z', 'm', 'l', 'a', 'b', 'r'}\n",
            "{'a', 'c'}\n",
            "{'a', 'c'}\n",
            "removed a:  None\n",
            "added a:  None\n",
            "10\n",
            "[10, 20, 30, 40, 50, 60, 70, 80, 90, 100]\n",
            "['a', 'b', 'c', 'd', 'e', 'f']\n"
          ]
        }
      ],
      "source": [
        "#OUTPUT must be :  [10, 9, 8, 7, 6, 5, 4, 3, 2, 1]\n",
        "my_list= list((range(1,11)))\n",
        "my_list.sort(reverse=True)\n",
        "print(my_list)\n",
        "\n",
        "#-------------------------------------------------------------\n",
        "grocer = [\"banana\", [\"orange\", [\"apple\", \"eggplant\", \"melon\", \"spinach\", \"cheese\", \"leek\" ], \"water\"], \"mandarin\"]\n",
        "#OUTPUT must be :  ['eggplant', 'spinach', 'leek']\n",
        "print(grocer[1][1][1::2])\n",
        "\n",
        "\n",
        "#-------------------------------------------------------------\n",
        "flowers = [[\"jasmine\", [\"lavender\", \"rose\"], \"tulip\"]]\n",
        "colors = [\"red\", (\"blue\", [\"yellow\", \"green\"]), \"pink\"]\n",
        "#OUTPUT must be :  \"My two favorite flowers are tulip and rose, two favorite colors are blue and green.\"\n",
        "tulip = flowers[0][2]\n",
        "rose  = flowers[0][1][1]\n",
        "blue = colors[1][0]\n",
        "green = colors[1][1][1]\n",
        "text = f\"My two favorite flowers are {tulip} and {rose}, two favorite colors are {blue} and {green}.\"\n",
        "print(f\"My two favorite flowers are {tulip} and {rose}, two favorite colors are {blue} and {green}.\")\n",
        "print(text)\n",
        "print(\"My two favorite flowers are {} and {}, two favorite colors are {} and {}.\".format(flowers[0][2], flowers[0][1][1], colors[1][0], colors[1][1][1] ))\n",
        "print(\"My two favorite flowers are {} and {}, two favorite colors are {} and {}.\".format(tulip,rose,blue,green))\n",
        "\n",
        "\n",
        "#-------------------------------------------------------------\n",
        "escapes = [\"\\n\\t\", (\"\\t\", \"\\t\\t\"), [\"\\n\", \"\\n\\t\\t\"]]\n",
        "sentence = \"I am 40 years old.{}I have two children.{}Data Science is my IT domain.\"\n",
        "#OUTPUT must be : \n",
        "\"\"\"\n",
        "I am 40 years old.\n",
        "    I have two children.\n",
        "        Data Science is my IT domain.\n",
        "\"\"\"\n",
        "print(sentence.format(escapes[0],escapes[2][1] ))\n",
        "\n",
        "\n",
        "#-------------------------------------------------------------\n",
        "state_capitals = {'Arkansas': 'Little Rock',\n",
        "                  'Colorado': 'Denver',\n",
        "                  'California': 'Sacramento',\n",
        "                  'Georgia': 'Atlanta' \n",
        "                 }\n",
        "#OUTPUT must be =>>\n",
        "print(state_capitals['Colorado']) # accessing method\n",
        "\n",
        "\n",
        "#-------------------------------------------------------------\n",
        "dict_by_dict = {'animal': 'dog',\n",
        "                'planet': 'neptun',\n",
        "                'number': 40,\n",
        "                'pi': 3.14,\n",
        "                'is_good': True}\n",
        "print(dict_by_dict)\n",
        "print(dict_by_dict.items(), '\\n')\n",
        "print(dict_by_dict.keys(), '\\n')\n",
        "print(dict_by_dict.values())\n",
        "dict_by_dict.update({'is_bad': False})\n",
        "del dict_by_dict['animal']\n",
        "print('pi' in dict_by_dict) \n",
        "print('animal' not in dict_by_dict)  # remember, we have deleted 'animal' so this returns True\n",
        "\n",
        "\n",
        "#-------------------------------------------------------------\n",
        "for i, v in enumerate(['tic', 'tac', 'toe']):\n",
        "    print(i, v)\n",
        "#-------------------------------------------------------------\n",
        "my_set= set((1,2,3,4))\n",
        "print(my_set)\n",
        "\n",
        "#-------------------------------------------------------------\n",
        "a = set('abracadabra')\n",
        "b = set('alacazam')\n",
        "\n",
        "print(a - b)  # same as '.difference()' method\n",
        "print(a.difference(b)) # a difference from b\n",
        "\n",
        "print(a | b)  # same as '.union()' method\n",
        "print(a.union(b)) # unification of a with b\n",
        "\n",
        "print(a & b)  # same as '.intersection()' method\n",
        "print(a.intersection(b)) # intersection of a and b\n",
        "print(\"removed a: \",a.remove('c')) # we delete 'c' from the set\n",
        "print(\"added a: \",a.add('c')) # we add 'c' into the set\n",
        "\n",
        "print(len(set('listen to  me now')))\n",
        "\n",
        "#------------------------------------------------------------\n",
        "numbers_10 = [10, 30, 40, 50, 60, 70, 80, 90, 100]\n",
        "numbers_10.insert(1,20)\n",
        "print(numbers_10)\n",
        "\n",
        "letters = ['a', 'b', 'c', 'd', 'f']\n",
        "letters.insert(4, 'e')\n",
        "print(letters)\n",
        "#------------------------------------------------------------\n",
        "\n",
        "\n"
      ]
    },
    {
      "cell_type": "code",
      "source": [
        "main = [ \"q\",\"e\",\"r\",\"t\",\"q\"]  # CPU\n",
        "\n",
        "#def find_indices(list_of_chars:list, char:str):\n",
        "\n",
        "indexes = [0,4]\n",
        "printed = [ '_','_','_','_','_'] \n",
        "\n",
        "for i in indexes: \n",
        "  main_char = str(main[i])\n",
        "  print(\"for i= \",i,\" main_char= \",main_char)\n",
        "  for m in main:\n",
        "    for p in printed:     \n",
        "      print(\"m : \",m)\n",
        "      if True: #p == \"main_char\":\n",
        "        print(\"_ : \", p)\n",
        "        print(\"m: \",m, \"type: \",type(m))\n",
        "        #printed = [letters.replace(\"_\", \"Ü\" )]\n",
        "        printed = [p.replace(\"_\", \"Ü\")]\n",
        "        print(\"değiştirildi\")\n",
        "      else:\n",
        "        print(\"serqewr\")\n",
        "print(\"printedson : \",printed)\n",
        "\n",
        "deneme= [1,2,3,5,69,85]\n",
        "deneme = str(deneme)\n",
        "print(type(deneme))"
      ],
      "metadata": {
        "id": "28v2zPQtlROF",
        "colab": {
          "base_uri": "https://localhost:8080/"
        },
        "outputId": "110b0873-d9a4-4d4b-f223-8e63fd47e050"
      },
      "execution_count": null,
      "outputs": [
        {
          "output_type": "stream",
          "name": "stdout",
          "text": [
            "for i=  0  main_char=  q\n",
            "m :  q\n",
            "_ :  _\n",
            "m:  q type:  <class 'str'>\n",
            "değiştirildi\n",
            "m :  q\n",
            "_ :  _\n",
            "m:  q type:  <class 'str'>\n",
            "değiştirildi\n",
            "m :  q\n",
            "_ :  _\n",
            "m:  q type:  <class 'str'>\n",
            "değiştirildi\n",
            "m :  q\n",
            "_ :  _\n",
            "m:  q type:  <class 'str'>\n",
            "değiştirildi\n",
            "m :  q\n",
            "_ :  _\n",
            "m:  q type:  <class 'str'>\n",
            "değiştirildi\n",
            "m :  e\n",
            "_ :  Ü\n",
            "m:  e type:  <class 'str'>\n",
            "değiştirildi\n",
            "m :  r\n",
            "_ :  Ü\n",
            "m:  r type:  <class 'str'>\n",
            "değiştirildi\n",
            "m :  t\n",
            "_ :  Ü\n",
            "m:  t type:  <class 'str'>\n",
            "değiştirildi\n",
            "m :  q\n",
            "_ :  Ü\n",
            "m:  q type:  <class 'str'>\n",
            "değiştirildi\n",
            "for i=  4  main_char=  q\n",
            "m :  q\n",
            "_ :  Ü\n",
            "m:  q type:  <class 'str'>\n",
            "değiştirildi\n",
            "m :  e\n",
            "_ :  Ü\n",
            "m:  e type:  <class 'str'>\n",
            "değiştirildi\n",
            "m :  r\n",
            "_ :  Ü\n",
            "m:  r type:  <class 'str'>\n",
            "değiştirildi\n",
            "m :  t\n",
            "_ :  Ü\n",
            "m:  t type:  <class 'str'>\n",
            "değiştirildi\n",
            "m :  q\n",
            "_ :  Ü\n",
            "m:  q type:  <class 'str'>\n",
            "değiştirildi\n",
            "printedson :  ['Ü']\n",
            "<class 'str'>\n"
          ]
        }
      ]
    },
    {
      "cell_type": "code",
      "source": [
        "print(\"Hello \" + \"Good games\")\n",
        "Name = input(\"Enter your name \")\n",
        "kelime = \"televizyon\"\n",
        "\n",
        "tahmin = \"\"\n",
        "\n",
        "can = 10\n",
        "\n",
        "while can > 0:\n",
        "    harf_left = 0\n",
        "\n",
        "    for karakter in kelime:\n",
        "        if karakter in tahmin:\n",
        "            print(karakter, end=\" \")\n",
        "        else:\n",
        "            print(\"\",end=\" \")\n",
        "            harf_left += 1\n",
        "\n",
        "    if harf_left == 0:\n",
        "        print(\"kazandınız\")\n",
        "        break\n",
        "\n",
        "    ziyaretci = input(\"lütfen harf girin \")\n",
        "    tahmin += ziyaretci\n",
        "\n",
        "    if ziyaretci not in kelime:\n",
        "        can -= 1\n",
        "        print(\"hatalı !\")\n",
        "        print(f\"kalan hakkınız {can} \")\n",
        "\n",
        "        if can == 0:\n",
        "            print(\"canınız kalmadı\")\n",
        "tahmin = \"\""
      ],
      "metadata": {
        "colab": {
          "base_uri": "https://localhost:8080/",
          "height": 554
        },
        "id": "5TAkbReZBT7i",
        "outputId": "287c0ceb-eb8a-4910-ee16-7d5a960a19d5"
      },
      "execution_count": null,
      "outputs": [
        {
          "output_type": "stream",
          "name": "stdout",
          "text": [
            "Hello Good games\n"
          ]
        },
        {
          "output_type": "error",
          "ename": "KeyboardInterrupt",
          "evalue": "ignored",
          "traceback": [
            "\u001b[0;31m---------------------------------------------------------------------------\u001b[0m",
            "\u001b[0;31mKeyboardInterrupt\u001b[0m                         Traceback (most recent call last)",
            "\u001b[0;32m/usr/local/lib/python3.7/dist-packages/ipykernel/kernelbase.py\u001b[0m in \u001b[0;36m_input_request\u001b[0;34m(self, prompt, ident, parent, password)\u001b[0m\n\u001b[1;32m    728\u001b[0m             \u001b[0;32mtry\u001b[0m\u001b[0;34m:\u001b[0m\u001b[0;34m\u001b[0m\u001b[0;34m\u001b[0m\u001b[0m\n\u001b[0;32m--> 729\u001b[0;31m                 \u001b[0mident\u001b[0m\u001b[0;34m,\u001b[0m \u001b[0mreply\u001b[0m \u001b[0;34m=\u001b[0m \u001b[0mself\u001b[0m\u001b[0;34m.\u001b[0m\u001b[0msession\u001b[0m\u001b[0;34m.\u001b[0m\u001b[0mrecv\u001b[0m\u001b[0;34m(\u001b[0m\u001b[0mself\u001b[0m\u001b[0;34m.\u001b[0m\u001b[0mstdin_socket\u001b[0m\u001b[0;34m,\u001b[0m \u001b[0;36m0\u001b[0m\u001b[0;34m)\u001b[0m\u001b[0;34m\u001b[0m\u001b[0;34m\u001b[0m\u001b[0m\n\u001b[0m\u001b[1;32m    730\u001b[0m             \u001b[0;32mexcept\u001b[0m \u001b[0mException\u001b[0m\u001b[0;34m:\u001b[0m\u001b[0;34m\u001b[0m\u001b[0;34m\u001b[0m\u001b[0m\n",
            "\u001b[0;32m/usr/local/lib/python3.7/dist-packages/jupyter_client/session.py\u001b[0m in \u001b[0;36mrecv\u001b[0;34m(self, socket, mode, content, copy)\u001b[0m\n\u001b[1;32m    802\u001b[0m         \u001b[0;32mtry\u001b[0m\u001b[0;34m:\u001b[0m\u001b[0;34m\u001b[0m\u001b[0;34m\u001b[0m\u001b[0m\n\u001b[0;32m--> 803\u001b[0;31m             \u001b[0mmsg_list\u001b[0m \u001b[0;34m=\u001b[0m \u001b[0msocket\u001b[0m\u001b[0;34m.\u001b[0m\u001b[0mrecv_multipart\u001b[0m\u001b[0;34m(\u001b[0m\u001b[0mmode\u001b[0m\u001b[0;34m,\u001b[0m \u001b[0mcopy\u001b[0m\u001b[0;34m=\u001b[0m\u001b[0mcopy\u001b[0m\u001b[0;34m)\u001b[0m\u001b[0;34m\u001b[0m\u001b[0;34m\u001b[0m\u001b[0m\n\u001b[0m\u001b[1;32m    804\u001b[0m         \u001b[0;32mexcept\u001b[0m \u001b[0mzmq\u001b[0m\u001b[0;34m.\u001b[0m\u001b[0mZMQError\u001b[0m \u001b[0;32mas\u001b[0m \u001b[0me\u001b[0m\u001b[0;34m:\u001b[0m\u001b[0;34m\u001b[0m\u001b[0;34m\u001b[0m\u001b[0m\n",
            "\u001b[0;32m/usr/local/lib/python3.7/dist-packages/zmq/sugar/socket.py\u001b[0m in \u001b[0;36mrecv_multipart\u001b[0;34m(self, flags, copy, track)\u001b[0m\n\u001b[1;32m    624\u001b[0m         \"\"\"\n\u001b[0;32m--> 625\u001b[0;31m         \u001b[0mparts\u001b[0m \u001b[0;34m=\u001b[0m \u001b[0;34m[\u001b[0m\u001b[0mself\u001b[0m\u001b[0;34m.\u001b[0m\u001b[0mrecv\u001b[0m\u001b[0;34m(\u001b[0m\u001b[0mflags\u001b[0m\u001b[0;34m,\u001b[0m \u001b[0mcopy\u001b[0m\u001b[0;34m=\u001b[0m\u001b[0mcopy\u001b[0m\u001b[0;34m,\u001b[0m \u001b[0mtrack\u001b[0m\u001b[0;34m=\u001b[0m\u001b[0mtrack\u001b[0m\u001b[0;34m)\u001b[0m\u001b[0;34m]\u001b[0m\u001b[0;34m\u001b[0m\u001b[0;34m\u001b[0m\u001b[0m\n\u001b[0m\u001b[1;32m    626\u001b[0m         \u001b[0;31m# have first part already, only loop while more to receive\u001b[0m\u001b[0;34m\u001b[0m\u001b[0;34m\u001b[0m\u001b[0;34m\u001b[0m\u001b[0m\n",
            "\u001b[0;32mzmq/backend/cython/socket.pyx\u001b[0m in \u001b[0;36mzmq.backend.cython.socket.Socket.recv\u001b[0;34m()\u001b[0m\n",
            "\u001b[0;32mzmq/backend/cython/socket.pyx\u001b[0m in \u001b[0;36mzmq.backend.cython.socket.Socket.recv\u001b[0;34m()\u001b[0m\n",
            "\u001b[0;32mzmq/backend/cython/socket.pyx\u001b[0m in \u001b[0;36mzmq.backend.cython.socket._recv_copy\u001b[0;34m()\u001b[0m\n",
            "\u001b[0;32m/usr/local/lib/python3.7/dist-packages/zmq/backend/cython/checkrc.pxd\u001b[0m in \u001b[0;36mzmq.backend.cython.checkrc._check_rc\u001b[0;34m()\u001b[0m\n",
            "\u001b[0;31mKeyboardInterrupt\u001b[0m: ",
            "\nDuring handling of the above exception, another exception occurred:\n",
            "\u001b[0;31mKeyboardInterrupt\u001b[0m                         Traceback (most recent call last)",
            "\u001b[0;32m<ipython-input-3-f26dcba187a7>\u001b[0m in \u001b[0;36m<module>\u001b[0;34m()\u001b[0m\n\u001b[1;32m      1\u001b[0m \u001b[0mprint\u001b[0m\u001b[0;34m(\u001b[0m\u001b[0;34m\"Hello \"\u001b[0m \u001b[0;34m+\u001b[0m \u001b[0;34m\"Good games\"\u001b[0m\u001b[0;34m)\u001b[0m\u001b[0;34m\u001b[0m\u001b[0;34m\u001b[0m\u001b[0m\n\u001b[0;32m----> 2\u001b[0;31m \u001b[0mName\u001b[0m \u001b[0;34m=\u001b[0m \u001b[0minput\u001b[0m\u001b[0;34m(\u001b[0m\u001b[0;34m\"Enter your name \"\u001b[0m\u001b[0;34m)\u001b[0m\u001b[0;34m\u001b[0m\u001b[0;34m\u001b[0m\u001b[0m\n\u001b[0m\u001b[1;32m      3\u001b[0m \u001b[0mkelime\u001b[0m \u001b[0;34m=\u001b[0m \u001b[0;34m\"televizyon\"\u001b[0m\u001b[0;34m\u001b[0m\u001b[0;34m\u001b[0m\u001b[0m\n\u001b[1;32m      4\u001b[0m \u001b[0;34m\u001b[0m\u001b[0m\n\u001b[1;32m      5\u001b[0m \u001b[0mtahmin\u001b[0m \u001b[0;34m=\u001b[0m \u001b[0;34m\"\"\u001b[0m\u001b[0;34m\u001b[0m\u001b[0;34m\u001b[0m\u001b[0m\n",
            "\u001b[0;32m/usr/local/lib/python3.7/dist-packages/ipykernel/kernelbase.py\u001b[0m in \u001b[0;36mraw_input\u001b[0;34m(self, prompt)\u001b[0m\n\u001b[1;32m    702\u001b[0m             \u001b[0mself\u001b[0m\u001b[0;34m.\u001b[0m\u001b[0m_parent_ident\u001b[0m\u001b[0;34m,\u001b[0m\u001b[0;34m\u001b[0m\u001b[0;34m\u001b[0m\u001b[0m\n\u001b[1;32m    703\u001b[0m             \u001b[0mself\u001b[0m\u001b[0;34m.\u001b[0m\u001b[0m_parent_header\u001b[0m\u001b[0;34m,\u001b[0m\u001b[0;34m\u001b[0m\u001b[0;34m\u001b[0m\u001b[0m\n\u001b[0;32m--> 704\u001b[0;31m             \u001b[0mpassword\u001b[0m\u001b[0;34m=\u001b[0m\u001b[0;32mFalse\u001b[0m\u001b[0;34m,\u001b[0m\u001b[0;34m\u001b[0m\u001b[0;34m\u001b[0m\u001b[0m\n\u001b[0m\u001b[1;32m    705\u001b[0m         )\n\u001b[1;32m    706\u001b[0m \u001b[0;34m\u001b[0m\u001b[0m\n",
            "\u001b[0;32m/usr/local/lib/python3.7/dist-packages/ipykernel/kernelbase.py\u001b[0m in \u001b[0;36m_input_request\u001b[0;34m(self, prompt, ident, parent, password)\u001b[0m\n\u001b[1;32m    732\u001b[0m             \u001b[0;32mexcept\u001b[0m \u001b[0mKeyboardInterrupt\u001b[0m\u001b[0;34m:\u001b[0m\u001b[0;34m\u001b[0m\u001b[0;34m\u001b[0m\u001b[0m\n\u001b[1;32m    733\u001b[0m                 \u001b[0;31m# re-raise KeyboardInterrupt, to truncate traceback\u001b[0m\u001b[0;34m\u001b[0m\u001b[0;34m\u001b[0m\u001b[0;34m\u001b[0m\u001b[0m\n\u001b[0;32m--> 734\u001b[0;31m                 \u001b[0;32mraise\u001b[0m \u001b[0mKeyboardInterrupt\u001b[0m\u001b[0;34m\u001b[0m\u001b[0;34m\u001b[0m\u001b[0m\n\u001b[0m\u001b[1;32m    735\u001b[0m             \u001b[0;32melse\u001b[0m\u001b[0;34m:\u001b[0m\u001b[0;34m\u001b[0m\u001b[0;34m\u001b[0m\u001b[0m\n\u001b[1;32m    736\u001b[0m                 \u001b[0;32mbreak\u001b[0m\u001b[0;34m\u001b[0m\u001b[0;34m\u001b[0m\u001b[0m\n",
            "\u001b[0;31mKeyboardInterrupt\u001b[0m: "
          ]
        }
      ]
    },
    {
      "cell_type": "code",
      "source": [
        "kickoff = [\"1\",\"p\",\"j\",\"k\",\"j\",\"k\"]\n",
        "\n",
        "print(\"tüm liste \\t\\t\", kickoff, \"\\n\")\n",
        "\n",
        "print(\"str(kickoff[1])   \\t\", str(kickoff[0]))\n",
        "\n",
        "print(kickoff[0] == str(1))\n",
        "print(str(kickoff[0]) == str(1))\n",
        "print(int(kickoff[0]) == int(1))\n"
      ],
      "metadata": {
        "id": "J21TuGg5PnbR"
      },
      "execution_count": null,
      "outputs": []
    },
    {
      "cell_type": "code",
      "source": [
        "# Creating an empty Dictionary\n",
        "Dict = {}\n",
        "print(\"Empty Dictionary: \")\n",
        "print(Dict)\n",
        " \n",
        "# Adding elements one at a time\n",
        "Dict[0] = 'Geeks'\n",
        "Dict[2] = 'For'\n",
        "Dict[3] = 1\n",
        "print(\"\\nDictionary after adding 3 elements: \")\n",
        "print(Dict)\n",
        " \n",
        "# Adding set of values\n",
        "# to a single Key\n",
        "Dict['Value_set'] = 2, 3, 4\n",
        "print(\"\\nDictionary after adding 3 elements: \")\n",
        "print(Dict)\n",
        " \n",
        "# Updating existing Key's Value\n",
        "Dict[2] = 'Welcome'\n",
        "print(\"\\nUpdated key value: \")\n",
        "print(Dict)\n",
        " \n",
        "# Adding Nested Key value to Dictionary\n",
        "Dict[5] = {'Nested' :{'1' : 'Life', '2' : 'Geeks'}}\n",
        "print(\"\\nAdding a Nested Key: \")\n",
        "print(Dict)"
      ],
      "metadata": {
        "id": "ZMKPSISxCXgP"
      },
      "execution_count": null,
      "outputs": []
    },
    {
      "cell_type": "code",
      "source": [
        "# Creating an empty Dictionary\n",
        "Dict = {}\n",
        "print(\"BOŞŞ Dictionary: \")\n",
        "print(Dict)\n",
        " \n",
        "# Adding elements one at a time\n",
        "Dict[0] = 'value BİR' [koral, 053018069584, 8541, Street]\n",
        "Dict[2] = 'value İKİ'\n",
        "Dict[3] = 1\n",
        "print(\"\\nDictionary after adding 3 elements: \")\n",
        "print(Dict)\n",
        " "
      ],
      "metadata": {
        "colab": {
          "base_uri": "https://localhost:8080/"
        },
        "id": "ycJjpLa1Cece",
        "outputId": "cd086b88-4934-45ab-b031-2e1fd4c6099e"
      },
      "execution_count": null,
      "outputs": [
        {
          "output_type": "stream",
          "name": "stdout",
          "text": [
            "BOŞŞ Dictionary: \n",
            "{}\n",
            "\n",
            "Dictionary after adding 3 elements: \n",
            "{0: 'value BİR', 2: 'value İKİ', 3: 1}\n"
          ]
        }
      ]
    },
    {
      "cell_type": "code",
      "source": [
        "del_name = 'Seko'\n",
        "print(\"All the information about '\",del_name, \"' has been deleted from database.\", sep=\"\")"
      ],
      "metadata": {
        "colab": {
          "base_uri": "https://localhost:8080/"
        },
        "id": "vhLiQshG4AjK",
        "outputId": "01132c35-24e9-450b-9ed6-868337b2d939"
      },
      "execution_count": null,
      "outputs": [
        {
          "output_type": "stream",
          "name": "stdout",
          "text": [
            "All the information about 'Seko' has been deleted from database.\n"
          ]
        }
      ]
    },
    {
      "cell_type": "code",
      "source": [
        "mylist = [*range(0,11)]\n",
        "#mylist=mylist.sort(reverse=True)\n",
        "mylist = mylist[::-1]\n",
        "print(mylist)"
      ],
      "metadata": {
        "colab": {
          "base_uri": "https://localhost:8080/"
        },
        "id": "Mqicj5sTULRw",
        "outputId": "e78040b4-4ca8-46a3-bc1c-cfbdfcf7cabd"
      },
      "execution_count": null,
      "outputs": [
        {
          "output_type": "stream",
          "name": "stdout",
          "text": [
            "[10, 9, 8, 7, 6, 5, 4, 3, 2, 1, 0]\n"
          ]
        }
      ]
    },
    {
      "cell_type": "code",
      "source": [
        "List = [\"aaa\", \"bbb\", \"ccc\", \"ddd\", \"eee\"]\n",
        "List[1:3:1] = [\"Carlos\"]\n",
        "print(\"with square brackets : \",List)\n",
        "List[1:3:1] = (\"Carlos\")\n",
        "print(\"with parenthesis : \",List)\n",
        "\n",
        "x = tuple(\"deneme\")\n",
        "print(x)"
      ],
      "metadata": {
        "colab": {
          "base_uri": "https://localhost:8080/"
        },
        "id": "gX98hRFMTY-4",
        "outputId": "7ebcabc0-3252-4e77-8fde-0cd366276b83"
      },
      "execution_count": null,
      "outputs": [
        {
          "output_type": "stream",
          "name": "stdout",
          "text": [
            "with square brackets :  ['aaa', 'Carlos', 'ddd', 'eee']\n",
            "with parenthesis :  ['aaa', 'C', 'a', 'r', 'l', 'o', 's', 'eee']\n",
            "('d', 'e', 'n', 'e', 'm', 'e')\n"
          ]
        }
      ]
    },
    {
      "cell_type": "code",
      "source": [
        "i = 4\n",
        "d = 4.0\n",
        "s = 'HackerRank '\n",
        "# Declare second integer, double, and String variables.\n",
        "\n",
        "# Read and save an integer, double, and String to your variables.\n",
        "i2 = int(input())\n",
        "d2 = float(input())\n",
        "s2 = input()\n",
        "#\"is the best place to learn and practice coding!\"\n",
        "# Print the sum of both integer variables on a new line.\n",
        "print(i+i2)\n",
        "# Print the sum of the double variables on a new line.\n",
        "print(d+d2)\n",
        "# Concatenate and print the String variables on a new line\n",
        "# The 's' variable above should be printed first.\n",
        "print(s + s2)"
      ],
      "metadata": {
        "colab": {
          "base_uri": "https://localhost:8080/"
        },
        "id": "FZ0hSeuiXCqa",
        "outputId": "cb0efe54-bac7-40b1-a17f-c6a6e11781b3"
      },
      "execution_count": null,
      "outputs": [
        {
          "output_type": "stream",
          "name": "stdout",
          "text": [
            "12\n",
            "8.0\n",
            "is the ...\n",
            "16\n",
            "12.0\n",
            "HackerRank is the ...\n"
          ]
        }
      ]
    },
    {
      "cell_type": "code",
      "source": [
        "n = int(input(\"Enter a number : \"))\n",
        "i=1\n",
        "while i<11:\n",
        "\tprint(n,\" x \",i,\" = \",n*i)\n",
        "\ti+=1"
      ],
      "metadata": {
        "id": "UYUTaA-1_Bcz"
      },
      "execution_count": null,
      "outputs": []
    },
    {
      "cell_type": "code",
      "source": [
        "import numpy as np\n",
        "import matplotlib.pyplot as plt\n",
        "\n",
        "x_coords = np.linspace(-200, 200, 600)\n",
        "y_coords = np.linspace(-200, 200, 600)\n",
        "heart_x = []\n",
        "heart_y = []\n",
        "for y in y_coords:\n",
        "    for x in x_coords:\n",
        "        if ((x*0.01)**2+(y*0.01)**2-1)**3-(x*0.01)**2*(y*0.01)**3 <= 0:\n",
        "            heart_x.append(x)\n",
        "            heart_y.append(y)\n",
        "            \n",
        "plt.scatter(heart_x, heart_y, c=\"red\")\n",
        "plt.axis('off')\n",
        "plt.show()"
      ],
      "metadata": {
        "id": "TBQoRObMbF5S",
        "outputId": "2277ba94-387b-44d9-903f-c76eb2d5c01b",
        "colab": {
          "base_uri": "https://localhost:8080/",
          "height": 248
        }
      },
      "execution_count": null,
      "outputs": [
        {
          "output_type": "display_data",
          "data": {
            "image/png": "[encoded data removed]",
            "text/plain": [
              "<Figure size 432x288 with 1 Axes>"
            ]
          },
          "metadata": {
            "needs_background": "light"
          }
        }
      ]
    },
    {
      "cell_type": "code",
      "source": [
        "lefts = list(\"QWERTASDFGZXCVB\")\n",
        "rights = list(\"YUIOPĞÜHJqwKLŞİNMÖÇ\")\n",
        "u_inp = str(input(\"Welcome!  Enter a word to see if it is a 'comfortable word' : \")).upper()\n",
        "only_left_c = 0\n",
        "only_right_c = 0\n",
        "both_hand = False\n",
        "for char in u_inp:\n",
        "\tif char in lefts:\n",
        "\t\tonly_left_c +=1\n",
        "\telif char in rights:\n",
        "\t\tonly_right_c +=1\n",
        "if only_left_c > 0:\n",
        "  if only_right_c > 0:\n",
        "  \tboth_hand = True\n",
        "print(both_hand)\n",
        "only_left_c = 0\n",
        "only_right_c = 0"
      ],
      "metadata": {
        "colab": {
          "base_uri": "https://localhost:8080/"
        },
        "id": "CuQNsfAJ8f-7",
        "outputId": "81f06778-38d8-446b-a559-cd9d21d9044f"
      },
      "execution_count": null,
      "outputs": [
        {
          "output_type": "stream",
          "name": "stdout",
          "text": [
            "Welcome!  Enter a word to see if it is a 'comfortable word' : şasdkıp\n",
            "True\n"
          ]
        }
      ]
    },
    {
      "cell_type": "code",
      "source": [
        "# import re\n",
        "\n",
        "word = list(input(\"Enter a word:\")) #.lower()\n",
        "kos\n",
        "left_hand = list(\"qwertasdfgzxcvb\")\n",
        "right_hand = list(\"yuıopğühjklşinmöç\")\n",
        "# left_hand = [\"q\", \"w\", \"e\", \"r\", \"t\", \"a\", \"s\", \"d\", \"f\", \"g\", \"z\", \"x\", \"c\", \"v\", \"b\"]\n",
        "# right_hand = [\"y\", \"u\", \"i\", \"o\", \"p\", \"h\", \"j\", \"k\", \"l\", \"n\", \"m\"]\n",
        "both=False\n",
        "for i in range(0,len(left_hand)):\n",
        "\n",
        "    for j in range(0,len(right_hand)):\n",
        "        if left_hand[i] in word:\n",
        "            if right_hand[j] in word:\n",
        "                both=True\n",
        "                break\n",
        "    break\n",
        "print(both)"
      ],
      "metadata": {
        "id": "I6FbhRfeBR-L",
        "colab": {
          "base_uri": "https://localhost:8080/"
        },
        "outputId": "ff426703-9d98-443c-e626-cb97fd111f02"
      },
      "execution_count": null,
      "outputs": [
        {
          "output_type": "stream",
          "name": "stdout",
          "text": [
            "Enter a word:qmqm\n",
            "True\n"
          ]
        }
      ]
    },
    {
      "cell_type": "code",
      "source": [
        "word = list(input(\"Enter a word:\"))\n",
        "left_hand = list(\"qwertasdfgzxcvb\")\n",
        "right_hand = list(\"yuıopğühjklşinmöç\")\n",
        "print(left_hand,\"\\n\",right_hand)\n",
        "flag = False\n",
        "\n",
        "for i in range(0,len(left_hand)):\n",
        "    for j in range(0,len(right_hand)):\n",
        "        if left_hand[i] in word:\n",
        "            if right_hand[j] in word:\n",
        "                flag = True\n",
        "                break\n",
        "    break\n",
        "\n",
        "print(flag)"
      ],
      "metadata": {
        "colab": {
          "base_uri": "https://localhost:8080/"
        },
        "id": "84PTRheCNUEc",
        "outputId": "81731717-4bbf-4d1e-a8f4-f691a29a53e7"
      },
      "execution_count": null,
      "outputs": [
        {
          "output_type": "stream",
          "name": "stdout",
          "text": [
            "Enter a word:apap\n",
            "['q', 'w', 'e', 'r', 't', 'a', 's', 'd', 'f', 'g', 'z', 'x', 'c', 'v', 'b'] \n",
            " ['y', 'u', 'ı', 'o', 'p', 'ğ', 'ü', 'h', 'j', 'k', 'l', 'ş', 'i', 'n', 'm', 'ö', 'ç']\n",
            "False\n"
          ]
        }
      ]
    }
  ]
}
